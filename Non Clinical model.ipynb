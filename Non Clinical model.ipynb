{
 "cells": [
  {
   "cell_type": "markdown",
   "metadata": {},
   "source": [
    "## 2019 Diabetes Dataset Survey"
   ]
  },
  {
   "cell_type": "markdown",
   "metadata": {},
   "source": [
    "Task:\n",
    "    \n",
    "    1. naive bayes algorithm and KNN try. Add performance metrics. Research paper minimum 5.\n",
    "    2. implemntation process starts: ----> using input find whether diabetic or not \n",
    "    3. next dataset graph n relation to importance with diabetes"
   ]
  },
  {
   "cell_type": "markdown",
   "metadata": {
    "tags": []
   },
   "source": [
    "## About the Dataset"
   ]
  },
  {
   "cell_type": "markdown",
   "metadata": {},
   "source": [
    "### Importing necessary libraries"
   ]
  },
  {
   "cell_type": "code",
   "execution_count": 1,
   "metadata": {},
   "outputs": [],
   "source": [
    "import numpy as np\n",
    "import seaborn as sns\n",
    "import math\n",
    "import pandas as pd\n",
    "from sklearn.model_selection import train_test_split\n",
    "from sklearn import svm\n",
    "from sklearn.metrics import accuracy_score\n",
    "from sklearn.metrics import accuracy_score, precision_score, recall_score, f1_score, roc_auc_score, roc_curve, auc\n",
    "import matplotlib.pyplot as plt\n",
    "from sklearn.metrics import average_precision_score\n",
    "from sklearn.metrics import precision_recall_curve"
   ]
  },
  {
   "cell_type": "code",
   "execution_count": 2,
   "metadata": {},
   "outputs": [],
   "source": [
    "diabetes_data = pd.read_csv(\"diabetes_dataset__2019.csv\")"
   ]
  },
  {
   "cell_type": "code",
   "execution_count": 3,
   "metadata": {},
   "outputs": [
    {
     "data": {
      "text/html": [
       "<div>\n",
       "<style scoped>\n",
       "    .dataframe tbody tr th:only-of-type {\n",
       "        vertical-align: middle;\n",
       "    }\n",
       "\n",
       "    .dataframe tbody tr th {\n",
       "        vertical-align: top;\n",
       "    }\n",
       "\n",
       "    .dataframe thead th {\n",
       "        text-align: right;\n",
       "    }\n",
       "</style>\n",
       "<table border=\"1\" class=\"dataframe\">\n",
       "  <thead>\n",
       "    <tr style=\"text-align: right;\">\n",
       "      <th></th>\n",
       "      <th>Age</th>\n",
       "      <th>Gender</th>\n",
       "      <th>Family_Diabetes</th>\n",
       "      <th>highBP</th>\n",
       "      <th>PhysicallyActive</th>\n",
       "      <th>BMI</th>\n",
       "      <th>Smoking</th>\n",
       "      <th>Alcohol</th>\n",
       "      <th>Sleep</th>\n",
       "      <th>SoundSleep</th>\n",
       "      <th>RegularMedicine</th>\n",
       "      <th>JunkFood</th>\n",
       "      <th>Stress</th>\n",
       "      <th>BPLevel</th>\n",
       "      <th>Pregancies</th>\n",
       "      <th>Pdiabetes</th>\n",
       "      <th>UriationFreq</th>\n",
       "      <th>Diabetic</th>\n",
       "    </tr>\n",
       "  </thead>\n",
       "  <tbody>\n",
       "    <tr>\n",
       "      <th>0</th>\n",
       "      <td>50-59</td>\n",
       "      <td>Male</td>\n",
       "      <td>no</td>\n",
       "      <td>yes</td>\n",
       "      <td>one hr or more</td>\n",
       "      <td>39.0</td>\n",
       "      <td>no</td>\n",
       "      <td>no</td>\n",
       "      <td>8</td>\n",
       "      <td>6</td>\n",
       "      <td>no</td>\n",
       "      <td>occasionally</td>\n",
       "      <td>sometimes</td>\n",
       "      <td>high</td>\n",
       "      <td>0.0</td>\n",
       "      <td>0</td>\n",
       "      <td>not much</td>\n",
       "      <td>no</td>\n",
       "    </tr>\n",
       "    <tr>\n",
       "      <th>1</th>\n",
       "      <td>50-59</td>\n",
       "      <td>Male</td>\n",
       "      <td>no</td>\n",
       "      <td>yes</td>\n",
       "      <td>less than half an hr</td>\n",
       "      <td>28.0</td>\n",
       "      <td>no</td>\n",
       "      <td>no</td>\n",
       "      <td>8</td>\n",
       "      <td>6</td>\n",
       "      <td>yes</td>\n",
       "      <td>very often</td>\n",
       "      <td>sometimes</td>\n",
       "      <td>normal</td>\n",
       "      <td>0.0</td>\n",
       "      <td>0</td>\n",
       "      <td>not much</td>\n",
       "      <td>no</td>\n",
       "    </tr>\n",
       "    <tr>\n",
       "      <th>2</th>\n",
       "      <td>40-49</td>\n",
       "      <td>Male</td>\n",
       "      <td>no</td>\n",
       "      <td>no</td>\n",
       "      <td>one hr or more</td>\n",
       "      <td>24.0</td>\n",
       "      <td>no</td>\n",
       "      <td>no</td>\n",
       "      <td>6</td>\n",
       "      <td>6</td>\n",
       "      <td>no</td>\n",
       "      <td>occasionally</td>\n",
       "      <td>sometimes</td>\n",
       "      <td>normal</td>\n",
       "      <td>0.0</td>\n",
       "      <td>0</td>\n",
       "      <td>not much</td>\n",
       "      <td>no</td>\n",
       "    </tr>\n",
       "    <tr>\n",
       "      <th>3</th>\n",
       "      <td>50-59</td>\n",
       "      <td>Male</td>\n",
       "      <td>no</td>\n",
       "      <td>no</td>\n",
       "      <td>one hr or more</td>\n",
       "      <td>23.0</td>\n",
       "      <td>no</td>\n",
       "      <td>no</td>\n",
       "      <td>8</td>\n",
       "      <td>6</td>\n",
       "      <td>no</td>\n",
       "      <td>occasionally</td>\n",
       "      <td>sometimes</td>\n",
       "      <td>normal</td>\n",
       "      <td>0.0</td>\n",
       "      <td>0</td>\n",
       "      <td>not much</td>\n",
       "      <td>no</td>\n",
       "    </tr>\n",
       "    <tr>\n",
       "      <th>4</th>\n",
       "      <td>40-49</td>\n",
       "      <td>Male</td>\n",
       "      <td>no</td>\n",
       "      <td>no</td>\n",
       "      <td>less than half an hr</td>\n",
       "      <td>27.0</td>\n",
       "      <td>no</td>\n",
       "      <td>no</td>\n",
       "      <td>8</td>\n",
       "      <td>8</td>\n",
       "      <td>no</td>\n",
       "      <td>occasionally</td>\n",
       "      <td>sometimes</td>\n",
       "      <td>normal</td>\n",
       "      <td>0.0</td>\n",
       "      <td>0</td>\n",
       "      <td>not much</td>\n",
       "      <td>no</td>\n",
       "    </tr>\n",
       "  </tbody>\n",
       "</table>\n",
       "</div>"
      ],
      "text/plain": [
       "     Age Gender Family_Diabetes highBP      PhysicallyActive   BMI Smoking  \\\n",
       "0  50-59   Male              no    yes        one hr or more  39.0      no   \n",
       "1  50-59   Male              no    yes  less than half an hr  28.0      no   \n",
       "2  40-49   Male              no     no        one hr or more  24.0      no   \n",
       "3  50-59   Male              no     no        one hr or more  23.0      no   \n",
       "4  40-49   Male              no     no  less than half an hr  27.0      no   \n",
       "\n",
       "  Alcohol  Sleep  SoundSleep RegularMedicine      JunkFood     Stress BPLevel  \\\n",
       "0      no      8           6              no  occasionally  sometimes    high   \n",
       "1      no      8           6             yes    very often  sometimes  normal   \n",
       "2      no      6           6              no  occasionally  sometimes  normal   \n",
       "3      no      8           6              no  occasionally  sometimes  normal   \n",
       "4      no      8           8              no  occasionally  sometimes  normal   \n",
       "\n",
       "   Pregancies Pdiabetes UriationFreq Diabetic  \n",
       "0         0.0         0     not much       no  \n",
       "1         0.0         0     not much       no  \n",
       "2         0.0         0     not much       no  \n",
       "3         0.0         0     not much       no  \n",
       "4         0.0         0     not much       no  "
      ]
     },
     "execution_count": 3,
     "metadata": {},
     "output_type": "execute_result"
    }
   ],
   "source": [
    "diabetes_data.head()"
   ]
  },
  {
   "cell_type": "code",
   "execution_count": 4,
   "metadata": {},
   "outputs": [
    {
     "data": {
      "text/plain": [
       "(952, 18)"
      ]
     },
     "execution_count": 4,
     "metadata": {},
     "output_type": "execute_result"
    }
   ],
   "source": [
    "diabetes_data.shape"
   ]
  },
  {
   "cell_type": "code",
   "execution_count": 5,
   "metadata": {},
   "outputs": [
    {
     "data": {
      "text/plain": [
       "<bound method NDFrame.describe of               Age  Gender Family_Diabetes highBP      PhysicallyActive   BMI  \\\n",
       "0           50-59    Male              no    yes        one hr or more  39.0   \n",
       "1           50-59    Male              no    yes  less than half an hr  28.0   \n",
       "2           40-49    Male              no     no        one hr or more  24.0   \n",
       "3           50-59    Male              no     no        one hr or more  23.0   \n",
       "4           40-49    Male              no     no  less than half an hr  27.0   \n",
       "..            ...     ...             ...    ...                   ...   ...   \n",
       "947  less than 40    Male             yes     no  more than half an hr  25.0   \n",
       "948   60 or older    Male             yes    yes  more than half an hr  27.0   \n",
       "949   60 or older    Male              no    yes                  none  23.0   \n",
       "950   60 or older    Male              no    yes  less than half an hr  27.0   \n",
       "951   60 or older  Female             yes    yes        one hr or more  30.0   \n",
       "\n",
       "    Smoking Alcohol  Sleep  SoundSleep RegularMedicine      JunkFood  \\\n",
       "0        no      no      8           6              no  occasionally   \n",
       "1        no      no      8           6             yes    very often   \n",
       "2        no      no      6           6              no  occasionally   \n",
       "3        no      no      8           6              no  occasionally   \n",
       "4        no      no      8           8              no  occasionally   \n",
       "..      ...     ...    ...         ...             ...           ...   \n",
       "947      no      no      8           6              no         often   \n",
       "948      no      no      6           5             yes  occasionally   \n",
       "949      no      no      6           5             yes  occasionally   \n",
       "950      no     yes      6           5             yes  occasionally   \n",
       "951      no      no      7           4             yes  occasionally   \n",
       "\n",
       "         Stress BPLevel  Pregancies Pdiabetes UriationFreq Diabetic  \n",
       "0     sometimes    high         0.0         0     not much       no  \n",
       "1     sometimes  normal         0.0         0     not much       no  \n",
       "2     sometimes  normal         0.0         0     not much       no  \n",
       "3     sometimes  normal         0.0         0     not much       no  \n",
       "4     sometimes  normal         0.0         0     not much       no  \n",
       "..          ...     ...         ...       ...          ...      ...  \n",
       "947   sometimes  normal         0.0         0     not much      yes  \n",
       "948   sometimes    high         0.0         0  quite often      yes  \n",
       "949   sometimes    high         0.0         0     not much       no  \n",
       "950  very often    high         0.0         0     not much       no  \n",
       "951   sometimes    high         2.0         0  quite often      yes  \n",
       "\n",
       "[952 rows x 18 columns]>"
      ]
     },
     "execution_count": 5,
     "metadata": {},
     "output_type": "execute_result"
    }
   ],
   "source": [
    "diabetes_data.describe"
   ]
  },
  {
   "cell_type": "code",
   "execution_count": 6,
   "metadata": {},
   "outputs": [
    {
     "data": {
      "text/plain": [
       "Index(['Age', 'Gender', 'Family_Diabetes', 'highBP', 'PhysicallyActive', 'BMI',\n",
       "       'Smoking', 'Alcohol', 'Sleep', 'SoundSleep', 'RegularMedicine',\n",
       "       'JunkFood', 'Stress', 'BPLevel', 'Pregancies', 'Pdiabetes',\n",
       "       'UriationFreq', 'Diabetic'],\n",
       "      dtype='object')"
      ]
     },
     "execution_count": 6,
     "metadata": {},
     "output_type": "execute_result"
    }
   ],
   "source": [
    "diabetes_data.columns"
   ]
  },
  {
   "cell_type": "markdown",
   "metadata": {},
   "source": [
    "### Column Description"
   ]
  },
  {
   "cell_type": "code",
   "execution_count": 7,
   "metadata": {},
   "outputs": [
    {
     "data": {
      "text/plain": [
       "Diabetic\n",
       "no     684\n",
       "yes    266\n",
       " no      1\n",
       "Name: count, dtype: int64"
      ]
     },
     "execution_count": 7,
     "metadata": {},
     "output_type": "execute_result"
    }
   ],
   "source": [
    "diabetes_data['Diabetic'].value_counts()"
   ]
  },
  {
   "cell_type": "code",
   "execution_count": 8,
   "metadata": {},
   "outputs": [],
   "source": [
    "#diabetes_data.groupby('Diabetic').mean()"
   ]
  },
  {
   "cell_type": "markdown",
   "metadata": {},
   "source": [
    "### Imputing the NaN values"
   ]
  },
  {
   "cell_type": "code",
   "execution_count": 9,
   "metadata": {},
   "outputs": [],
   "source": [
    "from sklearn.impute import SimpleImputer\n",
    "imp_mode = SimpleImputer(missing_values=np.nan, strategy='most_frequent')"
   ]
  },
  {
   "cell_type": "code",
   "execution_count": 10,
   "metadata": {
    "scrolled": true
   },
   "outputs": [
    {
     "data": {
      "text/html": [
       "<div>\n",
       "<style scoped>\n",
       "    .dataframe tbody tr th:only-of-type {\n",
       "        vertical-align: middle;\n",
       "    }\n",
       "\n",
       "    .dataframe tbody tr th {\n",
       "        vertical-align: top;\n",
       "    }\n",
       "\n",
       "    .dataframe thead th {\n",
       "        text-align: right;\n",
       "    }\n",
       "</style>\n",
       "<table border=\"1\" class=\"dataframe\">\n",
       "  <thead>\n",
       "    <tr style=\"text-align: right;\">\n",
       "      <th></th>\n",
       "      <th>Age</th>\n",
       "      <th>Gender</th>\n",
       "      <th>Family_Diabetes</th>\n",
       "      <th>highBP</th>\n",
       "      <th>PhysicallyActive</th>\n",
       "      <th>BMI</th>\n",
       "      <th>Smoking</th>\n",
       "      <th>Alcohol</th>\n",
       "      <th>Sleep</th>\n",
       "      <th>SoundSleep</th>\n",
       "      <th>RegularMedicine</th>\n",
       "      <th>JunkFood</th>\n",
       "      <th>Stress</th>\n",
       "      <th>BPLevel</th>\n",
       "      <th>Pregancies</th>\n",
       "      <th>Pdiabetes</th>\n",
       "      <th>UriationFreq</th>\n",
       "      <th>Diabetic</th>\n",
       "    </tr>\n",
       "  </thead>\n",
       "  <tbody>\n",
       "    <tr>\n",
       "      <th>0</th>\n",
       "      <td>50-59</td>\n",
       "      <td>Male</td>\n",
       "      <td>no</td>\n",
       "      <td>yes</td>\n",
       "      <td>one hr or more</td>\n",
       "      <td>39.0</td>\n",
       "      <td>no</td>\n",
       "      <td>no</td>\n",
       "      <td>8</td>\n",
       "      <td>6</td>\n",
       "      <td>no</td>\n",
       "      <td>occasionally</td>\n",
       "      <td>sometimes</td>\n",
       "      <td>high</td>\n",
       "      <td>0.0</td>\n",
       "      <td>0</td>\n",
       "      <td>not much</td>\n",
       "      <td>no</td>\n",
       "    </tr>\n",
       "    <tr>\n",
       "      <th>1</th>\n",
       "      <td>50-59</td>\n",
       "      <td>Male</td>\n",
       "      <td>no</td>\n",
       "      <td>yes</td>\n",
       "      <td>less than half an hr</td>\n",
       "      <td>28.0</td>\n",
       "      <td>no</td>\n",
       "      <td>no</td>\n",
       "      <td>8</td>\n",
       "      <td>6</td>\n",
       "      <td>yes</td>\n",
       "      <td>very often</td>\n",
       "      <td>sometimes</td>\n",
       "      <td>normal</td>\n",
       "      <td>0.0</td>\n",
       "      <td>0</td>\n",
       "      <td>not much</td>\n",
       "      <td>no</td>\n",
       "    </tr>\n",
       "    <tr>\n",
       "      <th>2</th>\n",
       "      <td>40-49</td>\n",
       "      <td>Male</td>\n",
       "      <td>no</td>\n",
       "      <td>no</td>\n",
       "      <td>one hr or more</td>\n",
       "      <td>24.0</td>\n",
       "      <td>no</td>\n",
       "      <td>no</td>\n",
       "      <td>6</td>\n",
       "      <td>6</td>\n",
       "      <td>no</td>\n",
       "      <td>occasionally</td>\n",
       "      <td>sometimes</td>\n",
       "      <td>normal</td>\n",
       "      <td>0.0</td>\n",
       "      <td>0</td>\n",
       "      <td>not much</td>\n",
       "      <td>no</td>\n",
       "    </tr>\n",
       "    <tr>\n",
       "      <th>3</th>\n",
       "      <td>50-59</td>\n",
       "      <td>Male</td>\n",
       "      <td>no</td>\n",
       "      <td>no</td>\n",
       "      <td>one hr or more</td>\n",
       "      <td>23.0</td>\n",
       "      <td>no</td>\n",
       "      <td>no</td>\n",
       "      <td>8</td>\n",
       "      <td>6</td>\n",
       "      <td>no</td>\n",
       "      <td>occasionally</td>\n",
       "      <td>sometimes</td>\n",
       "      <td>normal</td>\n",
       "      <td>0.0</td>\n",
       "      <td>0</td>\n",
       "      <td>not much</td>\n",
       "      <td>no</td>\n",
       "    </tr>\n",
       "    <tr>\n",
       "      <th>4</th>\n",
       "      <td>40-49</td>\n",
       "      <td>Male</td>\n",
       "      <td>no</td>\n",
       "      <td>no</td>\n",
       "      <td>less than half an hr</td>\n",
       "      <td>27.0</td>\n",
       "      <td>no</td>\n",
       "      <td>no</td>\n",
       "      <td>8</td>\n",
       "      <td>8</td>\n",
       "      <td>no</td>\n",
       "      <td>occasionally</td>\n",
       "      <td>sometimes</td>\n",
       "      <td>normal</td>\n",
       "      <td>0.0</td>\n",
       "      <td>0</td>\n",
       "      <td>not much</td>\n",
       "      <td>no</td>\n",
       "    </tr>\n",
       "  </tbody>\n",
       "</table>\n",
       "</div>"
      ],
      "text/plain": [
       "     Age Gender Family_Diabetes highBP      PhysicallyActive   BMI Smoking  \\\n",
       "0  50-59   Male              no    yes        one hr or more  39.0      no   \n",
       "1  50-59   Male              no    yes  less than half an hr  28.0      no   \n",
       "2  40-49   Male              no     no        one hr or more  24.0      no   \n",
       "3  50-59   Male              no     no        one hr or more  23.0      no   \n",
       "4  40-49   Male              no     no  less than half an hr  27.0      no   \n",
       "\n",
       "  Alcohol Sleep SoundSleep RegularMedicine      JunkFood     Stress BPLevel  \\\n",
       "0      no     8          6              no  occasionally  sometimes    high   \n",
       "1      no     8          6             yes    very often  sometimes  normal   \n",
       "2      no     6          6              no  occasionally  sometimes  normal   \n",
       "3      no     8          6              no  occasionally  sometimes  normal   \n",
       "4      no     8          8              no  occasionally  sometimes  normal   \n",
       "\n",
       "  Pregancies Pdiabetes UriationFreq Diabetic  \n",
       "0        0.0         0     not much       no  \n",
       "1        0.0         0     not much       no  \n",
       "2        0.0         0     not much       no  \n",
       "3        0.0         0     not much       no  \n",
       "4        0.0         0     not much       no  "
      ]
     },
     "execution_count": 10,
     "metadata": {},
     "output_type": "execute_result"
    }
   ],
   "source": [
    "diabetes_imputed = pd.DataFrame(imp_mode.fit_transform(diabetes_data))\n",
    "diabetes_imputed.columns = diabetes_data.columns\n",
    "diabetes_imputed.head()"
   ]
  },
  {
   "cell_type": "code",
   "execution_count": 11,
   "metadata": {},
   "outputs": [
    {
     "data": {
      "text/plain": [
       "Age                 0\n",
       "Gender              0\n",
       "Family_Diabetes     0\n",
       "highBP              0\n",
       "PhysicallyActive    0\n",
       "BMI                 0\n",
       "Smoking             0\n",
       "Alcohol             0\n",
       "Sleep               0\n",
       "SoundSleep          0\n",
       "RegularMedicine     0\n",
       "JunkFood            0\n",
       "Stress              0\n",
       "BPLevel             0\n",
       "Pregancies          0\n",
       "Pdiabetes           0\n",
       "UriationFreq        0\n",
       "Diabetic            0\n",
       "dtype: int64"
      ]
     },
     "execution_count": 11,
     "metadata": {},
     "output_type": "execute_result"
    }
   ],
   "source": [
    "diabetes_imputed.isnull().sum()"
   ]
  },
  {
   "cell_type": "code",
   "execution_count": 12,
   "metadata": {},
   "outputs": [
    {
     "data": {
      "text/plain": [
       "0       no\n",
       "1       no\n",
       "2       no\n",
       "3       no\n",
       "4       no\n",
       "      ... \n",
       "947    yes\n",
       "948    yes\n",
       "949     no\n",
       "950     no\n",
       "951    yes\n",
       "Name: Diabetic, Length: 952, dtype: object"
      ]
     },
     "execution_count": 12,
     "metadata": {},
     "output_type": "execute_result"
    }
   ],
   "source": [
    "diabetes_imputed['Diabetic']"
   ]
  },
  {
   "cell_type": "markdown",
   "metadata": {},
   "source": [
    "### LABEL ENCODING"
   ]
  },
  {
   "cell_type": "code",
   "execution_count": 13,
   "metadata": {},
   "outputs": [
    {
     "data": {
      "text/plain": [
       "0       no\n",
       "1       no\n",
       "2       no\n",
       "3       no\n",
       "4       no\n",
       "      ... \n",
       "947    yes\n",
       "948    yes\n",
       "949     no\n",
       "950     no\n",
       "951    yes\n",
       "Name: Diabetic, Length: 952, dtype: object"
      ]
     },
     "execution_count": 13,
     "metadata": {},
     "output_type": "execute_result"
    }
   ],
   "source": [
    "diabetes_imputed['Diabetic']"
   ]
  },
  {
   "cell_type": "code",
   "execution_count": 14,
   "metadata": {},
   "outputs": [],
   "source": [
    "from sklearn.preprocessing import LabelEncoder"
   ]
  },
  {
   "cell_type": "code",
   "execution_count": 15,
   "metadata": {},
   "outputs": [],
   "source": [
    "le = LabelEncoder()"
   ]
  },
  {
   "cell_type": "code",
   "execution_count": 16,
   "metadata": {},
   "outputs": [
    {
     "data": {
      "text/html": [
       "<style>#sk-container-id-1 {color: black;}#sk-container-id-1 pre{padding: 0;}#sk-container-id-1 div.sk-toggleable {background-color: white;}#sk-container-id-1 label.sk-toggleable__label {cursor: pointer;display: block;width: 100%;margin-bottom: 0;padding: 0.3em;box-sizing: border-box;text-align: center;}#sk-container-id-1 label.sk-toggleable__label-arrow:before {content: \"▸\";float: left;margin-right: 0.25em;color: #696969;}#sk-container-id-1 label.sk-toggleable__label-arrow:hover:before {color: black;}#sk-container-id-1 div.sk-estimator:hover label.sk-toggleable__label-arrow:before {color: black;}#sk-container-id-1 div.sk-toggleable__content {max-height: 0;max-width: 0;overflow: hidden;text-align: left;background-color: #f0f8ff;}#sk-container-id-1 div.sk-toggleable__content pre {margin: 0.2em;color: black;border-radius: 0.25em;background-color: #f0f8ff;}#sk-container-id-1 input.sk-toggleable__control:checked~div.sk-toggleable__content {max-height: 200px;max-width: 100%;overflow: auto;}#sk-container-id-1 input.sk-toggleable__control:checked~label.sk-toggleable__label-arrow:before {content: \"▾\";}#sk-container-id-1 div.sk-estimator input.sk-toggleable__control:checked~label.sk-toggleable__label {background-color: #d4ebff;}#sk-container-id-1 div.sk-label input.sk-toggleable__control:checked~label.sk-toggleable__label {background-color: #d4ebff;}#sk-container-id-1 input.sk-hidden--visually {border: 0;clip: rect(1px 1px 1px 1px);clip: rect(1px, 1px, 1px, 1px);height: 1px;margin: -1px;overflow: hidden;padding: 0;position: absolute;width: 1px;}#sk-container-id-1 div.sk-estimator {font-family: monospace;background-color: #f0f8ff;border: 1px dotted black;border-radius: 0.25em;box-sizing: border-box;margin-bottom: 0.5em;}#sk-container-id-1 div.sk-estimator:hover {background-color: #d4ebff;}#sk-container-id-1 div.sk-parallel-item::after {content: \"\";width: 100%;border-bottom: 1px solid gray;flex-grow: 1;}#sk-container-id-1 div.sk-label:hover label.sk-toggleable__label {background-color: #d4ebff;}#sk-container-id-1 div.sk-serial::before {content: \"\";position: absolute;border-left: 1px solid gray;box-sizing: border-box;top: 0;bottom: 0;left: 50%;z-index: 0;}#sk-container-id-1 div.sk-serial {display: flex;flex-direction: column;align-items: center;background-color: white;padding-right: 0.2em;padding-left: 0.2em;position: relative;}#sk-container-id-1 div.sk-item {position: relative;z-index: 1;}#sk-container-id-1 div.sk-parallel {display: flex;align-items: stretch;justify-content: center;background-color: white;position: relative;}#sk-container-id-1 div.sk-item::before, #sk-container-id-1 div.sk-parallel-item::before {content: \"\";position: absolute;border-left: 1px solid gray;box-sizing: border-box;top: 0;bottom: 0;left: 50%;z-index: -1;}#sk-container-id-1 div.sk-parallel-item {display: flex;flex-direction: column;z-index: 1;position: relative;background-color: white;}#sk-container-id-1 div.sk-parallel-item:first-child::after {align-self: flex-end;width: 50%;}#sk-container-id-1 div.sk-parallel-item:last-child::after {align-self: flex-start;width: 50%;}#sk-container-id-1 div.sk-parallel-item:only-child::after {width: 0;}#sk-container-id-1 div.sk-dashed-wrapped {border: 1px dashed gray;margin: 0 0.4em 0.5em 0.4em;box-sizing: border-box;padding-bottom: 0.4em;background-color: white;}#sk-container-id-1 div.sk-label label {font-family: monospace;font-weight: bold;display: inline-block;line-height: 1.2em;}#sk-container-id-1 div.sk-label-container {text-align: center;}#sk-container-id-1 div.sk-container {/* jupyter's `normalize.less` sets `[hidden] { display: none; }` but bootstrap.min.css set `[hidden] { display: none !important; }` so we also need the `!important` here to be able to override the default hidden behavior on the sphinx rendered scikit-learn.org. See: https://github.com/scikit-learn/scikit-learn/issues/21755 */display: inline-block !important;position: relative;}#sk-container-id-1 div.sk-text-repr-fallback {display: none;}</style><div id=\"sk-container-id-1\" class=\"sk-top-container\"><div class=\"sk-text-repr-fallback\"><pre>LabelEncoder()</pre><b>In a Jupyter environment, please rerun this cell to show the HTML representation or trust the notebook. <br />On GitHub, the HTML representation is unable to render, please try loading this page with nbviewer.org.</b></div><div class=\"sk-container\" hidden><div class=\"sk-item\"><div class=\"sk-estimator sk-toggleable\"><input class=\"sk-toggleable__control sk-hidden--visually\" id=\"sk-estimator-id-1\" type=\"checkbox\" checked><label for=\"sk-estimator-id-1\" class=\"sk-toggleable__label sk-toggleable__label-arrow\">LabelEncoder</label><div class=\"sk-toggleable__content\"><pre>LabelEncoder()</pre></div></div></div></div></div>"
      ],
      "text/plain": [
       "LabelEncoder()"
      ]
     },
     "execution_count": 16,
     "metadata": {},
     "output_type": "execute_result"
    }
   ],
   "source": [
    "le.fit(diabetes_imputed['Diabetic'])"
   ]
  },
  {
   "cell_type": "code",
   "execution_count": 17,
   "metadata": {},
   "outputs": [],
   "source": [
    "diabetes_imputed['Diabetic'] = le.transform(diabetes_imputed['Diabetic'])"
   ]
  },
  {
   "cell_type": "code",
   "execution_count": 18,
   "metadata": {},
   "outputs": [
    {
     "data": {
      "text/plain": [
       "0      1\n",
       "1      1\n",
       "2      1\n",
       "3      1\n",
       "4      1\n",
       "      ..\n",
       "947    2\n",
       "948    2\n",
       "949    1\n",
       "950    1\n",
       "951    2\n",
       "Name: Diabetic, Length: 952, dtype: int32"
      ]
     },
     "execution_count": 18,
     "metadata": {},
     "output_type": "execute_result"
    }
   ],
   "source": [
    "diabetes_imputed['Diabetic']"
   ]
  },
  {
   "cell_type": "code",
   "execution_count": 19,
   "metadata": {},
   "outputs": [],
   "source": [
    "#diabetes_imputed['Diabetic'].replace('2','0', inplace=True)"
   ]
  },
  {
   "cell_type": "code",
   "execution_count": 20,
   "metadata": {},
   "outputs": [
    {
     "name": "stdout",
     "output_type": "stream",
     "text": [
      "              Age  Gender Family_Diabetes highBP      PhysicallyActive   BMI  \\\n",
      "0           50-59    Male              no    yes        one hr or more  39.0   \n",
      "1           50-59    Male              no    yes  less than half an hr  28.0   \n",
      "2           40-49    Male              no     no        one hr or more  24.0   \n",
      "3           50-59    Male              no     no        one hr or more  23.0   \n",
      "4           40-49    Male              no     no  less than half an hr  27.0   \n",
      "..            ...     ...             ...    ...                   ...   ...   \n",
      "947  less than 40    Male             yes     no  more than half an hr  25.0   \n",
      "948   60 or older    Male             yes    yes  more than half an hr  27.0   \n",
      "949   60 or older    Male              no    yes                  none  23.0   \n",
      "950   60 or older    Male              no    yes  less than half an hr  27.0   \n",
      "951   60 or older  Female             yes    yes        one hr or more  30.0   \n",
      "\n",
      "    Smoking Alcohol Sleep SoundSleep RegularMedicine      JunkFood  \\\n",
      "0        no      no     8          6              no  occasionally   \n",
      "1        no      no     8          6             yes    very often   \n",
      "2        no      no     6          6              no  occasionally   \n",
      "3        no      no     8          6              no  occasionally   \n",
      "4        no      no     8          8              no  occasionally   \n",
      "..      ...     ...   ...        ...             ...           ...   \n",
      "947      no      no     8          6              no         often   \n",
      "948      no      no     6          5             yes  occasionally   \n",
      "949      no      no     6          5             yes  occasionally   \n",
      "950      no     yes     6          5             yes  occasionally   \n",
      "951      no      no     7          4             yes  occasionally   \n",
      "\n",
      "         Stress BPLevel Pregancies Pdiabetes UriationFreq  Diabetic  \n",
      "0     sometimes    high        0.0         0     not much         1  \n",
      "1     sometimes  normal        0.0         0     not much         1  \n",
      "2     sometimes  normal        0.0         0     not much         1  \n",
      "3     sometimes  normal        0.0         0     not much         1  \n",
      "4     sometimes  normal        0.0         0     not much         1  \n",
      "..          ...     ...        ...       ...          ...       ...  \n",
      "947   sometimes  normal        0.0         0     not much         2  \n",
      "948   sometimes    high        0.0         0  quite often         2  \n",
      "949   sometimes    high        0.0         0     not much         1  \n",
      "950  very often    high        0.0         0     not much         1  \n",
      "951   sometimes    high        2.0         0  quite often         2  \n",
      "\n",
      "[951 rows x 18 columns]\n"
     ]
    }
   ],
   "source": [
    "diabetes_imputed = pd.DataFrame(diabetes_imputed)\n",
    "\n",
    "# Drop rows where 'Column_Name' equals 'value_to_drop'\n",
    "diabetes_imputed = diabetes_imputed[diabetes_imputed['Diabetic'] != 0]\n",
    "\n",
    "# Display the modified DataFrame\n",
    "print(diabetes_imputed)"
   ]
  },
  {
   "cell_type": "markdown",
   "metadata": {},
   "source": [
    "#### 1 represents a NO (Person is not diabetic)\n",
    "\n",
    "#### 2 represents a YES (Person is diabetic)"
   ]
  },
  {
   "cell_type": "code",
   "execution_count": 21,
   "metadata": {},
   "outputs": [
    {
     "data": {
      "text/plain": [
       "{15.0,\n",
       " 17.0,\n",
       " 18.0,\n",
       " 19.0,\n",
       " 20.0,\n",
       " 21.0,\n",
       " 22.0,\n",
       " 23.0,\n",
       " 24.0,\n",
       " 25.0,\n",
       " 26.0,\n",
       " 27.0,\n",
       " 28.0,\n",
       " 29.0,\n",
       " 30.0,\n",
       " 31.0,\n",
       " 32.0,\n",
       " 33.0,\n",
       " 34.0,\n",
       " 35.0,\n",
       " 36.0,\n",
       " 38.0,\n",
       " 39.0,\n",
       " 40.0,\n",
       " 42.0,\n",
       " 45.0}"
      ]
     },
     "execution_count": 21,
     "metadata": {},
     "output_type": "execute_result"
    }
   ],
   "source": [
    "set(diabetes_imputed['BMI'].tolist())"
   ]
  },
  {
   "cell_type": "code",
   "execution_count": 22,
   "metadata": {},
   "outputs": [
    {
     "data": {
      "text/plain": [
       "{nan,\n",
       " 15.0,\n",
       " 17.0,\n",
       " 18.0,\n",
       " 19.0,\n",
       " 20.0,\n",
       " 21.0,\n",
       " 22.0,\n",
       " 23.0,\n",
       " 24.0,\n",
       " 25.0,\n",
       " 26.0,\n",
       " 27.0,\n",
       " 28.0,\n",
       " 29.0,\n",
       " 30.0,\n",
       " 31.0,\n",
       " 32.0,\n",
       " 33.0,\n",
       " 34.0,\n",
       " 35.0,\n",
       " 36.0,\n",
       " 38.0,\n",
       " 39.0,\n",
       " 40.0,\n",
       " 42.0,\n",
       " 45.0,\n",
       " nan,\n",
       " nan,\n",
       " nan}"
      ]
     },
     "execution_count": 22,
     "metadata": {},
     "output_type": "execute_result"
    }
   ],
   "source": [
    "set(diabetes_data['BMI'].tolist())"
   ]
  },
  {
   "cell_type": "markdown",
   "metadata": {},
   "source": [
    "### Printing all the unique values"
   ]
  },
  {
   "cell_type": "code",
   "execution_count": 23,
   "metadata": {},
   "outputs": [
    {
     "name": "stdout",
     "output_type": "stream",
     "text": [
      "## Age ##\n",
      "{'50-59', '40-49', '60 or older', 'less than 40'}\n",
      "## Gender ##\n",
      "{'Male', 'Female'}\n",
      "## Family_Diabetes ##\n",
      "{'no', 'yes'}\n",
      "## highBP ##\n",
      "{'no', 'yes'}\n",
      "## PhysicallyActive ##\n",
      "{'more than half an hr', 'one hr or more', 'none', 'less than half an hr'}\n",
      "## BMI ##\n",
      "{15.0, 17.0, 18.0, 19.0, 20.0, 21.0, 22.0, 23.0, 24.0, 25.0, 26.0, 27.0, 28.0, 29.0, 30.0, 31.0, 32.0, 33.0, 34.0, 35.0, 36.0, 38.0, 39.0, 40.0, 42.0, 45.0}\n",
      "## Smoking ##\n",
      "{'no', 'yes'}\n",
      "## Alcohol ##\n",
      "{'no', 'yes'}\n",
      "## Sleep ##\n",
      "{4, 5, 6, 7, 8, 9, 10, 11}\n",
      "## SoundSleep ##\n",
      "{0, 1, 2, 3, 4, 5, 6, 7, 8, 9, 10, 11}\n",
      "## RegularMedicine ##\n",
      "{'o', 'no', 'yes'}\n",
      "## JunkFood ##\n",
      "{'very often', 'often', 'occasionally', 'always'}\n",
      "## Stress ##\n",
      "{'not at all', 'always', 'very often', 'sometimes'}\n",
      "## BPLevel ##\n",
      "{'normal', 'normal ', 'high', 'High', 'Low', 'low'}\n",
      "## Pregancies ##\n",
      "{0.0, 1.0, 2.0, 3.0, 4.0}\n",
      "## Pdiabetes ##\n",
      "{'no', '0', 'yes'}\n",
      "## UriationFreq ##\n",
      "{'not much', 'quite often'}\n",
      "## Diabetic ##\n",
      "{1, 2}\n"
     ]
    }
   ],
   "source": [
    "for i in diabetes_imputed.columns:\n",
    "    print(\"##\", i , \"##\")\n",
    "    print(set(diabetes_imputed[i].tolist()))"
   ]
  },
  {
   "cell_type": "markdown",
   "metadata": {},
   "source": [
    "#### Separating the Labels"
   ]
  },
  {
   "cell_type": "code",
   "execution_count": 24,
   "metadata": {},
   "outputs": [],
   "source": [
    "#X = diabetes_imputed.drop(columns = 'Diabetic', axis=1)\n",
    "#Y = diabetes_imputed['Diabetic']"
   ]
  },
  {
   "cell_type": "code",
   "execution_count": 25,
   "metadata": {},
   "outputs": [],
   "source": [
    "#print(X)"
   ]
  },
  {
   "cell_type": "code",
   "execution_count": 26,
   "metadata": {},
   "outputs": [],
   "source": [
    "#print(Y)"
   ]
  },
  {
   "cell_type": "markdown",
   "metadata": {},
   "source": [
    "#### where 1 represents the person is not diabetic and 2 represents the person is diabetic."
   ]
  },
  {
   "cell_type": "markdown",
   "metadata": {},
   "source": [
    "### Feature Selection"
   ]
  },
  {
   "cell_type": "code",
   "execution_count": 27,
   "metadata": {},
   "outputs": [],
   "source": [
    "from sklearn.feature_selection import SelectKBest\n",
    "from sklearn.feature_selection import chi2"
   ]
  },
  {
   "cell_type": "code",
   "execution_count": 28,
   "metadata": {},
   "outputs": [],
   "source": [
    "# chi_best = SelectKBest(score_func=chi2 , k = 4)\n",
    "# k_best = chi_best.fit(X,Y)"
   ]
  },
  {
   "cell_type": "code",
   "execution_count": 29,
   "metadata": {},
   "outputs": [
    {
     "name": "stdout",
     "output_type": "stream",
     "text": [
      "Value of each column\n",
      "\n",
      "\n",
      "Age\n",
      "Age\n",
      "less than 40    487\n",
      "40-49           164\n",
      "50-59           156\n",
      "60 or older     144\n",
      "Name: count, dtype: int64\n",
      "Count of unique values using a set: 3\n",
      "\n",
      "\n",
      "Gender\n",
      "Gender\n",
      "Male      580\n",
      "Female    371\n",
      "Name: count, dtype: int64\n",
      "Count of unique values using a set: 5\n",
      "\n",
      "\n",
      "Family_Diabetes\n",
      "Family_Diabetes\n",
      "no     497\n",
      "yes    454\n",
      "Name: count, dtype: int64\n",
      "Count of unique values using a set: 12\n",
      "\n",
      "\n",
      "highBP\n",
      "highBP\n",
      "no     723\n",
      "yes    228\n",
      "Name: count, dtype: int64\n",
      "Count of unique values using a set: 5\n",
      "\n",
      "\n",
      "PhysicallyActive\n",
      "PhysicallyActive\n",
      "less than half an hr    336\n",
      "more than half an hr    271\n",
      "one hr or more          212\n",
      "none                    132\n",
      "Name: count, dtype: int64\n",
      "Count of unique values using a set: 12\n",
      "\n",
      "\n",
      "BMI\n",
      "BMI\n",
      "24.0    114\n",
      "21.0     88\n",
      "23.0     76\n",
      "28.0     71\n",
      "26.0     66\n",
      "33.0     64\n",
      "27.0     63\n",
      "22.0     58\n",
      "20.0     48\n",
      "19.0     36\n",
      "25.0     34\n",
      "30.0     33\n",
      "18.0     32\n",
      "29.0     28\n",
      "38.0     28\n",
      "36.0     20\n",
      "17.0     16\n",
      "32.0     16\n",
      "31.0     16\n",
      "34.0     12\n",
      "35.0     12\n",
      "15.0      8\n",
      "39.0      4\n",
      "40.0      4\n",
      "42.0      3\n",
      "45.0      1\n",
      "Name: count, dtype: int64\n",
      "Count of unique values using a set: 3\n",
      "\n",
      "\n",
      "Smoking\n",
      "Smoking\n",
      "no     843\n",
      "yes    108\n",
      "Name: count, dtype: int64\n",
      "Count of unique values using a set: 7\n",
      "\n",
      "\n",
      "Alcohol\n",
      "Alcohol\n",
      "no     759\n",
      "yes    192\n",
      "Name: count, dtype: int64\n",
      "Count of unique values using a set: 5\n",
      "\n",
      "\n",
      "Sleep\n",
      "Sleep\n",
      "7     264\n",
      "8     256\n",
      "6     255\n",
      "5      68\n",
      "9      48\n",
      "4      32\n",
      "10     24\n",
      "11      4\n",
      "Name: count, dtype: int64\n",
      "Count of unique values using a set: 4\n",
      "\n",
      "\n",
      "SoundSleep\n",
      "SoundSleep\n",
      "6     227\n",
      "4     188\n",
      "5     156\n",
      "8     120\n",
      "7     104\n",
      "3      68\n",
      "2      44\n",
      "10     16\n",
      "9      16\n",
      "11      4\n",
      "1       4\n",
      "0       4\n",
      "Name: count, dtype: int64\n",
      "Count of unique values using a set: 8\n",
      "\n",
      "\n",
      "RegularMedicine\n",
      "RegularMedicine\n",
      "no     614\n",
      "yes    336\n",
      "o        1\n",
      "Name: count, dtype: int64\n",
      "Count of unique values using a set: 12\n",
      "\n",
      "\n",
      "JunkFood\n",
      "JunkFood\n",
      "occasionally    671\n",
      "often           184\n",
      "very often       52\n",
      "always           44\n",
      "Name: count, dtype: int64\n",
      "Count of unique values using a set: 7\n",
      "\n",
      "\n",
      "Stress\n",
      "Stress\n",
      "sometimes     563\n",
      "very often    164\n",
      "not at all    136\n",
      "always         88\n",
      "Name: count, dtype: int64\n",
      "Count of unique values using a set: 5\n",
      "\n",
      "\n",
      "BPLevel\n",
      "BPLevel\n",
      "normal     706\n",
      "high       211\n",
      "low         25\n",
      "High         5\n",
      "Low          3\n",
      "normal       1\n",
      "Name: count, dtype: int64\n",
      "Count of unique values using a set: 6\n",
      "\n",
      "\n",
      "Pregancies\n",
      "Pregancies\n",
      "0.0    796\n",
      "2.0     63\n",
      "3.0     60\n",
      "1.0     28\n",
      "4.0      4\n",
      "Name: count, dtype: int64\n",
      "Count of unique values using a set: 9\n",
      "\n",
      "\n",
      "Pdiabetes\n",
      "Pdiabetes\n",
      "0      936\n",
      "yes     14\n",
      "no       1\n",
      "Name: count, dtype: int64\n",
      "Count of unique values using a set: 8\n",
      "\n",
      "\n",
      "UriationFreq\n",
      "UriationFreq\n",
      "not much       664\n",
      "quite often    287\n",
      "Name: count, dtype: int64\n",
      "Count of unique values using a set: 10\n",
      "\n",
      "\n",
      "Diabetic\n",
      "Diabetic\n",
      "1    685\n",
      "2    266\n",
      "Name: count, dtype: int64\n",
      "Count of unique values using a set: 7\n",
      "\n",
      "\n"
     ]
    }
   ],
   "source": [
    "print('Value of each column')\n",
    "print('\\n')\n",
    "for col in diabetes_imputed.columns:\n",
    "    print(col)\n",
    "    print(diabetes_imputed[col].value_counts())\n",
    "    unique_set = set(col)\n",
    "    unique_count = len(unique_set)\n",
    "    print(\"Count of unique values using a set:\", unique_count)\n",
    "    print(\"\\n\")"
   ]
  },
  {
   "cell_type": "code",
   "execution_count": 30,
   "metadata": {},
   "outputs": [],
   "source": [
    "diabetes_imputed['Age'].replace('less than 40','0-40', inplace=True)\n",
    "\n",
    "diabetes_imputed['Age'].replace('60 or older','60-99', inplace=True)"
   ]
  },
  {
   "cell_type": "code",
   "execution_count": 31,
   "metadata": {},
   "outputs": [
    {
     "data": {
      "text/plain": [
       "0      50-59\n",
       "1      50-59\n",
       "2      40-49\n",
       "3      50-59\n",
       "4      40-49\n",
       "       ...  \n",
       "947     0-40\n",
       "948    60-99\n",
       "949    60-99\n",
       "950    60-99\n",
       "951    60-99\n",
       "Name: Age, Length: 951, dtype: object"
      ]
     },
     "execution_count": 31,
     "metadata": {},
     "output_type": "execute_result"
    }
   ],
   "source": [
    "diabetes_imputed['Age']"
   ]
  },
  {
   "cell_type": "code",
   "execution_count": 32,
   "metadata": {},
   "outputs": [
    {
     "name": "stdout",
     "output_type": "stream",
     "text": [
      "     Gender Family_Diabetes highBP      PhysicallyActive   BMI Smoking  \\\n",
      "0      Male              no    yes        one hr or more  39.0      no   \n",
      "1      Male              no    yes  less than half an hr  28.0      no   \n",
      "2      Male              no     no        one hr or more  24.0      no   \n",
      "3      Male              no     no        one hr or more  23.0      no   \n",
      "4      Male              no     no  less than half an hr  27.0      no   \n",
      "..      ...             ...    ...                   ...   ...     ...   \n",
      "947    Male             yes     no  more than half an hr  25.0      no   \n",
      "948    Male             yes    yes  more than half an hr  27.0      no   \n",
      "949    Male              no    yes                  none  23.0      no   \n",
      "950    Male              no    yes  less than half an hr  27.0      no   \n",
      "951  Female             yes    yes        one hr or more  30.0      no   \n",
      "\n",
      "    Alcohol Sleep SoundSleep RegularMedicine      JunkFood      Stress  \\\n",
      "0        no     8          6              no  occasionally   sometimes   \n",
      "1        no     8          6             yes    very often   sometimes   \n",
      "2        no     6          6              no  occasionally   sometimes   \n",
      "3        no     8          6              no  occasionally   sometimes   \n",
      "4        no     8          8              no  occasionally   sometimes   \n",
      "..      ...   ...        ...             ...           ...         ...   \n",
      "947      no     8          6              no         often   sometimes   \n",
      "948      no     6          5             yes  occasionally   sometimes   \n",
      "949      no     6          5             yes  occasionally   sometimes   \n",
      "950     yes     6          5             yes  occasionally  very often   \n",
      "951      no     7          4             yes  occasionally   sometimes   \n",
      "\n",
      "    BPLevel Pregancies Pdiabetes UriationFreq  Diabetic Age Above Age Below  \n",
      "0      high        0.0         0     not much         1        50        59  \n",
      "1    normal        0.0         0     not much         1        50        59  \n",
      "2    normal        0.0         0     not much         1        40        49  \n",
      "3    normal        0.0         0     not much         1        50        59  \n",
      "4    normal        0.0         0     not much         1        40        49  \n",
      "..      ...        ...       ...          ...       ...       ...       ...  \n",
      "947  normal        0.0         0     not much         2         0        40  \n",
      "948    high        0.0         0  quite often         2        60        99  \n",
      "949    high        0.0         0     not much         1        60        99  \n",
      "950    high        0.0         0     not much         1        60        99  \n",
      "951    high        2.0         0  quite often         2        60        99  \n",
      "\n",
      "[951 rows x 19 columns]\n"
     ]
    }
   ],
   "source": [
    "diabetes_imputed = pd.DataFrame(diabetes_imputed)\n",
    "\n",
    "# Split the 'Full_Name' column into 'First_Name' and 'Last_Name' columns\n",
    "diabetes_imputed[['Age Above', 'Age Below']] = diabetes_imputed['Age'].str.split('-', expand=True)\n",
    "diabetes_imputed.drop(columns=['Age'], inplace=True)\n",
    "# Display the modified DataFrame\n",
    "print(diabetes_imputed)"
   ]
  },
  {
   "cell_type": "code",
   "execution_count": 33,
   "metadata": {},
   "outputs": [
    {
     "data": {
      "text/html": [
       "<div>\n",
       "<style scoped>\n",
       "    .dataframe tbody tr th:only-of-type {\n",
       "        vertical-align: middle;\n",
       "    }\n",
       "\n",
       "    .dataframe tbody tr th {\n",
       "        vertical-align: top;\n",
       "    }\n",
       "\n",
       "    .dataframe thead th {\n",
       "        text-align: right;\n",
       "    }\n",
       "</style>\n",
       "<table border=\"1\" class=\"dataframe\">\n",
       "  <thead>\n",
       "    <tr style=\"text-align: right;\">\n",
       "      <th></th>\n",
       "      <th>Gender</th>\n",
       "      <th>Family_Diabetes</th>\n",
       "      <th>highBP</th>\n",
       "      <th>PhysicallyActive</th>\n",
       "      <th>BMI</th>\n",
       "      <th>Smoking</th>\n",
       "      <th>Alcohol</th>\n",
       "      <th>Sleep</th>\n",
       "      <th>SoundSleep</th>\n",
       "      <th>RegularMedicine</th>\n",
       "      <th>JunkFood</th>\n",
       "      <th>Stress</th>\n",
       "      <th>BPLevel</th>\n",
       "      <th>Pregancies</th>\n",
       "      <th>Pdiabetes</th>\n",
       "      <th>UriationFreq</th>\n",
       "      <th>Diabetic</th>\n",
       "      <th>Age Above</th>\n",
       "      <th>Age Below</th>\n",
       "    </tr>\n",
       "  </thead>\n",
       "  <tbody>\n",
       "    <tr>\n",
       "      <th>0</th>\n",
       "      <td>Male</td>\n",
       "      <td>no</td>\n",
       "      <td>yes</td>\n",
       "      <td>one hr or more</td>\n",
       "      <td>39.0</td>\n",
       "      <td>no</td>\n",
       "      <td>no</td>\n",
       "      <td>8</td>\n",
       "      <td>6</td>\n",
       "      <td>no</td>\n",
       "      <td>occasionally</td>\n",
       "      <td>sometimes</td>\n",
       "      <td>high</td>\n",
       "      <td>0.0</td>\n",
       "      <td>0</td>\n",
       "      <td>not much</td>\n",
       "      <td>1</td>\n",
       "      <td>50</td>\n",
       "      <td>59</td>\n",
       "    </tr>\n",
       "    <tr>\n",
       "      <th>1</th>\n",
       "      <td>Male</td>\n",
       "      <td>no</td>\n",
       "      <td>yes</td>\n",
       "      <td>less than half an hr</td>\n",
       "      <td>28.0</td>\n",
       "      <td>no</td>\n",
       "      <td>no</td>\n",
       "      <td>8</td>\n",
       "      <td>6</td>\n",
       "      <td>yes</td>\n",
       "      <td>very often</td>\n",
       "      <td>sometimes</td>\n",
       "      <td>normal</td>\n",
       "      <td>0.0</td>\n",
       "      <td>0</td>\n",
       "      <td>not much</td>\n",
       "      <td>1</td>\n",
       "      <td>50</td>\n",
       "      <td>59</td>\n",
       "    </tr>\n",
       "    <tr>\n",
       "      <th>2</th>\n",
       "      <td>Male</td>\n",
       "      <td>no</td>\n",
       "      <td>no</td>\n",
       "      <td>one hr or more</td>\n",
       "      <td>24.0</td>\n",
       "      <td>no</td>\n",
       "      <td>no</td>\n",
       "      <td>6</td>\n",
       "      <td>6</td>\n",
       "      <td>no</td>\n",
       "      <td>occasionally</td>\n",
       "      <td>sometimes</td>\n",
       "      <td>normal</td>\n",
       "      <td>0.0</td>\n",
       "      <td>0</td>\n",
       "      <td>not much</td>\n",
       "      <td>1</td>\n",
       "      <td>40</td>\n",
       "      <td>49</td>\n",
       "    </tr>\n",
       "    <tr>\n",
       "      <th>3</th>\n",
       "      <td>Male</td>\n",
       "      <td>no</td>\n",
       "      <td>no</td>\n",
       "      <td>one hr or more</td>\n",
       "      <td>23.0</td>\n",
       "      <td>no</td>\n",
       "      <td>no</td>\n",
       "      <td>8</td>\n",
       "      <td>6</td>\n",
       "      <td>no</td>\n",
       "      <td>occasionally</td>\n",
       "      <td>sometimes</td>\n",
       "      <td>normal</td>\n",
       "      <td>0.0</td>\n",
       "      <td>0</td>\n",
       "      <td>not much</td>\n",
       "      <td>1</td>\n",
       "      <td>50</td>\n",
       "      <td>59</td>\n",
       "    </tr>\n",
       "    <tr>\n",
       "      <th>4</th>\n",
       "      <td>Male</td>\n",
       "      <td>no</td>\n",
       "      <td>no</td>\n",
       "      <td>less than half an hr</td>\n",
       "      <td>27.0</td>\n",
       "      <td>no</td>\n",
       "      <td>no</td>\n",
       "      <td>8</td>\n",
       "      <td>8</td>\n",
       "      <td>no</td>\n",
       "      <td>occasionally</td>\n",
       "      <td>sometimes</td>\n",
       "      <td>normal</td>\n",
       "      <td>0.0</td>\n",
       "      <td>0</td>\n",
       "      <td>not much</td>\n",
       "      <td>1</td>\n",
       "      <td>40</td>\n",
       "      <td>49</td>\n",
       "    </tr>\n",
       "  </tbody>\n",
       "</table>\n",
       "</div>"
      ],
      "text/plain": [
       "  Gender Family_Diabetes highBP      PhysicallyActive   BMI Smoking Alcohol  \\\n",
       "0   Male              no    yes        one hr or more  39.0      no      no   \n",
       "1   Male              no    yes  less than half an hr  28.0      no      no   \n",
       "2   Male              no     no        one hr or more  24.0      no      no   \n",
       "3   Male              no     no        one hr or more  23.0      no      no   \n",
       "4   Male              no     no  less than half an hr  27.0      no      no   \n",
       "\n",
       "  Sleep SoundSleep RegularMedicine      JunkFood     Stress BPLevel  \\\n",
       "0     8          6              no  occasionally  sometimes    high   \n",
       "1     8          6             yes    very often  sometimes  normal   \n",
       "2     6          6              no  occasionally  sometimes  normal   \n",
       "3     8          6              no  occasionally  sometimes  normal   \n",
       "4     8          8              no  occasionally  sometimes  normal   \n",
       "\n",
       "  Pregancies Pdiabetes UriationFreq  Diabetic Age Above Age Below  \n",
       "0        0.0         0     not much         1        50        59  \n",
       "1        0.0         0     not much         1        50        59  \n",
       "2        0.0         0     not much         1        40        49  \n",
       "3        0.0         0     not much         1        50        59  \n",
       "4        0.0         0     not much         1        40        49  "
      ]
     },
     "execution_count": 33,
     "metadata": {},
     "output_type": "execute_result"
    }
   ],
   "source": [
    "diabetes_imputed.head()"
   ]
  },
  {
   "cell_type": "code",
   "execution_count": 34,
   "metadata": {},
   "outputs": [
    {
     "data": {
      "text/plain": [
       "(951, 19)"
      ]
     },
     "execution_count": 34,
     "metadata": {},
     "output_type": "execute_result"
    }
   ],
   "source": [
    "diabetes_imputed.shape"
   ]
  },
  {
   "cell_type": "code",
   "execution_count": 35,
   "metadata": {},
   "outputs": [
    {
     "name": "stdout",
     "output_type": "stream",
     "text": [
      "    Age Above Age Below  Gender Family_Diabetes highBP      PhysicallyActive  \\\n",
      "0          50        59    Male              no    yes        one hr or more   \n",
      "1          50        59    Male              no    yes  less than half an hr   \n",
      "2          40        49    Male              no     no        one hr or more   \n",
      "3          50        59    Male              no     no        one hr or more   \n",
      "4          40        49    Male              no     no  less than half an hr   \n",
      "..        ...       ...     ...             ...    ...                   ...   \n",
      "947         0        40    Male             yes     no  more than half an hr   \n",
      "948        60        99    Male             yes    yes  more than half an hr   \n",
      "949        60        99    Male              no    yes                  none   \n",
      "950        60        99    Male              no    yes  less than half an hr   \n",
      "951        60        99  Female             yes    yes        one hr or more   \n",
      "\n",
      "      BMI Smoking Alcohol Sleep SoundSleep RegularMedicine      JunkFood  \\\n",
      "0    39.0      no      no     8          6              no  occasionally   \n",
      "1    28.0      no      no     8          6             yes    very often   \n",
      "2    24.0      no      no     6          6              no  occasionally   \n",
      "3    23.0      no      no     8          6              no  occasionally   \n",
      "4    27.0      no      no     8          8              no  occasionally   \n",
      "..    ...     ...     ...   ...        ...             ...           ...   \n",
      "947  25.0      no      no     8          6              no         often   \n",
      "948  27.0      no      no     6          5             yes  occasionally   \n",
      "949  23.0      no      no     6          5             yes  occasionally   \n",
      "950  27.0      no     yes     6          5             yes  occasionally   \n",
      "951  30.0      no      no     7          4             yes  occasionally   \n",
      "\n",
      "         Stress BPLevel Pregancies Pdiabetes UriationFreq  Diabetic  \n",
      "0     sometimes    high        0.0         0     not much         1  \n",
      "1     sometimes  normal        0.0         0     not much         1  \n",
      "2     sometimes  normal        0.0         0     not much         1  \n",
      "3     sometimes  normal        0.0         0     not much         1  \n",
      "4     sometimes  normal        0.0         0     not much         1  \n",
      "..          ...     ...        ...       ...          ...       ...  \n",
      "947   sometimes  normal        0.0         0     not much         2  \n",
      "948   sometimes    high        0.0         0  quite often         2  \n",
      "949   sometimes    high        0.0         0     not much         1  \n",
      "950  very often    high        0.0         0     not much         1  \n",
      "951   sometimes    high        2.0         0  quite often         2  \n",
      "\n",
      "[951 rows x 19 columns]\n"
     ]
    }
   ],
   "source": [
    "columns = diabetes_imputed.columns.tolist()\n",
    "columns = columns[-2:] + columns[:-2]  # Move the last two columns to the start\n",
    "\n",
    "# Reorganize the DataFrame with the new column order\n",
    "diabetes_imputed = diabetes_imputed[columns]\n",
    "\n",
    "# Display the modified DataFrame\n",
    "print(diabetes_imputed)\n"
   ]
  },
  {
   "cell_type": "code",
   "execution_count": 36,
   "metadata": {},
   "outputs": [
    {
     "data": {
      "text/html": [
       "<div>\n",
       "<style scoped>\n",
       "    .dataframe tbody tr th:only-of-type {\n",
       "        vertical-align: middle;\n",
       "    }\n",
       "\n",
       "    .dataframe tbody tr th {\n",
       "        vertical-align: top;\n",
       "    }\n",
       "\n",
       "    .dataframe thead th {\n",
       "        text-align: right;\n",
       "    }\n",
       "</style>\n",
       "<table border=\"1\" class=\"dataframe\">\n",
       "  <thead>\n",
       "    <tr style=\"text-align: right;\">\n",
       "      <th></th>\n",
       "      <th>Age Above</th>\n",
       "      <th>Age Below</th>\n",
       "      <th>Gender</th>\n",
       "      <th>Family_Diabetes</th>\n",
       "      <th>highBP</th>\n",
       "      <th>PhysicallyActive</th>\n",
       "      <th>BMI</th>\n",
       "      <th>Smoking</th>\n",
       "      <th>Alcohol</th>\n",
       "      <th>Sleep</th>\n",
       "      <th>SoundSleep</th>\n",
       "      <th>RegularMedicine</th>\n",
       "      <th>JunkFood</th>\n",
       "      <th>Stress</th>\n",
       "      <th>BPLevel</th>\n",
       "      <th>Pregancies</th>\n",
       "      <th>Pdiabetes</th>\n",
       "      <th>UriationFreq</th>\n",
       "      <th>Diabetic</th>\n",
       "    </tr>\n",
       "  </thead>\n",
       "  <tbody>\n",
       "    <tr>\n",
       "      <th>0</th>\n",
       "      <td>50</td>\n",
       "      <td>59</td>\n",
       "      <td>Male</td>\n",
       "      <td>no</td>\n",
       "      <td>yes</td>\n",
       "      <td>one hr or more</td>\n",
       "      <td>39.0</td>\n",
       "      <td>no</td>\n",
       "      <td>no</td>\n",
       "      <td>8</td>\n",
       "      <td>6</td>\n",
       "      <td>no</td>\n",
       "      <td>occasionally</td>\n",
       "      <td>sometimes</td>\n",
       "      <td>high</td>\n",
       "      <td>0.0</td>\n",
       "      <td>0</td>\n",
       "      <td>not much</td>\n",
       "      <td>1</td>\n",
       "    </tr>\n",
       "    <tr>\n",
       "      <th>1</th>\n",
       "      <td>50</td>\n",
       "      <td>59</td>\n",
       "      <td>Male</td>\n",
       "      <td>no</td>\n",
       "      <td>yes</td>\n",
       "      <td>less than half an hr</td>\n",
       "      <td>28.0</td>\n",
       "      <td>no</td>\n",
       "      <td>no</td>\n",
       "      <td>8</td>\n",
       "      <td>6</td>\n",
       "      <td>yes</td>\n",
       "      <td>very often</td>\n",
       "      <td>sometimes</td>\n",
       "      <td>normal</td>\n",
       "      <td>0.0</td>\n",
       "      <td>0</td>\n",
       "      <td>not much</td>\n",
       "      <td>1</td>\n",
       "    </tr>\n",
       "    <tr>\n",
       "      <th>2</th>\n",
       "      <td>40</td>\n",
       "      <td>49</td>\n",
       "      <td>Male</td>\n",
       "      <td>no</td>\n",
       "      <td>no</td>\n",
       "      <td>one hr or more</td>\n",
       "      <td>24.0</td>\n",
       "      <td>no</td>\n",
       "      <td>no</td>\n",
       "      <td>6</td>\n",
       "      <td>6</td>\n",
       "      <td>no</td>\n",
       "      <td>occasionally</td>\n",
       "      <td>sometimes</td>\n",
       "      <td>normal</td>\n",
       "      <td>0.0</td>\n",
       "      <td>0</td>\n",
       "      <td>not much</td>\n",
       "      <td>1</td>\n",
       "    </tr>\n",
       "    <tr>\n",
       "      <th>3</th>\n",
       "      <td>50</td>\n",
       "      <td>59</td>\n",
       "      <td>Male</td>\n",
       "      <td>no</td>\n",
       "      <td>no</td>\n",
       "      <td>one hr or more</td>\n",
       "      <td>23.0</td>\n",
       "      <td>no</td>\n",
       "      <td>no</td>\n",
       "      <td>8</td>\n",
       "      <td>6</td>\n",
       "      <td>no</td>\n",
       "      <td>occasionally</td>\n",
       "      <td>sometimes</td>\n",
       "      <td>normal</td>\n",
       "      <td>0.0</td>\n",
       "      <td>0</td>\n",
       "      <td>not much</td>\n",
       "      <td>1</td>\n",
       "    </tr>\n",
       "    <tr>\n",
       "      <th>4</th>\n",
       "      <td>40</td>\n",
       "      <td>49</td>\n",
       "      <td>Male</td>\n",
       "      <td>no</td>\n",
       "      <td>no</td>\n",
       "      <td>less than half an hr</td>\n",
       "      <td>27.0</td>\n",
       "      <td>no</td>\n",
       "      <td>no</td>\n",
       "      <td>8</td>\n",
       "      <td>8</td>\n",
       "      <td>no</td>\n",
       "      <td>occasionally</td>\n",
       "      <td>sometimes</td>\n",
       "      <td>normal</td>\n",
       "      <td>0.0</td>\n",
       "      <td>0</td>\n",
       "      <td>not much</td>\n",
       "      <td>1</td>\n",
       "    </tr>\n",
       "  </tbody>\n",
       "</table>\n",
       "</div>"
      ],
      "text/plain": [
       "  Age Above Age Below Gender Family_Diabetes highBP      PhysicallyActive  \\\n",
       "0        50        59   Male              no    yes        one hr or more   \n",
       "1        50        59   Male              no    yes  less than half an hr   \n",
       "2        40        49   Male              no     no        one hr or more   \n",
       "3        50        59   Male              no     no        one hr or more   \n",
       "4        40        49   Male              no     no  less than half an hr   \n",
       "\n",
       "    BMI Smoking Alcohol Sleep SoundSleep RegularMedicine      JunkFood  \\\n",
       "0  39.0      no      no     8          6              no  occasionally   \n",
       "1  28.0      no      no     8          6             yes    very often   \n",
       "2  24.0      no      no     6          6              no  occasionally   \n",
       "3  23.0      no      no     8          6              no  occasionally   \n",
       "4  27.0      no      no     8          8              no  occasionally   \n",
       "\n",
       "      Stress BPLevel Pregancies Pdiabetes UriationFreq  Diabetic  \n",
       "0  sometimes    high        0.0         0     not much         1  \n",
       "1  sometimes  normal        0.0         0     not much         1  \n",
       "2  sometimes  normal        0.0         0     not much         1  \n",
       "3  sometimes  normal        0.0         0     not much         1  \n",
       "4  sometimes  normal        0.0         0     not much         1  "
      ]
     },
     "execution_count": 36,
     "metadata": {},
     "output_type": "execute_result"
    }
   ],
   "source": [
    "diabetes_imputed.head()"
   ]
  },
  {
   "cell_type": "code",
   "execution_count": 37,
   "metadata": {},
   "outputs": [],
   "source": [
    "diabetes_imputed['Gender'].replace('Male','0', inplace=True)\n",
    "\n",
    "diabetes_imputed['Gender'].replace('Female','1', inplace=True)"
   ]
  },
  {
   "cell_type": "code",
   "execution_count": 38,
   "metadata": {},
   "outputs": [
    {
     "data": {
      "text/plain": [
       "0      0\n",
       "1      0\n",
       "2      0\n",
       "3      0\n",
       "4      0\n",
       "      ..\n",
       "947    0\n",
       "948    0\n",
       "949    0\n",
       "950    0\n",
       "951    1\n",
       "Name: Gender, Length: 951, dtype: object"
      ]
     },
     "execution_count": 38,
     "metadata": {},
     "output_type": "execute_result"
    }
   ],
   "source": [
    "diabetes_imputed['Gender']"
   ]
  },
  {
   "cell_type": "markdown",
   "metadata": {},
   "source": [
    "#### Here 0 represents Male.\n",
    "\n",
    "#### And 1 represents Female."
   ]
  },
  {
   "cell_type": "code",
   "execution_count": 39,
   "metadata": {},
   "outputs": [],
   "source": [
    "diabetes_imputed['Family_Diabetes'].replace('no','0', inplace=True)\n",
    "\n",
    "diabetes_imputed['Family_Diabetes'].replace('yes','1', inplace=True)"
   ]
  },
  {
   "cell_type": "code",
   "execution_count": 40,
   "metadata": {},
   "outputs": [
    {
     "data": {
      "text/plain": [
       "0      0\n",
       "1      0\n",
       "2      0\n",
       "3      0\n",
       "4      0\n",
       "      ..\n",
       "947    1\n",
       "948    1\n",
       "949    0\n",
       "950    0\n",
       "951    1\n",
       "Name: Family_Diabetes, Length: 951, dtype: object"
      ]
     },
     "execution_count": 40,
     "metadata": {},
     "output_type": "execute_result"
    }
   ],
   "source": [
    "diabetes_imputed['Family_Diabetes']"
   ]
  },
  {
   "cell_type": "markdown",
   "metadata": {},
   "source": [
    "#### Here 0 represents the person had no family diabetes history.\n",
    "\n",
    "#### And 1 represents the person had family diabetes history."
   ]
  },
  {
   "cell_type": "code",
   "execution_count": 41,
   "metadata": {},
   "outputs": [],
   "source": [
    "diabetes_imputed['highBP'].replace('no','0', inplace=True)\n",
    "\n",
    "diabetes_imputed['highBP'].replace('yes','1', inplace=True)"
   ]
  },
  {
   "cell_type": "code",
   "execution_count": 42,
   "metadata": {},
   "outputs": [
    {
     "data": {
      "text/plain": [
       "0      1\n",
       "1      1\n",
       "2      0\n",
       "3      0\n",
       "4      0\n",
       "      ..\n",
       "947    0\n",
       "948    1\n",
       "949    1\n",
       "950    1\n",
       "951    1\n",
       "Name: highBP, Length: 951, dtype: object"
      ]
     },
     "execution_count": 42,
     "metadata": {},
     "output_type": "execute_result"
    }
   ],
   "source": [
    "diabetes_imputed['highBP']"
   ]
  },
  {
   "cell_type": "markdown",
   "metadata": {},
   "source": [
    "#### 0 represents that the person does not have high BP.\n",
    "\n",
    "#### 1 represents that the person has high BP."
   ]
  },
  {
   "cell_type": "code",
   "execution_count": 43,
   "metadata": {},
   "outputs": [],
   "source": [
    "diabetes_imputed['PhysicallyActive'].replace('none',0, inplace=True)\n",
    "\n",
    "diabetes_imputed['PhysicallyActive'].replace('less than half an hr',1, inplace=True)\n",
    "\n",
    "diabetes_imputed['PhysicallyActive'].replace('more than half an hr',2, inplace=True)\n",
    "\n",
    "diabetes_imputed['PhysicallyActive'].replace('one hr or more',3, inplace=True)"
   ]
  },
  {
   "cell_type": "code",
   "execution_count": 44,
   "metadata": {},
   "outputs": [
    {
     "data": {
      "text/plain": [
       "0      3\n",
       "1      1\n",
       "2      3\n",
       "3      3\n",
       "4      1\n",
       "      ..\n",
       "947    2\n",
       "948    2\n",
       "949    0\n",
       "950    1\n",
       "951    3\n",
       "Name: PhysicallyActive, Length: 951, dtype: int64"
      ]
     },
     "execution_count": 44,
     "metadata": {},
     "output_type": "execute_result"
    }
   ],
   "source": [
    "diabetes_imputed['PhysicallyActive']"
   ]
  },
  {
   "cell_type": "markdown",
   "metadata": {},
   "source": [
    "#### Here 0 conveys that the person is not at all physically active.\n",
    "\n",
    "#### 1 conveys that the person exercises for not more than 30 mins.\n",
    "\n",
    "#### 2 conveys that the person exercises for more than 30 mins.\n",
    "\n",
    "#### 3 conveys that the person exercises for more than an hour."
   ]
  },
  {
   "cell_type": "code",
   "execution_count": 45,
   "metadata": {},
   "outputs": [],
   "source": [
    "diabetes_imputed['Smoking'].replace('no','0', inplace=True)\n",
    "\n",
    "diabetes_imputed['Smoking'].replace('yes','1', inplace=True)"
   ]
  },
  {
   "cell_type": "code",
   "execution_count": 46,
   "metadata": {},
   "outputs": [
    {
     "data": {
      "text/plain": [
       "0      0\n",
       "1      0\n",
       "2      0\n",
       "3      0\n",
       "4      0\n",
       "      ..\n",
       "947    0\n",
       "948    0\n",
       "949    0\n",
       "950    0\n",
       "951    0\n",
       "Name: Smoking, Length: 951, dtype: object"
      ]
     },
     "execution_count": 46,
     "metadata": {},
     "output_type": "execute_result"
    }
   ],
   "source": [
    "diabetes_imputed['Smoking']"
   ]
  },
  {
   "cell_type": "markdown",
   "metadata": {},
   "source": [
    "#### 0 represents that the person is not a smoker.\n",
    "\n",
    "#### 1 represents that the person does not smoke."
   ]
  },
  {
   "cell_type": "code",
   "execution_count": 47,
   "metadata": {},
   "outputs": [],
   "source": [
    "diabetes_imputed['Alcohol'].replace('no','0', inplace=True)\n",
    "\n",
    "diabetes_imputed['Alcohol'].replace('yes','1', inplace=True)"
   ]
  },
  {
   "cell_type": "code",
   "execution_count": 48,
   "metadata": {},
   "outputs": [
    {
     "data": {
      "text/plain": [
       "0      0\n",
       "1      0\n",
       "2      0\n",
       "3      0\n",
       "4      0\n",
       "      ..\n",
       "947    0\n",
       "948    0\n",
       "949    0\n",
       "950    1\n",
       "951    0\n",
       "Name: Alcohol, Length: 951, dtype: object"
      ]
     },
     "execution_count": 48,
     "metadata": {},
     "output_type": "execute_result"
    }
   ],
   "source": [
    "diabetes_imputed['Alcohol']"
   ]
  },
  {
   "cell_type": "markdown",
   "metadata": {},
   "source": [
    "#### 0 represents that the person does not drink alcohol.\n",
    "\n",
    "#### 1 represents that the person drinks alcohol."
   ]
  },
  {
   "cell_type": "code",
   "execution_count": 49,
   "metadata": {},
   "outputs": [],
   "source": [
    "diabetes_imputed['RegularMedicine'].replace('no','0', inplace=True)\n",
    "diabetes_imputed['RegularMedicine'].replace('o','0', inplace=True)\n",
    "\n",
    "diabetes_imputed['RegularMedicine'].replace('yes','1', inplace=True)"
   ]
  },
  {
   "cell_type": "code",
   "execution_count": 50,
   "metadata": {},
   "outputs": [
    {
     "data": {
      "text/plain": [
       "0      0\n",
       "1      1\n",
       "2      0\n",
       "3      0\n",
       "4      0\n",
       "      ..\n",
       "947    0\n",
       "948    1\n",
       "949    1\n",
       "950    1\n",
       "951    1\n",
       "Name: RegularMedicine, Length: 951, dtype: object"
      ]
     },
     "execution_count": 50,
     "metadata": {},
     "output_type": "execute_result"
    }
   ],
   "source": [
    "diabetes_imputed['RegularMedicine']"
   ]
  },
  {
   "cell_type": "markdown",
   "metadata": {},
   "source": [
    "#### 0 represents that the person does not take any regular medicine or the person does not need any regular medicine.\n",
    "\n",
    "#### 1 represents that the person takes regular medicines."
   ]
  },
  {
   "cell_type": "code",
   "execution_count": 51,
   "metadata": {},
   "outputs": [],
   "source": [
    "diabetes_imputed['JunkFood'].replace('occasionally','0', inplace=True)\n",
    "\n",
    "diabetes_imputed['JunkFood'].replace('often','1', inplace=True)\n",
    "\n",
    "diabetes_imputed['JunkFood'].replace('very often','2', inplace=True)\n",
    "\n",
    "diabetes_imputed['JunkFood'].replace('always','3', inplace=True)"
   ]
  },
  {
   "cell_type": "code",
   "execution_count": 52,
   "metadata": {},
   "outputs": [
    {
     "data": {
      "text/plain": [
       "0      0\n",
       "1      2\n",
       "2      0\n",
       "3      0\n",
       "4      0\n",
       "      ..\n",
       "947    1\n",
       "948    0\n",
       "949    0\n",
       "950    0\n",
       "951    0\n",
       "Name: JunkFood, Length: 951, dtype: object"
      ]
     },
     "execution_count": 52,
     "metadata": {},
     "output_type": "execute_result"
    }
   ],
   "source": [
    "diabetes_imputed['JunkFood']"
   ]
  },
  {
   "cell_type": "markdown",
   "metadata": {},
   "source": [
    "#### 0 represents that the person occasionally consumes junk food.\n",
    "\n",
    "#### 1 represents that the person often consumes junk food.\n",
    "\n",
    "#### 2 represents that the person consumes junk food very often.\n",
    "\n",
    "#### 3 represents that the person always consumes junk food only."
   ]
  },
  {
   "cell_type": "code",
   "execution_count": 53,
   "metadata": {},
   "outputs": [],
   "source": [
    "diabetes_imputed['Stress'].replace('not at all','0', inplace=True)\n",
    "\n",
    "diabetes_imputed['Stress'].replace('sometimes','1', inplace=True)\n",
    "\n",
    "diabetes_imputed['Stress'].replace('very often','2', inplace=True)\n",
    "\n",
    "diabetes_imputed['Stress'].replace('always','3', inplace=True)"
   ]
  },
  {
   "cell_type": "code",
   "execution_count": 54,
   "metadata": {},
   "outputs": [
    {
     "data": {
      "text/plain": [
       "0      1\n",
       "1      1\n",
       "2      1\n",
       "3      1\n",
       "4      1\n",
       "      ..\n",
       "947    1\n",
       "948    1\n",
       "949    1\n",
       "950    2\n",
       "951    1\n",
       "Name: Stress, Length: 951, dtype: object"
      ]
     },
     "execution_count": 54,
     "metadata": {},
     "output_type": "execute_result"
    }
   ],
   "source": [
    "diabetes_imputed['Stress']"
   ]
  },
  {
   "cell_type": "markdown",
   "metadata": {},
   "source": [
    "#### 0 represents that the person does not take stress at all.\n",
    "\n",
    "#### 1 represents that the person takes stress sometimes.\n",
    "\n",
    "#### 2 represents that the person is very often stressed.\n",
    "\n",
    "#### 3 represents that the person is always under a lot of tension."
   ]
  },
  {
   "cell_type": "code",
   "execution_count": 55,
   "metadata": {},
   "outputs": [],
   "source": [
    "diabetes_imputed['BPLevel'] = diabetes_imputed['BPLevel'].str.lower().str.strip()"
   ]
  },
  {
   "cell_type": "code",
   "execution_count": 56,
   "metadata": {},
   "outputs": [],
   "source": [
    "diabetes_imputed['BPLevel'].replace('low',0, inplace=True)\n",
    "\n",
    "diabetes_imputed['BPLevel'].replace('normal',1, inplace=True)\n",
    "\n",
    "diabetes_imputed['BPLevel'].replace('high',2, inplace=True)"
   ]
  },
  {
   "cell_type": "code",
   "execution_count": 57,
   "metadata": {},
   "outputs": [
    {
     "data": {
      "text/plain": [
       "0      2\n",
       "1      1\n",
       "2      1\n",
       "3      1\n",
       "4      1\n",
       "      ..\n",
       "947    1\n",
       "948    2\n",
       "949    2\n",
       "950    2\n",
       "951    2\n",
       "Name: BPLevel, Length: 951, dtype: int64"
      ]
     },
     "execution_count": 57,
     "metadata": {},
     "output_type": "execute_result"
    }
   ],
   "source": [
    "diabetes_imputed['BPLevel']"
   ]
  },
  {
   "cell_type": "markdown",
   "metadata": {},
   "source": [
    "#### 0 represents that the person has a low Blood Pressure Level.\n",
    "\n",
    "#### 1 represents that the person has a normal Blood Pressure Level.\n",
    "\n",
    "#### 2 represents that the person has high Blood Pressure Level."
   ]
  },
  {
   "cell_type": "code",
   "execution_count": 58,
   "metadata": {},
   "outputs": [],
   "source": [
    "diabetes_imputed['Pdiabetes'] = diabetes_imputed['Pdiabetes'].fillna(0)"
   ]
  },
  {
   "cell_type": "code",
   "execution_count": 59,
   "metadata": {},
   "outputs": [],
   "source": [
    "diabetes_imputed['Pdiabetes'].replace('no','0', inplace=True)\n",
    "\n",
    "diabetes_imputed['Pdiabetes'].replace('yes','1', inplace=True)"
   ]
  },
  {
   "cell_type": "code",
   "execution_count": 60,
   "metadata": {},
   "outputs": [
    {
     "data": {
      "text/plain": [
       "0      0\n",
       "1      0\n",
       "2      0\n",
       "3      0\n",
       "4      0\n",
       "      ..\n",
       "947    0\n",
       "948    0\n",
       "949    0\n",
       "950    0\n",
       "951    0\n",
       "Name: Pdiabetes, Length: 951, dtype: object"
      ]
     },
     "execution_count": 60,
     "metadata": {},
     "output_type": "execute_result"
    }
   ],
   "source": [
    "diabetes_imputed['Pdiabetes']"
   ]
  },
  {
   "cell_type": "code",
   "execution_count": 61,
   "metadata": {},
   "outputs": [],
   "source": [
    "diabetes_imputed['UriationFreq'].replace('not much','0', inplace=True)\n",
    "\n",
    "diabetes_imputed['UriationFreq'].replace('quite often','1', inplace=True)"
   ]
  },
  {
   "cell_type": "code",
   "execution_count": 62,
   "metadata": {},
   "outputs": [
    {
     "data": {
      "text/plain": [
       "0      0\n",
       "1      0\n",
       "2      0\n",
       "3      0\n",
       "4      0\n",
       "      ..\n",
       "947    0\n",
       "948    1\n",
       "949    0\n",
       "950    0\n",
       "951    1\n",
       "Name: UriationFreq, Length: 951, dtype: object"
      ]
     },
     "execution_count": 62,
     "metadata": {},
     "output_type": "execute_result"
    }
   ],
   "source": [
    "diabetes_imputed['UriationFreq']"
   ]
  },
  {
   "cell_type": "markdown",
   "metadata": {},
   "source": [
    "#### 0 represents that the person does not urinate much.\n",
    "\n",
    "#### 1 represents that the person urinates quite often."
   ]
  },
  {
   "cell_type": "code",
   "execution_count": 63,
   "metadata": {},
   "outputs": [
    {
     "data": {
      "text/plain": [
       "0      1\n",
       "1      1\n",
       "2      1\n",
       "3      1\n",
       "4      1\n",
       "      ..\n",
       "947    2\n",
       "948    2\n",
       "949    1\n",
       "950    1\n",
       "951    2\n",
       "Name: Diabetic, Length: 951, dtype: int32"
      ]
     },
     "execution_count": 63,
     "metadata": {},
     "output_type": "execute_result"
    }
   ],
   "source": [
    "diabetes_imputed['Diabetic']"
   ]
  },
  {
   "cell_type": "markdown",
   "metadata": {},
   "source": [
    "#### 1 represents that the person does not have diabetes.\n",
    "\n",
    "#### 2 represents that the person does have diabetes."
   ]
  },
  {
   "cell_type": "code",
   "execution_count": 64,
   "metadata": {},
   "outputs": [],
   "source": [
    "diabetes_imputed['Pregancies'] = diabetes_imputed['Pregancies'].fillna(0)"
   ]
  },
  {
   "cell_type": "code",
   "execution_count": 65,
   "metadata": {},
   "outputs": [
    {
     "data": {
      "text/plain": [
       "0      0.0\n",
       "1      0.0\n",
       "2      0.0\n",
       "3      0.0\n",
       "4      0.0\n",
       "      ... \n",
       "947    0.0\n",
       "948    0.0\n",
       "949    0.0\n",
       "950    0.0\n",
       "951    2.0\n",
       "Name: Pregancies, Length: 951, dtype: float64"
      ]
     },
     "execution_count": 65,
     "metadata": {},
     "output_type": "execute_result"
    }
   ],
   "source": [
    "diabetes_imputed['Pregancies']"
   ]
  },
  {
   "cell_type": "code",
   "execution_count": 66,
   "id": "eb1d0e1a",
   "metadata": {},
   "outputs": [],
   "source": [
    "diabetes_imputed['Pregancies'] = diabetes_imputed['Pregancies'].astype(int) "
   ]
  },
  {
   "cell_type": "code",
   "execution_count": 67,
   "id": "264a95de",
   "metadata": {},
   "outputs": [],
   "source": [
    "diabetes_imputed['BMI'] = diabetes_imputed['BMI'].astype(int) "
   ]
  },
  {
   "cell_type": "code",
   "execution_count": 68,
   "id": "96a0359a",
   "metadata": {},
   "outputs": [
    {
     "data": {
      "text/plain": [
       "Age Above           object\n",
       "Age Below           object\n",
       "Gender              object\n",
       "Family_Diabetes     object\n",
       "highBP              object\n",
       "PhysicallyActive     int64\n",
       "BMI                  int32\n",
       "Smoking             object\n",
       "Alcohol             object\n",
       "Sleep               object\n",
       "SoundSleep          object\n",
       "RegularMedicine     object\n",
       "JunkFood            object\n",
       "Stress              object\n",
       "BPLevel              int64\n",
       "Pregancies           int32\n",
       "Pdiabetes           object\n",
       "UriationFreq        object\n",
       "Diabetic             int32\n",
       "dtype: object"
      ]
     },
     "execution_count": 68,
     "metadata": {},
     "output_type": "execute_result"
    }
   ],
   "source": [
    "diabetes_imputed.dtypes"
   ]
  },
  {
   "cell_type": "markdown",
   "metadata": {},
   "source": [
    "# Covariance relation and other stuff"
   ]
  },
  {
   "cell_type": "code",
   "execution_count": 69,
   "metadata": {},
   "outputs": [
    {
     "name": "stdout",
     "output_type": "stream",
     "text": [
      "Covariance Matrix:\n",
      "                   Age Above   Age Below    Gender  Family_Diabetes    highBP  \\\n",
      "Age Above         646.887819  425.412585  0.407726         1.431557  4.342952   \n",
      "Age Below         425.412585  415.686057 -0.082670         0.665741  3.404868   \n",
      "Gender              0.407726   -0.082670  0.238176         0.024092 -0.005207   \n",
      "Family_Diabetes     1.431557    0.665741  0.024092         0.249752  0.013847   \n",
      "highBP              4.342952    3.404868 -0.005207         0.013847  0.182461   \n",
      "PhysicallyActive   -5.406519   -4.760232 -0.025932         0.003398 -0.015766   \n",
      "BMI                32.350069   10.123769  0.313396         0.308211  0.336992   \n",
      "Smoking            -1.570513   -1.150603 -0.044350        -0.003746 -0.001992   \n",
      "Alcohol            -0.256351    0.151911 -0.062002         0.005622  0.018914   \n",
      "Sleep              -3.729791   -4.425980  0.041406         0.030987 -0.038665   \n",
      "SoundSleep         -1.548597   -0.815567 -0.017626         0.053840 -0.106233   \n",
      "RegularMedicine     6.140860    4.675318  0.030443         0.043785  0.092047   \n",
      "JunkFood           -5.808135   -4.013747 -0.025104         0.002627 -0.038625   \n",
      "Stress              3.606575    2.300090  0.038333         0.023802  0.062202   \n",
      "BPLevel             5.361271    4.360764 -0.005623         0.024474  0.133608   \n",
      "Pregancies          4.605501    3.691702  0.207852         0.047277  0.021146   \n",
      "Pdiabetes           0.127799   -0.010985  0.007935         0.001386  0.001730   \n",
      "UriationFreq        1.283037    1.406395  0.041091         0.007356  0.024413   \n",
      "Diabetic            6.196602    5.060767  0.008662         0.057909  0.071818   \n",
      "\n",
      "                  PhysicallyActive        BMI   Smoking   Alcohol     Sleep  \\\n",
      "Age Above                -5.406519  32.350069 -1.570513 -0.256351 -3.729791   \n",
      "Age Below                -4.760232  10.123769 -1.150603  0.151911 -4.425980   \n",
      "Gender                   -0.025932   0.313396 -0.044350 -0.062002  0.041406   \n",
      "Family_Diabetes           0.003398   0.308211 -0.003746  0.005622  0.030987   \n",
      "highBP                   -0.015766   0.336992 -0.001992  0.018914 -0.038665   \n",
      "PhysicallyActive          0.965999   0.048592  0.012698 -0.018595  0.005078   \n",
      "BMI                       0.048592  29.105657 -0.014611 -0.018489 -0.460386   \n",
      "Smoking                   0.012698  -0.014611  0.100774  0.065469 -0.007013   \n",
      "Alcohol                  -0.018595  -0.018489  0.065469  0.161302 -0.002643   \n",
      "Sleep                     0.005078  -0.460386 -0.007013 -0.002643  1.621765   \n",
      "SoundSleep               -0.193512  -2.990619 -0.001567  0.051483  1.271871   \n",
      "RegularMedicine          -0.032542   0.472907 -0.006482  0.012804 -0.062520   \n",
      "JunkFood                  0.104586  -0.156234  0.067687  0.037058  0.038692   \n",
      "Stress                   -0.021863   0.285618  0.038771  0.053488 -0.002019   \n",
      "BPLevel                  -0.037155   0.400493  0.007000  0.031625 -0.066009   \n",
      "Pregancies               -0.018108  -0.296160 -0.037629 -0.065960  0.049787   \n",
      "Pdiabetes                -0.000303   0.067775 -0.000621 -0.002975  0.012307   \n",
      "UriationFreq             -0.019901   0.637275 -0.004835 -0.018888 -0.055596   \n",
      "Diabetic                 -0.021552   0.301402 -0.001272  0.011891 -0.037741   \n",
      "\n",
      "                  SoundSleep  RegularMedicine  JunkFood    Stress   BPLevel  \\\n",
      "Age Above          -1.548597         6.140860 -5.808135  3.606575  5.361271   \n",
      "Age Below          -0.815567         4.675318 -4.013747  2.300090  4.360764   \n",
      "Gender             -0.017626         0.030443 -0.025104  0.038333 -0.005623   \n",
      "Family_Diabetes     0.053840         0.043785  0.002627  0.023802  0.024474   \n",
      "highBP             -0.106233         0.092047 -0.038625  0.062202  0.133608   \n",
      "PhysicallyActive   -0.193512        -0.032542  0.104586 -0.021863 -0.037155   \n",
      "BMI                -2.990619         0.472907 -0.156234  0.285618  0.400493   \n",
      "Smoking            -0.001567        -0.006482  0.067687  0.038771  0.007000   \n",
      "Alcohol             0.051483         0.012804  0.037058  0.053488  0.031625   \n",
      "Sleep               1.271871        -0.062520  0.038692 -0.002019 -0.066009   \n",
      "SoundSleep          3.483925        -0.103590 -0.151592 -0.089510 -0.127485   \n",
      "RegularMedicine    -0.103590         0.228723 -0.046728  0.096762  0.090081   \n",
      "JunkFood           -0.151592        -0.046728  0.634222  0.098848 -0.028451   \n",
      "Stress             -0.089510         0.096762  0.098848  0.640252  0.088076   \n",
      "BPLevel            -0.127485         0.090081 -0.028451  0.088076  0.217721   \n",
      "Pregancies          0.261743         0.084569 -0.023762  0.118864  0.028221   \n",
      "Pdiabetes           0.007438         0.000056  0.013492 -0.001056  0.002350   \n",
      "UriationFreq       -0.243307         0.036420 -0.002896  0.036248  0.032909   \n",
      "Diabetic            0.001325         0.128441 -0.022607  0.079937  0.090964   \n",
      "\n",
      "                  Pregancies  Pdiabetes  UriationFreq  Diabetic  \n",
      "Age Above           4.605501   0.127799      1.283037  6.196602  \n",
      "Age Below           3.691702  -0.010985      1.406395  5.060767  \n",
      "Gender              0.207852   0.007935      0.041091  0.008662  \n",
      "Family_Diabetes     0.047277   0.001386      0.007356  0.057909  \n",
      "highBP              0.021146   0.001730      0.024413  0.071818  \n",
      "PhysicallyActive   -0.018108  -0.000303     -0.019901 -0.021552  \n",
      "BMI                -0.296160   0.067775      0.637275  0.301402  \n",
      "Smoking            -0.037629  -0.000621     -0.004835 -0.001272  \n",
      "Alcohol            -0.065960  -0.002975     -0.018888  0.011891  \n",
      "Sleep               0.049787   0.012307     -0.055596 -0.037741  \n",
      "SoundSleep          0.261743   0.007438     -0.243307  0.001325  \n",
      "RegularMedicine     0.084569   0.000056      0.036420  0.128441  \n",
      "JunkFood           -0.023762   0.013492     -0.002896 -0.022607  \n",
      "Stress              0.118864  -0.001056      0.036248  0.079937  \n",
      "BPLevel             0.028221   0.002350      0.032909  0.090964  \n",
      "Pregancies          0.794935   0.024050      0.013026  0.095898  \n",
      "Pdiabetes           0.024050   0.014520     -0.003395  0.008510  \n",
      "UriationFreq        0.013026  -0.003395      0.210934  0.020763  \n",
      "Diabetic            0.095898   0.008510      0.020763  0.201682  \n",
      "\n",
      "Correlation Matrix:\n",
      "                  Age Above  Age Below    Gender  Family_Diabetes    highBP  \\\n",
      "Age Above          1.000000   0.820376  0.032848         0.112626  0.399748   \n",
      "Age Below          0.820376   1.000000 -0.008308         0.065338  0.390961   \n",
      "Gender             0.032848  -0.008308  1.000000         0.098781 -0.024976   \n",
      "Family_Diabetes    0.112626   0.065338  0.098781         1.000000  0.064866   \n",
      "highBP             0.399748   0.390961 -0.024976         0.064866  1.000000   \n",
      "PhysicallyActive  -0.216279  -0.237551 -0.054062         0.006918 -0.037554   \n",
      "BMI                0.235761   0.092039  0.119030         0.114315  0.146233   \n",
      "Smoking           -0.194515  -0.177774 -0.286267        -0.023610 -0.014693   \n",
      "Alcohol           -0.025096   0.018552 -0.316329         0.028009  0.110251   \n",
      "Sleep             -0.115153  -0.170464  0.066622         0.048689 -0.071079   \n",
      "SoundSleep        -0.032620  -0.021431 -0.019349         0.057719 -0.133242   \n",
      "RegularMedicine    0.504847   0.479483  0.130433         0.183198  0.450579   \n",
      "JunkFood          -0.286749  -0.247199 -0.064591         0.006600 -0.113545   \n",
      "Stress             0.177217   0.140989  0.098163         0.059523  0.181987   \n",
      "BPLevel            0.451755   0.458384 -0.024692         0.104954  0.670343   \n",
      "Pregancies         0.203094   0.203085  0.477683         0.106103  0.055523   \n",
      "Pdiabetes          0.041700  -0.004471  0.134935         0.023013  0.033612   \n",
      "UriationFreq       0.109838   0.150194  0.183328         0.032050  0.124441   \n",
      "Diabetic           0.542507   0.552713  0.039523         0.258023  0.374382   \n",
      "\n",
      "                  PhysicallyActive       BMI   Smoking   Alcohol     Sleep  \\\n",
      "Age Above                -0.216279  0.235761 -0.194515 -0.025096 -0.115153   \n",
      "Age Below                -0.237551  0.092039 -0.177774  0.018552 -0.170464   \n",
      "Gender                   -0.054062  0.119030 -0.286267 -0.316329  0.066622   \n",
      "Family_Diabetes           0.006918  0.114315 -0.023610  0.028009  0.048689   \n",
      "highBP                   -0.037554  0.146233 -0.014693  0.110251 -0.071079   \n",
      "PhysicallyActive          1.000000  0.009164  0.040698 -0.047108  0.004057   \n",
      "BMI                       0.009164  1.000000 -0.008531 -0.008533 -0.067010   \n",
      "Smoking                   0.040698 -0.008531  1.000000  0.513503 -0.017348   \n",
      "Alcohol                  -0.047108 -0.008533  0.513503  1.000000 -0.005168   \n",
      "Sleep                     0.004057 -0.067010 -0.017348 -0.005168  1.000000   \n",
      "SoundSleep               -0.105483 -0.296987 -0.002645  0.068676  0.535075   \n",
      "RegularMedicine          -0.069231  0.183287 -0.042694  0.066662 -0.102653   \n",
      "JunkFood                  0.133618 -0.036364  0.267739  0.115862  0.038151   \n",
      "Stress                   -0.027800  0.066164  0.152638  0.166442 -0.001981   \n",
      "BPLevel                  -0.081018  0.159095  0.047257  0.168759 -0.111086   \n",
      "Pregancies               -0.020665 -0.061570 -0.132949 -0.184204  0.043849   \n",
      "Pdiabetes                -0.002561  0.104255 -0.016233 -0.061479  0.080202   \n",
      "UriationFreq             -0.044088  0.257197 -0.033161 -0.102396 -0.095055   \n",
      "Diabetic                 -0.048827  0.124401 -0.008921  0.065928 -0.065991   \n",
      "\n",
      "                  SoundSleep  RegularMedicine  JunkFood    Stress   BPLevel  \\\n",
      "Age Above          -0.032620         0.504847 -0.286749  0.177217  0.451755   \n",
      "Age Below          -0.021431         0.479483 -0.247199  0.140989  0.458384   \n",
      "Gender             -0.019349         0.130433 -0.064591  0.098163 -0.024692   \n",
      "Family_Diabetes     0.057719         0.183198  0.006600  0.059523  0.104954   \n",
      "highBP             -0.133242         0.450579 -0.113545  0.181987  0.670343   \n",
      "PhysicallyActive   -0.105483        -0.069231  0.133618 -0.027800 -0.081018   \n",
      "BMI                -0.296987         0.183287 -0.036364  0.066164  0.159095   \n",
      "Smoking            -0.002645        -0.042694  0.267739  0.152638  0.047257   \n",
      "Alcohol             0.068676         0.066662  0.115862  0.166442  0.168759   \n",
      "Sleep               0.535075        -0.102653  0.038151 -0.001981 -0.111086   \n",
      "SoundSleep          1.000000        -0.116045 -0.101982 -0.059933 -0.146377   \n",
      "RegularMedicine    -0.116045         1.000000 -0.122687  0.252858  0.403673   \n",
      "JunkFood           -0.101982        -0.122687  1.000000  0.155121 -0.076564   \n",
      "Stress             -0.059933         0.252858  0.155121  1.000000  0.235901   \n",
      "BPLevel            -0.146377         0.403673 -0.076564  0.235901  1.000000   \n",
      "Pregancies          0.157281         0.198331 -0.033466  0.166614  0.067835   \n",
      "Pdiabetes           0.033071         0.000980  0.140592 -0.010952  0.041794   \n",
      "UriationFreq       -0.283823         0.165812 -0.007917  0.098635  0.153567   \n",
      "Diabetic            0.001581         0.598018 -0.063209  0.222453  0.434093   \n",
      "\n",
      "                  Pregancies  Pdiabetes  UriationFreq  Diabetic  \n",
      "Age Above           0.203094   0.041700      0.109838  0.542507  \n",
      "Age Below           0.203085  -0.004471      0.150194  0.552713  \n",
      "Gender              0.477683   0.134935      0.183328  0.039523  \n",
      "Family_Diabetes     0.106103   0.023013      0.032050  0.258023  \n",
      "highBP              0.055523   0.033612      0.124441  0.374382  \n",
      "PhysicallyActive   -0.020665  -0.002561     -0.044088 -0.048827  \n",
      "BMI                -0.061570   0.104255      0.257197  0.124401  \n",
      "Smoking            -0.132949  -0.016233     -0.033161 -0.008921  \n",
      "Alcohol            -0.184204  -0.061479     -0.102396  0.065928  \n",
      "Sleep               0.043849   0.080202     -0.095055 -0.065991  \n",
      "SoundSleep          0.157281   0.033071     -0.283823  0.001581  \n",
      "RegularMedicine     0.198331   0.000980      0.165812  0.598018  \n",
      "JunkFood           -0.033466   0.140592     -0.007917 -0.063209  \n",
      "Stress              0.166614  -0.010952      0.098635  0.222453  \n",
      "BPLevel             0.067835   0.041794      0.153567  0.434093  \n",
      "Pregancies          1.000000   0.223856      0.031810  0.239502  \n",
      "Pdiabetes           0.223856   1.000000     -0.061342  0.157251  \n",
      "UriationFreq        0.031810  -0.061342      1.000000  0.100664  \n",
      "Diabetic            0.239502   0.157251      0.100664  1.000000  \n"
     ]
    }
   ],
   "source": [
    "# Calculate covariance matrix for all columns with respect to the target column\n",
    "covariance_matrix = diabetes_imputed.cov()\n",
    "\n",
    "# Calculate correlation matrix for all columns with respect to the target column\n",
    "correlation_matrix = diabetes_imputed.corr()\n",
    "\n",
    "# Calculate variance for all columns with respect to the target column\n",
    "#variance = diabetes_imputed.var()\n",
    "\n",
    "# Calculate Mean Squared Error (MSE) for each column with respect to the target column\n",
    "#mse_values = ((XY.drop(columns='Diabetes_binary') - XY['Diabetes_binary'])**2).mean()\n",
    "\n",
    "# Print the results\n",
    "print(\"Covariance Matrix:\")\n",
    "print(covariance_matrix)\n",
    "\n",
    "print(\"\\nCorrelation Matrix:\")\n",
    "print(correlation_matrix)\n",
    "\n",
    "#print(\"\\nVariance for Each Column with Respect to Target Column:\")\n",
    "#print(variance)\n",
    "\n",
    "#print(\"\\nMean Squared Error (MSE) for Each Column with Respect to Target Column:\")\n",
    "#print(mse_values)\n"
   ]
  },
  {
   "cell_type": "markdown",
   "metadata": {},
   "source": [
    "# Entropy"
   ]
  },
  {
   "cell_type": "code",
   "execution_count": 70,
   "metadata": {},
   "outputs": [
    {
     "name": "stdout",
     "output_type": "stream",
     "text": [
      "Value of each column\n",
      "\n",
      "\n",
      "Age Above\n",
      "Age Above\n",
      "0     487\n",
      "40    164\n",
      "50    156\n",
      "60    144\n",
      "Name: count, dtype: int64\n",
      "\n",
      "\n",
      "Age Below\n",
      "Age Below\n",
      "40    487\n",
      "49    164\n",
      "59    156\n",
      "99    144\n",
      "Name: count, dtype: int64\n",
      "\n",
      "\n",
      "Gender\n",
      "Gender\n",
      "0    580\n",
      "1    371\n",
      "Name: count, dtype: int64\n",
      "\n",
      "\n",
      "Family_Diabetes\n",
      "Family_Diabetes\n",
      "0    497\n",
      "1    454\n",
      "Name: count, dtype: int64\n",
      "\n",
      "\n",
      "highBP\n",
      "highBP\n",
      "0    723\n",
      "1    228\n",
      "Name: count, dtype: int64\n",
      "\n",
      "\n",
      "PhysicallyActive\n",
      "PhysicallyActive\n",
      "1    336\n",
      "2    271\n",
      "3    212\n",
      "0    132\n",
      "Name: count, dtype: int64\n",
      "\n",
      "\n",
      "BMI\n",
      "BMI\n",
      "24    114\n",
      "21     88\n",
      "23     76\n",
      "28     71\n",
      "26     66\n",
      "33     64\n",
      "27     63\n",
      "22     58\n",
      "20     48\n",
      "19     36\n",
      "25     34\n",
      "30     33\n",
      "18     32\n",
      "29     28\n",
      "38     28\n",
      "36     20\n",
      "17     16\n",
      "32     16\n",
      "31     16\n",
      "34     12\n",
      "35     12\n",
      "15      8\n",
      "39      4\n",
      "40      4\n",
      "42      3\n",
      "45      1\n",
      "Name: count, dtype: int64\n",
      "\n",
      "\n",
      "Smoking\n",
      "Smoking\n",
      "0    843\n",
      "1    108\n",
      "Name: count, dtype: int64\n",
      "\n",
      "\n",
      "Alcohol\n",
      "Alcohol\n",
      "0    759\n",
      "1    192\n",
      "Name: count, dtype: int64\n",
      "\n",
      "\n",
      "Sleep\n",
      "Sleep\n",
      "7     264\n",
      "8     256\n",
      "6     255\n",
      "5      68\n",
      "9      48\n",
      "4      32\n",
      "10     24\n",
      "11      4\n",
      "Name: count, dtype: int64\n",
      "\n",
      "\n",
      "SoundSleep\n",
      "SoundSleep\n",
      "6     227\n",
      "4     188\n",
      "5     156\n",
      "8     120\n",
      "7     104\n",
      "3      68\n",
      "2      44\n",
      "10     16\n",
      "9      16\n",
      "11      4\n",
      "1       4\n",
      "0       4\n",
      "Name: count, dtype: int64\n",
      "\n",
      "\n",
      "RegularMedicine\n",
      "RegularMedicine\n",
      "0    615\n",
      "1    336\n",
      "Name: count, dtype: int64\n",
      "\n",
      "\n",
      "JunkFood\n",
      "JunkFood\n",
      "0    671\n",
      "1    184\n",
      "2     52\n",
      "3     44\n",
      "Name: count, dtype: int64\n",
      "\n",
      "\n",
      "Stress\n",
      "Stress\n",
      "1    563\n",
      "2    164\n",
      "0    136\n",
      "3     88\n",
      "Name: count, dtype: int64\n",
      "\n",
      "\n",
      "BPLevel\n",
      "BPLevel\n",
      "1    707\n",
      "2    216\n",
      "0     28\n",
      "Name: count, dtype: int64\n",
      "\n",
      "\n",
      "Pregancies\n",
      "Pregancies\n",
      "0    796\n",
      "2     63\n",
      "3     60\n",
      "1     28\n",
      "4      4\n",
      "Name: count, dtype: int64\n",
      "\n",
      "\n",
      "Pdiabetes\n",
      "Pdiabetes\n",
      "0    937\n",
      "1     14\n",
      "Name: count, dtype: int64\n",
      "\n",
      "\n",
      "UriationFreq\n",
      "UriationFreq\n",
      "0    664\n",
      "1    287\n",
      "Name: count, dtype: int64\n",
      "\n",
      "\n",
      "Diabetic\n",
      "Diabetic\n",
      "1    685\n",
      "2    266\n",
      "Name: count, dtype: int64\n",
      "\n",
      "\n"
     ]
    }
   ],
   "source": [
    "print('Value of each column')\n",
    "print('\\n')\n",
    "for col in diabetes_imputed.columns:\n",
    "    print(col)\n",
    "    print(diabetes_imputed[col].value_counts())\n",
    "    print(\"\\n\")"
   ]
  },
  {
   "cell_type": "code",
   "execution_count": 71,
   "metadata": {},
   "outputs": [],
   "source": [
    "def calc_entropy(column):\n",
    "    counts=np.bincount(column) #This code will return the number of each unique value in a column\n",
    "    probability=counts/(len(column))#here we calculate the probability of each value vy dividing the length of the entire column\n",
    "    entropy=0#we start 0 as the intial value of entropy\n",
    "    for prob in probability: # here we a for loop to go throuh each probability of each unique value in the column\n",
    "        if prob >0:\n",
    "            entropy += prob * math.log(prob, 2) # here calculate entropy of each value and add them to find the total emtropy\n",
    "    return -entropy # we should return - * entropy due to the formula\n",
    "    \n",
    "    "
   ]
  },
  {
   "cell_type": "code",
   "execution_count": 72,
   "metadata": {},
   "outputs": [
    {
     "name": "stdout",
     "output_type": "stream",
     "text": [
      "1.771894230501289\n",
      "1.771894230501289\n",
      "0.9648741523800376\n",
      "0.9985247402332957\n",
      "0.7946203517383561\n",
      "1.9245736608466029\n",
      "0.5105753202529608\n",
      "4.225379140726722\n",
      "0.7256974705253365\n",
      "2.3535066337348147\n",
      "2.884629581903987\n",
      "0.9369914854420316\n",
      "1.2479002415985325\n",
      "1.6040381725969848\n",
      "0.9534307774587054\n",
      "0.908715614259761\n",
      "0.1106746364384136\n",
      "0.8834650741094798\n",
      "0.8550493230065987\n"
     ]
    }
   ],
   "source": [
    "print(calc_entropy(diabetes_imputed['Age Above']))\n",
    "print(calc_entropy(diabetes_imputed['Age Below']))\n",
    "print(calc_entropy(diabetes_imputed['Gender']))\n",
    "print(calc_entropy(diabetes_imputed['Family_Diabetes']))\n",
    "print(calc_entropy(diabetes_imputed['highBP']))\n",
    "print(calc_entropy(diabetes_imputed['PhysicallyActive']))\n",
    "print(calc_entropy(diabetes_imputed['Smoking']))\n",
    "print(calc_entropy(diabetes_imputed['BMI']))\n",
    "print(calc_entropy(diabetes_imputed['Alcohol']))\n",
    "print(calc_entropy(diabetes_imputed['Sleep']))\n",
    "print(calc_entropy(diabetes_imputed['SoundSleep']))\n",
    "print(calc_entropy(diabetes_imputed['RegularMedicine']))\n",
    "print(calc_entropy(diabetes_imputed['JunkFood']))\n",
    "print(calc_entropy(diabetes_imputed['Stress']))\n",
    "print(calc_entropy(diabetes_imputed['BPLevel']))\n",
    "print(calc_entropy(diabetes_imputed['Pregancies']))\n",
    "print(calc_entropy(diabetes_imputed['Pdiabetes']))\n",
    "print(calc_entropy(diabetes_imputed['UriationFreq']))\n",
    "print(calc_entropy(diabetes_imputed['Diabetic']))\n",
    "#print(calc_entropy(Y))"
   ]
  },
  {
   "cell_type": "code",
   "execution_count": 73,
   "metadata": {},
   "outputs": [
    {
     "data": {
      "text/html": [
       "<div>\n",
       "<style scoped>\n",
       "    .dataframe tbody tr th:only-of-type {\n",
       "        vertical-align: middle;\n",
       "    }\n",
       "\n",
       "    .dataframe tbody tr th {\n",
       "        vertical-align: top;\n",
       "    }\n",
       "\n",
       "    .dataframe thead th {\n",
       "        text-align: right;\n",
       "    }\n",
       "</style>\n",
       "<table border=\"1\" class=\"dataframe\">\n",
       "  <thead>\n",
       "    <tr style=\"text-align: right;\">\n",
       "      <th></th>\n",
       "      <th>Age Above</th>\n",
       "      <th>Age Below</th>\n",
       "      <th>Gender</th>\n",
       "      <th>Family_Diabetes</th>\n",
       "      <th>highBP</th>\n",
       "      <th>PhysicallyActive</th>\n",
       "      <th>BMI</th>\n",
       "      <th>Smoking</th>\n",
       "      <th>Alcohol</th>\n",
       "      <th>Sleep</th>\n",
       "      <th>SoundSleep</th>\n",
       "      <th>RegularMedicine</th>\n",
       "      <th>JunkFood</th>\n",
       "      <th>Stress</th>\n",
       "      <th>BPLevel</th>\n",
       "      <th>Pregancies</th>\n",
       "      <th>Pdiabetes</th>\n",
       "      <th>UriationFreq</th>\n",
       "      <th>Diabetic</th>\n",
       "    </tr>\n",
       "  </thead>\n",
       "  <tbody>\n",
       "    <tr>\n",
       "      <th>0</th>\n",
       "      <td>50</td>\n",
       "      <td>59</td>\n",
       "      <td>0</td>\n",
       "      <td>0</td>\n",
       "      <td>1</td>\n",
       "      <td>3</td>\n",
       "      <td>39</td>\n",
       "      <td>0</td>\n",
       "      <td>0</td>\n",
       "      <td>8</td>\n",
       "      <td>6</td>\n",
       "      <td>0</td>\n",
       "      <td>0</td>\n",
       "      <td>1</td>\n",
       "      <td>2</td>\n",
       "      <td>0</td>\n",
       "      <td>0</td>\n",
       "      <td>0</td>\n",
       "      <td>1</td>\n",
       "    </tr>\n",
       "    <tr>\n",
       "      <th>1</th>\n",
       "      <td>50</td>\n",
       "      <td>59</td>\n",
       "      <td>0</td>\n",
       "      <td>0</td>\n",
       "      <td>1</td>\n",
       "      <td>1</td>\n",
       "      <td>28</td>\n",
       "      <td>0</td>\n",
       "      <td>0</td>\n",
       "      <td>8</td>\n",
       "      <td>6</td>\n",
       "      <td>1</td>\n",
       "      <td>2</td>\n",
       "      <td>1</td>\n",
       "      <td>1</td>\n",
       "      <td>0</td>\n",
       "      <td>0</td>\n",
       "      <td>0</td>\n",
       "      <td>1</td>\n",
       "    </tr>\n",
       "    <tr>\n",
       "      <th>2</th>\n",
       "      <td>40</td>\n",
       "      <td>49</td>\n",
       "      <td>0</td>\n",
       "      <td>0</td>\n",
       "      <td>0</td>\n",
       "      <td>3</td>\n",
       "      <td>24</td>\n",
       "      <td>0</td>\n",
       "      <td>0</td>\n",
       "      <td>6</td>\n",
       "      <td>6</td>\n",
       "      <td>0</td>\n",
       "      <td>0</td>\n",
       "      <td>1</td>\n",
       "      <td>1</td>\n",
       "      <td>0</td>\n",
       "      <td>0</td>\n",
       "      <td>0</td>\n",
       "      <td>1</td>\n",
       "    </tr>\n",
       "    <tr>\n",
       "      <th>3</th>\n",
       "      <td>50</td>\n",
       "      <td>59</td>\n",
       "      <td>0</td>\n",
       "      <td>0</td>\n",
       "      <td>0</td>\n",
       "      <td>3</td>\n",
       "      <td>23</td>\n",
       "      <td>0</td>\n",
       "      <td>0</td>\n",
       "      <td>8</td>\n",
       "      <td>6</td>\n",
       "      <td>0</td>\n",
       "      <td>0</td>\n",
       "      <td>1</td>\n",
       "      <td>1</td>\n",
       "      <td>0</td>\n",
       "      <td>0</td>\n",
       "      <td>0</td>\n",
       "      <td>1</td>\n",
       "    </tr>\n",
       "    <tr>\n",
       "      <th>4</th>\n",
       "      <td>40</td>\n",
       "      <td>49</td>\n",
       "      <td>0</td>\n",
       "      <td>0</td>\n",
       "      <td>0</td>\n",
       "      <td>1</td>\n",
       "      <td>27</td>\n",
       "      <td>0</td>\n",
       "      <td>0</td>\n",
       "      <td>8</td>\n",
       "      <td>8</td>\n",
       "      <td>0</td>\n",
       "      <td>0</td>\n",
       "      <td>1</td>\n",
       "      <td>1</td>\n",
       "      <td>0</td>\n",
       "      <td>0</td>\n",
       "      <td>0</td>\n",
       "      <td>1</td>\n",
       "    </tr>\n",
       "  </tbody>\n",
       "</table>\n",
       "</div>"
      ],
      "text/plain": [
       "  Age Above Age Below Gender Family_Diabetes highBP  PhysicallyActive  BMI  \\\n",
       "0        50        59      0               0      1                 3   39   \n",
       "1        50        59      0               0      1                 1   28   \n",
       "2        40        49      0               0      0                 3   24   \n",
       "3        50        59      0               0      0                 3   23   \n",
       "4        40        49      0               0      0                 1   27   \n",
       "\n",
       "  Smoking Alcohol Sleep SoundSleep RegularMedicine JunkFood Stress  BPLevel  \\\n",
       "0       0       0     8          6               0        0      1        2   \n",
       "1       0       0     8          6               1        2      1        1   \n",
       "2       0       0     6          6               0        0      1        1   \n",
       "3       0       0     8          6               0        0      1        1   \n",
       "4       0       0     8          8               0        0      1        1   \n",
       "\n",
       "   Pregancies Pdiabetes UriationFreq  Diabetic  \n",
       "0           0         0            0         1  \n",
       "1           0         0            0         1  \n",
       "2           0         0            0         1  \n",
       "3           0         0            0         1  \n",
       "4           0         0            0         1  "
      ]
     },
     "execution_count": 73,
     "metadata": {},
     "output_type": "execute_result"
    }
   ],
   "source": [
    "diabetes_imputed.head()"
   ]
  },
  {
   "cell_type": "markdown",
   "metadata": {},
   "source": [
    "# Information Gain"
   ]
  },
  {
   "cell_type": "code",
   "execution_count": 74,
   "metadata": {},
   "outputs": [],
   "source": [
    "def information_gain(data, split,target):\n",
    "    original_entropy=calc_entropy(data[target])\n",
    "    values=data[split].unique()\n",
    "    left_split=data[data[split]==values[0]]\n",
    "    right_split=data[data[split]==values[1]]\n",
    "    subract=0\n",
    "    for subset in [left_split,right_split]:\n",
    "        prob=(subset.shape[0])/data.shape[0]\n",
    "        subract += prob * calc_entropy(subset[target])\n",
    "    return  original_entropy - subract"
   ]
  },
  {
   "cell_type": "code",
   "execution_count": 75,
   "metadata": {
    "scrolled": false
   },
   "outputs": [
    {
     "name": "stdout",
     "output_type": "stream",
     "text": [
      "0.5387194174554975\n",
      "0.5387194174554975\n",
      "0.0011209174645492315\n",
      "0.04873977007218255\n",
      "0.09382693208841819\n",
      "0.37312183077892047\n",
      "5.7825267751776543e-05\n",
      "0.7851736229415707\n",
      "0.003047728491104462\n",
      "0.3992579406635649\n",
      "0.5437104395383379\n",
      "0.25979697349238706\n",
      "0.18622834858099768\n",
      "0.3025130383972263\n",
      "0.13662077569140185\n",
      "0.1675895932030257\n",
      "0.01574218483146861\n",
      "0.007139670408989884\n"
     ]
    }
   ],
   "source": [
    "print(information_gain(diabetes_imputed,\"Age Above\",\"Diabetic\"))\n",
    "print(information_gain(diabetes_imputed,\"Age Below\",\"Diabetic\"))\n",
    "print(information_gain(diabetes_imputed,\"Gender\",\"Diabetic\"))\n",
    "print(information_gain(diabetes_imputed,\"Family_Diabetes\",\"Diabetic\"))\n",
    "print(information_gain(diabetes_imputed,\"highBP\",\"Diabetic\"))\n",
    "print(information_gain(diabetes_imputed,\"PhysicallyActive\",\"Diabetic\"))\n",
    "print(information_gain(diabetes_imputed,\"Smoking\",\"Diabetic\"))\n",
    "print(information_gain(diabetes_imputed,\"BMI\",\"Diabetic\"))\n",
    "print(information_gain(diabetes_imputed,\"Alcohol\",\"Diabetic\"))\n",
    "print(information_gain(diabetes_imputed,\"Sleep\",\"Diabetic\"))\n",
    "print(information_gain(diabetes_imputed,\"SoundSleep\",\"Diabetic\"))\n",
    "print(information_gain(diabetes_imputed,\"RegularMedicine\",\"Diabetic\"))\n",
    "print(information_gain(diabetes_imputed,\"JunkFood\",\"Diabetic\"))\n",
    "print(information_gain(diabetes_imputed,\"Stress\",\"Diabetic\"))\n",
    "print(information_gain(diabetes_imputed,\"BPLevel\",\"Diabetic\"))\n",
    "print(information_gain(diabetes_imputed,\"Pregancies\",\"Diabetic\"))\n",
    "print(information_gain(diabetes_imputed,\"Pdiabetes\",\"Diabetic\"))\n",
    "print(information_gain(diabetes_imputed,\"UriationFreq\",\"Diabetic\"))"
   ]
  },
  {
   "cell_type": "markdown",
   "metadata": {},
   "source": [
    "# drop multiple columns"
   ]
  },
  {
   "cell_type": "code",
   "execution_count": 76,
   "metadata": {},
   "outputs": [],
   "source": [
    "diabetes_imputed = diabetes_imputed.drop(columns = 'BPLevel', axis=1)"
   ]
  },
  {
   "cell_type": "markdown",
   "metadata": {},
   "source": [
    "### Splitting the Dataset into Diabetes and Non Diabetes."
   ]
  },
  {
   "cell_type": "code",
   "execution_count": 77,
   "metadata": {},
   "outputs": [],
   "source": [
    "diabetic_mask = diabetes_imputed['Diabetic'] == '2'\n",
    "diabetic_df = diabetes_imputed[diabetic_mask]\n",
    "\n",
    "not_diabetic_mask = diabetes_imputed['Diabetic'] == '1'\n",
    "not_diabetic = diabetes_imputed[not_diabetic_mask]"
   ]
  },
  {
   "cell_type": "code",
   "execution_count": 78,
   "metadata": {},
   "outputs": [
    {
     "data": {
      "text/html": [
       "<div>\n",
       "<style scoped>\n",
       "    .dataframe tbody tr th:only-of-type {\n",
       "        vertical-align: middle;\n",
       "    }\n",
       "\n",
       "    .dataframe tbody tr th {\n",
       "        vertical-align: top;\n",
       "    }\n",
       "\n",
       "    .dataframe thead th {\n",
       "        text-align: right;\n",
       "    }\n",
       "</style>\n",
       "<table border=\"1\" class=\"dataframe\">\n",
       "  <thead>\n",
       "    <tr style=\"text-align: right;\">\n",
       "      <th></th>\n",
       "      <th>Age Above</th>\n",
       "      <th>Age Below</th>\n",
       "      <th>Gender</th>\n",
       "      <th>Family_Diabetes</th>\n",
       "      <th>highBP</th>\n",
       "      <th>PhysicallyActive</th>\n",
       "      <th>BMI</th>\n",
       "      <th>Smoking</th>\n",
       "      <th>Alcohol</th>\n",
       "      <th>Sleep</th>\n",
       "      <th>SoundSleep</th>\n",
       "      <th>RegularMedicine</th>\n",
       "      <th>JunkFood</th>\n",
       "      <th>Stress</th>\n",
       "      <th>Pregancies</th>\n",
       "      <th>Pdiabetes</th>\n",
       "      <th>UriationFreq</th>\n",
       "      <th>Diabetic</th>\n",
       "    </tr>\n",
       "  </thead>\n",
       "  <tbody>\n",
       "    <tr>\n",
       "      <th>0</th>\n",
       "      <td>50</td>\n",
       "      <td>59</td>\n",
       "      <td>0</td>\n",
       "      <td>0</td>\n",
       "      <td>1</td>\n",
       "      <td>3</td>\n",
       "      <td>39</td>\n",
       "      <td>0</td>\n",
       "      <td>0</td>\n",
       "      <td>8</td>\n",
       "      <td>6</td>\n",
       "      <td>0</td>\n",
       "      <td>0</td>\n",
       "      <td>1</td>\n",
       "      <td>0</td>\n",
       "      <td>0</td>\n",
       "      <td>0</td>\n",
       "      <td>1</td>\n",
       "    </tr>\n",
       "    <tr>\n",
       "      <th>1</th>\n",
       "      <td>50</td>\n",
       "      <td>59</td>\n",
       "      <td>0</td>\n",
       "      <td>0</td>\n",
       "      <td>1</td>\n",
       "      <td>1</td>\n",
       "      <td>28</td>\n",
       "      <td>0</td>\n",
       "      <td>0</td>\n",
       "      <td>8</td>\n",
       "      <td>6</td>\n",
       "      <td>1</td>\n",
       "      <td>2</td>\n",
       "      <td>1</td>\n",
       "      <td>0</td>\n",
       "      <td>0</td>\n",
       "      <td>0</td>\n",
       "      <td>1</td>\n",
       "    </tr>\n",
       "    <tr>\n",
       "      <th>2</th>\n",
       "      <td>40</td>\n",
       "      <td>49</td>\n",
       "      <td>0</td>\n",
       "      <td>0</td>\n",
       "      <td>0</td>\n",
       "      <td>3</td>\n",
       "      <td>24</td>\n",
       "      <td>0</td>\n",
       "      <td>0</td>\n",
       "      <td>6</td>\n",
       "      <td>6</td>\n",
       "      <td>0</td>\n",
       "      <td>0</td>\n",
       "      <td>1</td>\n",
       "      <td>0</td>\n",
       "      <td>0</td>\n",
       "      <td>0</td>\n",
       "      <td>1</td>\n",
       "    </tr>\n",
       "    <tr>\n",
       "      <th>3</th>\n",
       "      <td>50</td>\n",
       "      <td>59</td>\n",
       "      <td>0</td>\n",
       "      <td>0</td>\n",
       "      <td>0</td>\n",
       "      <td>3</td>\n",
       "      <td>23</td>\n",
       "      <td>0</td>\n",
       "      <td>0</td>\n",
       "      <td>8</td>\n",
       "      <td>6</td>\n",
       "      <td>0</td>\n",
       "      <td>0</td>\n",
       "      <td>1</td>\n",
       "      <td>0</td>\n",
       "      <td>0</td>\n",
       "      <td>0</td>\n",
       "      <td>1</td>\n",
       "    </tr>\n",
       "    <tr>\n",
       "      <th>4</th>\n",
       "      <td>40</td>\n",
       "      <td>49</td>\n",
       "      <td>0</td>\n",
       "      <td>0</td>\n",
       "      <td>0</td>\n",
       "      <td>1</td>\n",
       "      <td>27</td>\n",
       "      <td>0</td>\n",
       "      <td>0</td>\n",
       "      <td>8</td>\n",
       "      <td>8</td>\n",
       "      <td>0</td>\n",
       "      <td>0</td>\n",
       "      <td>1</td>\n",
       "      <td>0</td>\n",
       "      <td>0</td>\n",
       "      <td>0</td>\n",
       "      <td>1</td>\n",
       "    </tr>\n",
       "  </tbody>\n",
       "</table>\n",
       "</div>"
      ],
      "text/plain": [
       "   Age Above  Age Below  Gender  Family_Diabetes  highBP  PhysicallyActive  \\\n",
       "0         50         59       0                0       1                 3   \n",
       "1         50         59       0                0       1                 1   \n",
       "2         40         49       0                0       0                 3   \n",
       "3         50         59       0                0       0                 3   \n",
       "4         40         49       0                0       0                 1   \n",
       "\n",
       "   BMI  Smoking  Alcohol  Sleep  SoundSleep  RegularMedicine  JunkFood  \\\n",
       "0   39        0        0      8           6                0         0   \n",
       "1   28        0        0      8           6                1         2   \n",
       "2   24        0        0      6           6                0         0   \n",
       "3   23        0        0      8           6                0         0   \n",
       "4   27        0        0      8           8                0         0   \n",
       "\n",
       "   Stress  Pregancies  Pdiabetes  UriationFreq  Diabetic  \n",
       "0       1           0          0             0         1  \n",
       "1       1           0          0             0         1  \n",
       "2       1           0          0             0         1  \n",
       "3       1           0          0             0         1  \n",
       "4       1           0          0             0         1  "
      ]
     },
     "execution_count": 78,
     "metadata": {},
     "output_type": "execute_result"
    }
   ],
   "source": [
    "diabetes_imputed.to_csv('diab_clean.csv', encoding='utf-8', index=False)\n",
    "diabetic_clean = pd.read_csv('diab_clean.csv')\n",
    "diabetic_clean['Diabetic'] = diabetic_clean['Diabetic'].fillna(1)\n",
    "diabetic_clean.head()"
   ]
  },
  {
   "cell_type": "code",
   "execution_count": 79,
   "metadata": {},
   "outputs": [
    {
     "data": {
      "text/html": [
       "<div>\n",
       "<style scoped>\n",
       "    .dataframe tbody tr th:only-of-type {\n",
       "        vertical-align: middle;\n",
       "    }\n",
       "\n",
       "    .dataframe tbody tr th {\n",
       "        vertical-align: top;\n",
       "    }\n",
       "\n",
       "    .dataframe thead th {\n",
       "        text-align: right;\n",
       "    }\n",
       "</style>\n",
       "<table border=\"1\" class=\"dataframe\">\n",
       "  <thead>\n",
       "    <tr style=\"text-align: right;\">\n",
       "      <th></th>\n",
       "      <th>Age Above</th>\n",
       "      <th>Age Below</th>\n",
       "      <th>Gender</th>\n",
       "      <th>Family_Diabetes</th>\n",
       "      <th>highBP</th>\n",
       "      <th>PhysicallyActive</th>\n",
       "      <th>BMI</th>\n",
       "      <th>Smoking</th>\n",
       "      <th>Alcohol</th>\n",
       "      <th>Sleep</th>\n",
       "      <th>SoundSleep</th>\n",
       "      <th>RegularMedicine</th>\n",
       "      <th>JunkFood</th>\n",
       "      <th>Stress</th>\n",
       "      <th>Pregancies</th>\n",
       "      <th>Pdiabetes</th>\n",
       "      <th>UriationFreq</th>\n",
       "      <th>Diabetic</th>\n",
       "    </tr>\n",
       "  </thead>\n",
       "  <tbody>\n",
       "  </tbody>\n",
       "</table>\n",
       "</div>"
      ],
      "text/plain": [
       "Empty DataFrame\n",
       "Columns: [Age Above, Age Below, Gender, Family_Diabetes, highBP, PhysicallyActive, BMI, Smoking, Alcohol, Sleep, SoundSleep, RegularMedicine, JunkFood, Stress, Pregancies, Pdiabetes, UriationFreq, Diabetic]\n",
       "Index: []"
      ]
     },
     "execution_count": 79,
     "metadata": {},
     "output_type": "execute_result"
    }
   ],
   "source": [
    "not_diabetic.to_csv('not_diab_clean.csv', encoding='utf-8', index=False)\n",
    "not_diabetic_clean = pd.read_csv('not_diab_clean.csv')\n",
    "not_diabetic_clean['Diabetic'] = not_diabetic_clean['Diabetic'].fillna(0)\n",
    "not_diabetic_clean.head()\n"
   ]
  },
  {
   "cell_type": "code",
   "execution_count": 80,
   "id": "f6d01794",
   "metadata": {},
   "outputs": [
    {
     "data": {
      "text/plain": [
       "(0, 18)"
      ]
     },
     "execution_count": 80,
     "metadata": {},
     "output_type": "execute_result"
    }
   ],
   "source": [
    "not_diabetic_clean.shape"
   ]
  },
  {
   "cell_type": "code",
   "execution_count": 81,
   "metadata": {},
   "outputs": [],
   "source": [
    "frames = [diabetic_clean, not_diabetic_clean]\n",
    "diabetes_clean = pd.concat(frames)\n",
    "diabetes_clean.to_csv('diabetes_clean_entire.csv', encoding='utf-8', index=False)"
   ]
  },
  {
   "cell_type": "code",
   "execution_count": 82,
   "metadata": {},
   "outputs": [],
   "source": [
    "diab = pd.read_csv('diab_clean.csv')\n",
    "not_diab = pd.read_csv('not_diab_clean.csv')"
   ]
  },
  {
   "cell_type": "code",
   "execution_count": 83,
   "metadata": {},
   "outputs": [
    {
     "name": "stdout",
     "output_type": "stream",
     "text": [
      "--------- Cleaned dataset merged ---------\n",
      "<class 'pandas.core.frame.DataFrame'>\n",
      "RangeIndex: 951 entries, 0 to 950\n",
      "Data columns (total 18 columns):\n",
      " #   Column            Non-Null Count  Dtype \n",
      "---  ------            --------------  ----- \n",
      " 0   Age Above         951 non-null    object\n",
      " 1   Age Below         951 non-null    object\n",
      " 2   Gender            951 non-null    object\n",
      " 3   Family_Diabetes   951 non-null    object\n",
      " 4   highBP            951 non-null    object\n",
      " 5   PhysicallyActive  951 non-null    object\n",
      " 6   BMI               951 non-null    object\n",
      " 7   Smoking           951 non-null    object\n",
      " 8   Alcohol           951 non-null    object\n",
      " 9   Sleep             951 non-null    object\n",
      " 10  SoundSleep        951 non-null    object\n",
      " 11  RegularMedicine   951 non-null    object\n",
      " 12  JunkFood          951 non-null    object\n",
      " 13  Stress            951 non-null    object\n",
      " 14  Pregancies        951 non-null    object\n",
      " 15  Pdiabetes         951 non-null    object\n",
      " 16  UriationFreq      951 non-null    object\n",
      " 17  Diabetic          951 non-null    object\n",
      "dtypes: object(18)\n",
      "memory usage: 133.9+ KB\n",
      "None\n"
     ]
    }
   ],
   "source": [
    "print('--------- Cleaned dataset merged ---------')\n",
    "print(diabetes_clean.info())"
   ]
  },
  {
   "cell_type": "code",
   "execution_count": 84,
   "metadata": {},
   "outputs": [
    {
     "name": "stdout",
     "output_type": "stream",
     "text": [
      "                  Age Above  Age Below    Gender  Family_Diabetes    highBP  \\\n",
      "Age Above          1.000000   0.820376  0.032848         0.112626  0.399748   \n",
      "Age Below          0.820376   1.000000 -0.008308         0.065338  0.390961   \n",
      "Gender             0.032848  -0.008308  1.000000         0.098781 -0.024976   \n",
      "Family_Diabetes    0.112626   0.065338  0.098781         1.000000  0.064866   \n",
      "highBP             0.399748   0.390961 -0.024976         0.064866  1.000000   \n",
      "PhysicallyActive  -0.216279  -0.237551 -0.054062         0.006918 -0.037554   \n",
      "BMI                0.235761   0.092039  0.119030         0.114315  0.146233   \n",
      "Smoking           -0.194515  -0.177774 -0.286267        -0.023610 -0.014693   \n",
      "Alcohol           -0.025096   0.018552 -0.316329         0.028009  0.110251   \n",
      "Sleep             -0.115153  -0.170464  0.066622         0.048689 -0.071079   \n",
      "SoundSleep        -0.032620  -0.021431 -0.019349         0.057719 -0.133242   \n",
      "RegularMedicine    0.504847   0.479483  0.130433         0.183198  0.450579   \n",
      "JunkFood          -0.286749  -0.247199 -0.064591         0.006600 -0.113545   \n",
      "Stress             0.177217   0.140989  0.098163         0.059523  0.181987   \n",
      "Pregancies         0.203094   0.203085  0.477683         0.106103  0.055523   \n",
      "Pdiabetes          0.041700  -0.004471  0.134935         0.023013  0.033612   \n",
      "UriationFreq       0.109838   0.150194  0.183328         0.032050  0.124441   \n",
      "Diabetic           0.542507   0.552713  0.039523         0.258023  0.374382   \n",
      "\n",
      "                  PhysicallyActive       BMI   Smoking   Alcohol     Sleep  \\\n",
      "Age Above                -0.216279  0.235761 -0.194515 -0.025096 -0.115153   \n",
      "Age Below                -0.237551  0.092039 -0.177774  0.018552 -0.170464   \n",
      "Gender                   -0.054062  0.119030 -0.286267 -0.316329  0.066622   \n",
      "Family_Diabetes           0.006918  0.114315 -0.023610  0.028009  0.048689   \n",
      "highBP                   -0.037554  0.146233 -0.014693  0.110251 -0.071079   \n",
      "PhysicallyActive          1.000000  0.009164  0.040698 -0.047108  0.004057   \n",
      "BMI                       0.009164  1.000000 -0.008531 -0.008533 -0.067010   \n",
      "Smoking                   0.040698 -0.008531  1.000000  0.513503 -0.017348   \n",
      "Alcohol                  -0.047108 -0.008533  0.513503  1.000000 -0.005168   \n",
      "Sleep                     0.004057 -0.067010 -0.017348 -0.005168  1.000000   \n",
      "SoundSleep               -0.105483 -0.296987 -0.002645  0.068676  0.535075   \n",
      "RegularMedicine          -0.069231  0.183287 -0.042694  0.066662 -0.102653   \n",
      "JunkFood                  0.133618 -0.036364  0.267739  0.115862  0.038151   \n",
      "Stress                   -0.027800  0.066164  0.152638  0.166442 -0.001981   \n",
      "Pregancies               -0.020665 -0.061570 -0.132949 -0.184204  0.043849   \n",
      "Pdiabetes                -0.002561  0.104255 -0.016233 -0.061479  0.080202   \n",
      "UriationFreq             -0.044088  0.257197 -0.033161 -0.102396 -0.095055   \n",
      "Diabetic                 -0.048827  0.124401 -0.008921  0.065928 -0.065991   \n",
      "\n",
      "                  SoundSleep  RegularMedicine  JunkFood    Stress  Pregancies  \\\n",
      "Age Above          -0.032620         0.504847 -0.286749  0.177217    0.203094   \n",
      "Age Below          -0.021431         0.479483 -0.247199  0.140989    0.203085   \n",
      "Gender             -0.019349         0.130433 -0.064591  0.098163    0.477683   \n",
      "Family_Diabetes     0.057719         0.183198  0.006600  0.059523    0.106103   \n",
      "highBP             -0.133242         0.450579 -0.113545  0.181987    0.055523   \n",
      "PhysicallyActive   -0.105483        -0.069231  0.133618 -0.027800   -0.020665   \n",
      "BMI                -0.296987         0.183287 -0.036364  0.066164   -0.061570   \n",
      "Smoking            -0.002645        -0.042694  0.267739  0.152638   -0.132949   \n",
      "Alcohol             0.068676         0.066662  0.115862  0.166442   -0.184204   \n",
      "Sleep               0.535075        -0.102653  0.038151 -0.001981    0.043849   \n",
      "SoundSleep          1.000000        -0.116045 -0.101982 -0.059933    0.157281   \n",
      "RegularMedicine    -0.116045         1.000000 -0.122687  0.252858    0.198331   \n",
      "JunkFood           -0.101982        -0.122687  1.000000  0.155121   -0.033466   \n",
      "Stress             -0.059933         0.252858  0.155121  1.000000    0.166614   \n",
      "Pregancies          0.157281         0.198331 -0.033466  0.166614    1.000000   \n",
      "Pdiabetes           0.033071         0.000980  0.140592 -0.010952    0.223856   \n",
      "UriationFreq       -0.283823         0.165812 -0.007917  0.098635    0.031810   \n",
      "Diabetic            0.001581         0.598018 -0.063209  0.222453    0.239502   \n",
      "\n",
      "                  Pdiabetes  UriationFreq  Diabetic  \n",
      "Age Above          0.041700      0.109838  0.542507  \n",
      "Age Below         -0.004471      0.150194  0.552713  \n",
      "Gender             0.134935      0.183328  0.039523  \n",
      "Family_Diabetes    0.023013      0.032050  0.258023  \n",
      "highBP             0.033612      0.124441  0.374382  \n",
      "PhysicallyActive  -0.002561     -0.044088 -0.048827  \n",
      "BMI                0.104255      0.257197  0.124401  \n",
      "Smoking           -0.016233     -0.033161 -0.008921  \n",
      "Alcohol           -0.061479     -0.102396  0.065928  \n",
      "Sleep              0.080202     -0.095055 -0.065991  \n",
      "SoundSleep         0.033071     -0.283823  0.001581  \n",
      "RegularMedicine    0.000980      0.165812  0.598018  \n",
      "JunkFood           0.140592     -0.007917 -0.063209  \n",
      "Stress            -0.010952      0.098635  0.222453  \n",
      "Pregancies         0.223856      0.031810  0.239502  \n",
      "Pdiabetes          1.000000     -0.061342  0.157251  \n",
      "UriationFreq      -0.061342      1.000000  0.100664  \n",
      "Diabetic           0.157251      0.100664  1.000000  \n"
     ]
    }
   ],
   "source": [
    "print(diabetes_clean.corr())"
   ]
  },
  {
   "cell_type": "code",
   "execution_count": 85,
   "metadata": {},
   "outputs": [],
   "source": [
    "X = diabetes_clean.drop(columns = 'Diabetic', axis=1)"
   ]
  },
  {
   "cell_type": "code",
   "execution_count": 86,
   "metadata": {},
   "outputs": [],
   "source": [
    "Y = diabetes_clean['Diabetic']"
   ]
  },
  {
   "cell_type": "code",
   "execution_count": 87,
   "metadata": {},
   "outputs": [
    {
     "name": "stdout",
     "output_type": "stream",
     "text": [
      "    Age Above Age Below Gender Family_Diabetes highBP PhysicallyActive BMI  \\\n",
      "0          50        59      0               0      1                3  39   \n",
      "1          50        59      0               0      1                1  28   \n",
      "2          40        49      0               0      0                3  24   \n",
      "3          50        59      0               0      0                3  23   \n",
      "4          40        49      0               0      0                1  27   \n",
      "..        ...       ...    ...             ...    ...              ...  ..   \n",
      "946         0        40      0               1      0                2  25   \n",
      "947        60        99      0               1      1                2  27   \n",
      "948        60        99      0               0      1                0  23   \n",
      "949        60        99      0               0      1                1  27   \n",
      "950        60        99      1               1      1                3  30   \n",
      "\n",
      "    Smoking Alcohol Sleep SoundSleep RegularMedicine JunkFood Stress  \\\n",
      "0         0       0     8          6               0        0      1   \n",
      "1         0       0     8          6               1        2      1   \n",
      "2         0       0     6          6               0        0      1   \n",
      "3         0       0     8          6               0        0      1   \n",
      "4         0       0     8          8               0        0      1   \n",
      "..      ...     ...   ...        ...             ...      ...    ...   \n",
      "946       0       0     8          6               0        1      1   \n",
      "947       0       0     6          5               1        0      1   \n",
      "948       0       0     6          5               1        0      1   \n",
      "949       0       1     6          5               1        0      2   \n",
      "950       0       0     7          4               1        0      1   \n",
      "\n",
      "    Pregancies Pdiabetes UriationFreq  \n",
      "0            0         0            0  \n",
      "1            0         0            0  \n",
      "2            0         0            0  \n",
      "3            0         0            0  \n",
      "4            0         0            0  \n",
      "..         ...       ...          ...  \n",
      "946          0         0            0  \n",
      "947          0         0            1  \n",
      "948          0         0            0  \n",
      "949          0         0            0  \n",
      "950          2         0            1  \n",
      "\n",
      "[951 rows x 17 columns]\n"
     ]
    }
   ],
   "source": [
    "print(X)"
   ]
  },
  {
   "cell_type": "code",
   "execution_count": 88,
   "metadata": {},
   "outputs": [
    {
     "name": "stdout",
     "output_type": "stream",
     "text": [
      "0      1\n",
      "1      1\n",
      "2      1\n",
      "3      1\n",
      "4      1\n",
      "      ..\n",
      "946    2\n",
      "947    2\n",
      "948    1\n",
      "949    1\n",
      "950    2\n",
      "Name: Diabetic, Length: 951, dtype: object\n"
     ]
    }
   ],
   "source": [
    "print(Y)"
   ]
  },
  {
   "cell_type": "code",
   "execution_count": 89,
   "metadata": {},
   "outputs": [],
   "source": [
    "Y.replace('2','0', inplace=True)"
   ]
  },
  {
   "cell_type": "code",
   "execution_count": 90,
   "metadata": {},
   "outputs": [
    {
     "name": "stdout",
     "output_type": "stream",
     "text": [
      "0      1\n",
      "1      1\n",
      "2      1\n",
      "3      1\n",
      "4      1\n",
      "      ..\n",
      "946    2\n",
      "947    2\n",
      "948    1\n",
      "949    1\n",
      "950    2\n",
      "Name: Diabetic, Length: 951, dtype: object\n"
     ]
    }
   ],
   "source": [
    "print(Y)"
   ]
  },
  {
   "cell_type": "code",
   "execution_count": 114,
   "id": "d823e3f6",
   "metadata": {},
   "outputs": [],
   "source": [
    "from sklearn import preprocessing\n",
    "from sklearn import utils\n",
    "lab = preprocessing.LabelEncoder()\n",
    "Y = lab.fit_transform(Y)"
   ]
  },
  {
   "cell_type": "code",
   "execution_count": 122,
   "id": "1f5cf8ac",
   "metadata": {},
   "outputs": [
    {
     "name": "stdout",
     "output_type": "stream",
     "text": [
      "[0 0 0 0 0 1 0 0 0 0 0 0 0 0 0 0 0 0 0 0 1 1 0 0 0 0 0 0 1 0 0 1 0 0 1 1 1\n",
      " 1 1 0 0 0 0 0 0 1 1 1 1 0 0 0 0 0 1 0 0 0 1 0 0 0 0 0 1 1 1 1 1 1 1 0 1 1\n",
      " 0 1 1 0 0 0 1 0 0 0 0 0 0 0 0 0 0 0 0 0 0 0 0 0 0 0 0 0 1 0 1 1 1 1 0 1 0\n",
      " 1 0 0 0 0 0 0 0 1 1 0 0 0 0 0 0 0 0 1 0 1 0 0 0 0 0 0 0 0 0 0 0 0 0 0 0 0\n",
      " 0 0 0 0 0 0 0 0 0 0 0 0 0 0 0 0 0 0 0 0 0 0 0 1 1 0 0 0 0 0 1 1 1 1 0 0 0\n",
      " 1 0 0 0 0 0 0 0 0 0 0 0 0 0 0 0 0 0 0 0 0 0 0 0 0 0 0 0 0 0 0 0 0 0 0 0 1\n",
      " 1 1 1 1 1 1 0 1 1 1 1 1 0 0 1 0 1 0 0 1 1 0 0 1 0 0 0 0 0 0 0 1 0 0 0 0 1\n",
      " 1 0 0 0 0 1 0 1 0 0 1 1 1 1 1 1 1 1 0 1 0 0 0 0 1 1 1 1 0 0 1 0 0 1 0 0 1\n",
      " 1 0 0 0 0 0 1 1 1 1 1 1 1 0 1 1 0 1 1 1 1 0 1 0 0 0 0 0 0 0 0 0 0 0 0 0 0\n",
      " 1 0 0 0 0 0 0 1 0 1 1 1 1 0 1 0 1 0 0 0 0 0 0 0 1 1 0 0 0 0 0 0 0 0 1 0 1\n",
      " 0 0 0 0 0 0 0 0 0 0 1 0 0 0 0 0 0 0 0 0 0 0 0 0 0 0 0 0 0 0 1 0 0 0 0 0 0\n",
      " 0 0 1 1 0 0 0 0 0 1 1 1 1 0 0 0 1 0 0 0 0 0 0 0 0 0 0 0 0 0 0 0 0 0 0 0 0\n",
      " 0 0 0 0 0 0 0 0 0 0 0 0 0 0 0 1 1 1 1 1 1 1 0 1 1 1 1 1 1 1 1 0 0 0 1 0 1\n",
      " 0 0 0 0 0 0 0 0 0 0 0 0 0 0 0 1 1 0 0 0 0 0 0 1 0 0 1 1 0 1 1 1 1 1 0 1 0\n",
      " 0 0 0 1 1 1 1 0 0 0 0 0 1 0 0 0 1 0 1 0 0 0 1 1 1 1 1 1 1 0 1 1 0 1 1 0 0\n",
      " 0 1 0 0 0 0 0 0 0 0 0 0 0 0 0 0 0 0 0 0 0 0 0 1 0 1 1 1 1 0 1 0 1 0 0 0 0\n",
      " 0 0 1 1 1 0 0 0 0 0 0 0 0 1 0 1 0 0 0 0 0 0 0 0 0 0 0 0 0 0 0 0 0 0 0 0 0\n",
      " 1 0 0 0 0 0 0 0 0 0 0 0 0 0 0 0 0 0 1 1 0 0 0 0 0 1 1 1 1 0 0 0 1 0 0 0 0\n",
      " 0 0 0 0 0 0 0 0 0 0 0 0 0 0 0 0 0 0 0 0 0 0 0 0 0 0 0 0 0 0 0 1 1 1 1 1 1\n",
      " 1 0 1 1 1 1 1 0 1 1 0 0 0 0 0 1 0 0 0 0 0 0 0 0 0 0 0 0 0 0 0 1 1 0 0 0 0\n",
      " 1 0 1 0 0 1 1 1 1 1 1 1 1 0 1 0 0 0 0 1 1 1 1 0 0 1 0 0 1 0 0 0 1 0 0 0 0\n",
      " 0 1 1 1 1 1 1 1 0 1 1 0 1 1 0 0 0 1 0 0 0 0 0 0 0 0 0 0 0 0 0 0 0 0 0 0 0\n",
      " 0 0 1 0 1 1 1 1 0 1 0 1 0 0 0 0 0 0 0 1 1 0 0 0 0 0 0 0 0 1 0 1 0 0 0 0 0\n",
      " 0 0 0 0 0 0 0 0 1 0 0 0 0 0 0 0 0 0 0 0 0 0 0 0 0 0 0 0 0 0 0 0 0 0 1 1 0\n",
      " 0 0 0 0 1 1 1 1 0 0 0 1 0 0 0 0 0 0 0 0 0 0 0 0 0 0 0 0 0 0 0 0 0 0 0 0 0\n",
      " 0 0 0 0 0 0 0 0 0 0 1 1 1 1 1 1 1 0 1 1 1 1 1 0 0 1]\n"
     ]
    }
   ],
   "source": [
    "print(Y)"
   ]
  },
  {
   "cell_type": "markdown",
   "metadata": {},
   "source": [
    "### Splitting the dataset into Training and Testing"
   ]
  },
  {
   "cell_type": "code",
   "execution_count": 115,
   "metadata": {},
   "outputs": [],
   "source": [
    "from sklearn.model_selection import train_test_split\n",
    "\n",
    "#x_train, x_test, y_train, y_test = train_test_split(x, y, test_size=0.25, random_state=0)\n",
    "X_train, X_test, Y_train, Y_test = train_test_split(X, Y, test_size=0.25, random_state=42)"
   ]
  },
  {
   "cell_type": "code",
   "execution_count": 123,
   "metadata": {},
   "outputs": [
    {
     "name": "stdout",
     "output_type": "stream",
     "text": [
      "the unique values from 1st list is\n",
      "0\n",
      "1\n"
     ]
    }
   ],
   "source": [
    "# function to get unique values\n",
    "def unique(list1):\n",
    "\n",
    "# initialize a null list\n",
    "    unique_list = []\n",
    "\n",
    "# traverse for all elements\n",
    "    for x in list1:\n",
    "# check if exists in unique_list or not\n",
    "        if x not in unique_list:\n",
    "            unique_list.append(x)\n",
    "# print list\n",
    "    for x in unique_list:\n",
    "        print (x),\n",
    "\n",
    "\n",
    "# driver code\n",
    "list1 = Y_train\n",
    "print(\"the unique values from 1st list is\")\n",
    "unique(list1)\n"
   ]
  },
  {
   "cell_type": "code",
   "execution_count": 124,
   "metadata": {
    "scrolled": true
   },
   "outputs": [
    {
     "data": {
      "text/html": [
       "<div>\n",
       "<style scoped>\n",
       "    .dataframe tbody tr th:only-of-type {\n",
       "        vertical-align: middle;\n",
       "    }\n",
       "\n",
       "    .dataframe tbody tr th {\n",
       "        vertical-align: top;\n",
       "    }\n",
       "\n",
       "    .dataframe thead th {\n",
       "        text-align: right;\n",
       "    }\n",
       "</style>\n",
       "<table border=\"1\" class=\"dataframe\">\n",
       "  <thead>\n",
       "    <tr style=\"text-align: right;\">\n",
       "      <th></th>\n",
       "      <th>Age Above</th>\n",
       "      <th>Age Below</th>\n",
       "      <th>Gender</th>\n",
       "      <th>Family_Diabetes</th>\n",
       "      <th>highBP</th>\n",
       "      <th>PhysicallyActive</th>\n",
       "      <th>BMI</th>\n",
       "      <th>Smoking</th>\n",
       "      <th>Alcohol</th>\n",
       "      <th>Sleep</th>\n",
       "      <th>SoundSleep</th>\n",
       "      <th>RegularMedicine</th>\n",
       "      <th>JunkFood</th>\n",
       "      <th>Stress</th>\n",
       "      <th>Pregancies</th>\n",
       "      <th>Pdiabetes</th>\n",
       "      <th>UriationFreq</th>\n",
       "    </tr>\n",
       "  </thead>\n",
       "  <tbody>\n",
       "    <tr>\n",
       "      <th>499</th>\n",
       "      <td>0</td>\n",
       "      <td>40</td>\n",
       "      <td>0</td>\n",
       "      <td>1</td>\n",
       "      <td>0</td>\n",
       "      <td>2</td>\n",
       "      <td>24</td>\n",
       "      <td>1</td>\n",
       "      <td>0</td>\n",
       "      <td>8</td>\n",
       "      <td>8</td>\n",
       "      <td>0</td>\n",
       "      <td>0</td>\n",
       "      <td>1</td>\n",
       "      <td>0</td>\n",
       "      <td>0</td>\n",
       "      <td>0</td>\n",
       "    </tr>\n",
       "    <tr>\n",
       "      <th>328</th>\n",
       "      <td>0</td>\n",
       "      <td>40</td>\n",
       "      <td>0</td>\n",
       "      <td>1</td>\n",
       "      <td>0</td>\n",
       "      <td>2</td>\n",
       "      <td>21</td>\n",
       "      <td>0</td>\n",
       "      <td>0</td>\n",
       "      <td>5</td>\n",
       "      <td>5</td>\n",
       "      <td>0</td>\n",
       "      <td>2</td>\n",
       "      <td>1</td>\n",
       "      <td>0</td>\n",
       "      <td>0</td>\n",
       "      <td>0</td>\n",
       "    </tr>\n",
       "    <tr>\n",
       "      <th>629</th>\n",
       "      <td>50</td>\n",
       "      <td>59</td>\n",
       "      <td>1</td>\n",
       "      <td>0</td>\n",
       "      <td>0</td>\n",
       "      <td>1</td>\n",
       "      <td>33</td>\n",
       "      <td>0</td>\n",
       "      <td>0</td>\n",
       "      <td>7</td>\n",
       "      <td>5</td>\n",
       "      <td>1</td>\n",
       "      <td>0</td>\n",
       "      <td>1</td>\n",
       "      <td>0</td>\n",
       "      <td>0</td>\n",
       "      <td>1</td>\n",
       "    </tr>\n",
       "    <tr>\n",
       "      <th>280</th>\n",
       "      <td>0</td>\n",
       "      <td>40</td>\n",
       "      <td>0</td>\n",
       "      <td>1</td>\n",
       "      <td>0</td>\n",
       "      <td>1</td>\n",
       "      <td>21</td>\n",
       "      <td>0</td>\n",
       "      <td>0</td>\n",
       "      <td>6</td>\n",
       "      <td>6</td>\n",
       "      <td>0</td>\n",
       "      <td>0</td>\n",
       "      <td>0</td>\n",
       "      <td>0</td>\n",
       "      <td>0</td>\n",
       "      <td>0</td>\n",
       "    </tr>\n",
       "    <tr>\n",
       "      <th>196</th>\n",
       "      <td>0</td>\n",
       "      <td>40</td>\n",
       "      <td>1</td>\n",
       "      <td>1</td>\n",
       "      <td>0</td>\n",
       "      <td>1</td>\n",
       "      <td>21</td>\n",
       "      <td>0</td>\n",
       "      <td>0</td>\n",
       "      <td>8</td>\n",
       "      <td>7</td>\n",
       "      <td>0</td>\n",
       "      <td>1</td>\n",
       "      <td>1</td>\n",
       "      <td>0</td>\n",
       "      <td>0</td>\n",
       "      <td>0</td>\n",
       "    </tr>\n",
       "  </tbody>\n",
       "</table>\n",
       "</div>"
      ],
      "text/plain": [
       "    Age Above Age Below Gender Family_Diabetes highBP PhysicallyActive BMI  \\\n",
       "499         0        40      0               1      0                2  24   \n",
       "328         0        40      0               1      0                2  21   \n",
       "629        50        59      1               0      0                1  33   \n",
       "280         0        40      0               1      0                1  21   \n",
       "196         0        40      1               1      0                1  21   \n",
       "\n",
       "    Smoking Alcohol Sleep SoundSleep RegularMedicine JunkFood Stress  \\\n",
       "499       1       0     8          8               0        0      1   \n",
       "328       0       0     5          5               0        2      1   \n",
       "629       0       0     7          5               1        0      1   \n",
       "280       0       0     6          6               0        0      0   \n",
       "196       0       0     8          7               0        1      1   \n",
       "\n",
       "    Pregancies Pdiabetes UriationFreq  \n",
       "499          0         0            0  \n",
       "328          0         0            0  \n",
       "629          0         0            1  \n",
       "280          0         0            0  \n",
       "196          0         0            0  "
      ]
     },
     "execution_count": 124,
     "metadata": {},
     "output_type": "execute_result"
    }
   ],
   "source": [
    "X_train.head()"
   ]
  },
  {
   "cell_type": "code",
   "execution_count": 125,
   "metadata": {},
   "outputs": [
    {
     "data": {
      "text/plain": [
       "Age Above           object\n",
       "Age Below           object\n",
       "Gender              object\n",
       "Family_Diabetes     object\n",
       "highBP              object\n",
       "PhysicallyActive    object\n",
       "BMI                 object\n",
       "Smoking             object\n",
       "Alcohol             object\n",
       "Sleep               object\n",
       "SoundSleep          object\n",
       "RegularMedicine     object\n",
       "JunkFood            object\n",
       "Stress              object\n",
       "Pregancies          object\n",
       "Pdiabetes           object\n",
       "UriationFreq        object\n",
       "dtype: object"
      ]
     },
     "execution_count": 125,
     "metadata": {},
     "output_type": "execute_result"
    }
   ],
   "source": [
    "X_train.dtypes"
   ]
  },
  {
   "cell_type": "code",
   "execution_count": 127,
   "metadata": {},
   "outputs": [
    {
     "data": {
      "text/plain": [
       "array([0, 0, 1, 0, 0, 0, 0, 1, 0, 0, 1, 0, 0, 0, 0, 0, 0, 0, 0, 0, 0, 1,\n",
       "       0, 0, 1, 0, 0, 0, 1, 0, 0, 0, 0, 0, 0, 1, 0, 0, 0, 1, 1, 0, 0, 1,\n",
       "       1, 0, 0, 0, 1, 0, 0, 0, 0, 0, 0, 1, 0, 1, 0, 1, 1, 0, 0, 0, 0, 0,\n",
       "       0, 0, 1, 1, 0, 0, 0, 0, 0, 0, 1, 1, 0, 1, 0, 1, 0, 0, 0, 1, 0, 0,\n",
       "       1, 1, 0, 0, 0, 0, 0, 0, 0, 0, 0, 0, 1, 0, 0, 1, 0, 0, 0, 0, 1, 0,\n",
       "       0, 1, 0, 1, 0, 1, 0, 0, 0, 0, 0, 0, 0, 1, 0, 0, 0, 0, 1, 0, 0, 1,\n",
       "       0, 0, 1, 0, 0, 0, 0, 0, 1, 0, 0, 0, 1, 1, 0, 0, 0, 1, 0, 0, 0, 0,\n",
       "       0, 1, 1, 0, 0, 1, 0, 1, 0, 0, 0, 0, 1, 0, 0, 0, 0, 0, 0, 0, 1, 0,\n",
       "       0, 1, 0, 1, 1, 0, 1, 0, 0, 1, 0, 1, 0, 0, 1, 0, 0, 0, 1, 0, 0, 0,\n",
       "       0, 0, 0, 0, 0, 0, 0, 1, 1, 0, 0, 1, 0, 0, 0, 0, 0, 0, 0, 0, 0, 1,\n",
       "       0, 0, 0, 0, 0, 0, 0, 0, 0, 1, 1, 1, 0, 0, 0, 0, 0, 0, 0, 1, 0, 1,\n",
       "       0, 0, 1, 0, 1, 0, 0, 0, 0, 0, 0, 0, 1, 0, 0, 0, 1, 0, 1, 0, 0, 0,\n",
       "       0, 1, 0, 1, 0, 0, 1, 0, 0, 0, 0, 1, 1, 0, 0, 0, 1, 0, 0, 0, 0, 1,\n",
       "       0, 0, 0, 0, 1, 0, 1, 1, 0, 1, 1, 0, 0, 0, 0, 1, 0, 0, 0, 0, 1, 0,\n",
       "       0, 0, 0, 1, 0, 1, 0, 0, 0, 0, 0, 0, 0, 0, 1, 0, 1, 1, 0, 1, 1, 0,\n",
       "       0, 1, 0, 1, 0, 0, 0, 0, 0, 0, 0, 0, 1, 1, 0, 0, 0, 1, 0, 0, 0, 1,\n",
       "       1, 0, 0, 1, 1, 0, 1, 1, 0, 0, 0, 0, 1, 1, 0, 1, 0, 1, 0, 0, 0, 1,\n",
       "       1, 0, 0, 1, 0, 0, 0, 0, 1, 0, 0, 0, 1, 0, 0, 0, 0, 0, 0, 0, 0, 1,\n",
       "       1, 1, 0, 0, 1, 0, 0, 0, 1, 0, 0, 0, 0, 0, 0, 0, 0, 0, 1, 0, 0, 1,\n",
       "       1, 0, 0, 0, 1, 0, 0, 0, 0, 0, 0, 1, 0, 0, 0, 1, 0, 0, 0, 0, 0, 0,\n",
       "       0, 0, 1, 0, 0, 0, 0, 0, 0, 0, 0, 0, 0, 0, 1, 0, 0, 0, 0, 0, 0, 0,\n",
       "       0, 1, 1, 0, 0, 0, 1, 0, 0, 0, 0, 0, 0, 0, 0, 0, 0, 0, 0, 0, 0, 1,\n",
       "       0, 1, 0, 0, 1, 0, 1, 0, 0, 0, 0, 1, 0, 0, 0, 1, 1, 0, 1, 1, 1, 0,\n",
       "       0, 0, 0, 0, 1, 0, 0, 1, 1, 0, 0, 1, 0, 1, 0, 0, 0, 0, 1, 0, 0, 0,\n",
       "       1, 1, 0, 1, 1, 1, 0, 1, 1, 0, 0, 0, 0, 0, 0, 0, 1, 0, 0, 1, 0, 1,\n",
       "       0, 0, 0, 0, 0, 0, 0, 1, 0, 0, 0, 0, 1, 0, 0, 0, 0, 0, 0, 0, 1, 0,\n",
       "       1, 0, 0, 0, 0, 1, 0, 1, 0, 0, 1, 0, 0, 0, 0, 0, 0, 1, 1, 0, 0, 0,\n",
       "       1, 0, 0, 0, 0, 0, 0, 0, 0, 0, 0, 0, 0, 1, 0, 0, 1, 1, 0, 0, 1, 0,\n",
       "       1, 0, 1, 0, 0, 0, 0, 0, 1, 0, 1, 0, 1, 0, 0, 0, 0, 0, 1, 0, 1, 0,\n",
       "       1, 0, 0, 0, 0, 0, 0, 1, 0, 1, 0, 1, 0, 0, 1, 0, 0, 1, 0, 1, 0, 0,\n",
       "       1, 0, 0, 0, 0, 0, 0, 0, 1, 1, 0, 0, 1, 1, 1, 0, 0, 1, 0, 1, 1, 1,\n",
       "       0, 1, 0, 0, 0, 0, 0, 1, 0, 1, 1, 0, 0, 0, 0, 0, 0, 0, 0, 0, 0, 0,\n",
       "       0, 1, 1, 0, 1, 1, 0, 0, 1])"
      ]
     },
     "execution_count": 127,
     "metadata": {},
     "output_type": "execute_result"
    }
   ],
   "source": [
    "Y_train.astype(int)"
   ]
  },
  {
   "cell_type": "code",
   "execution_count": 128,
   "metadata": {},
   "outputs": [
    {
     "name": "stdout",
     "output_type": "stream",
     "text": [
      "(713, 17)\n"
     ]
    }
   ],
   "source": [
    "print(X_train.shape)"
   ]
  },
  {
   "cell_type": "code",
   "execution_count": 129,
   "metadata": {},
   "outputs": [
    {
     "name": "stdout",
     "output_type": "stream",
     "text": [
      "(238, 17)\n"
     ]
    }
   ],
   "source": [
    "print(X_test.shape)"
   ]
  },
  {
   "cell_type": "markdown",
   "metadata": {},
   "source": [
    "### Logistic Regression Model"
   ]
  },
  {
   "cell_type": "code",
   "execution_count": 130,
   "metadata": {},
   "outputs": [],
   "source": [
    "import pandas as pd\n",
    "import numpy as np\n",
    "import matplotlib.pyplot as plt"
   ]
  },
  {
   "cell_type": "code",
   "execution_count": 131,
   "metadata": {},
   "outputs": [
    {
     "name": "stdout",
     "output_type": "stream",
     "text": [
      "[[-0.9338091  -0.65641145 -0.79237231  1.02989982 -0.55088428  0.42046652\n",
      "  -0.32983744  2.75506106 -0.48989795  0.8145556   1.32424384 -0.72353595\n",
      "  -0.57602648 -0.26669129 -0.39977438 -0.13083731 -0.67681438]\n",
      " [-0.9338091  -0.65641145 -0.79237231  1.02989982 -0.55088428  0.42046652\n",
      "  -0.87888201 -0.36296836 -0.48989795 -1.56893882 -0.25466228 -0.72353595\n",
      "   1.88329614 -0.26669129 -0.39977438 -0.13083731 -0.67681438]\n",
      " [ 1.03953379  0.2906975   1.26203299 -0.97096822 -0.55088428 -0.60622057\n",
      "   1.31729628 -0.36296836 -0.48989795  0.02005746 -0.25466228  1.38210133\n",
      "  -0.57602648 -0.26669129 -0.39977438 -0.13083731  1.47750997]\n",
      " [-0.9338091  -0.65641145 -0.79237231  1.02989982 -0.55088428 -0.60622057\n",
      "  -0.87888201 -0.36296836 -0.48989795 -0.77444068  0.27163976 -0.72353595\n",
      "  -0.57602648 -1.517684   -0.39977438 -0.13083731 -0.67681438]\n",
      " [-0.9338091  -0.65641145  1.26203299  1.02989982 -0.55088428 -0.60622057\n",
      "  -0.87888201 -0.36296836 -0.48989795  0.8145556   0.7979418  -0.72353595\n",
      "   0.65363483 -0.26669129 -0.39977438 -0.13083731 -0.67681438]\n",
      " [-0.9338091  -0.65641145 -0.79237231  1.02989982 -0.55088428 -0.60622057\n",
      "   0.58523685 -0.36296836 -0.48989795  0.8145556   0.7979418  -0.72353595\n",
      "   0.65363483 -0.26669129 -0.39977438 -0.13083731 -0.67681438]\n",
      " [-0.9338091  -0.65641145  1.26203299 -0.97096822 -0.55088428 -0.60622057\n",
      "  -1.61094144 -0.36296836 -0.48989795 -2.36343696 -0.78096431 -0.72353595\n",
      "  -0.57602648 -0.26669129 -0.39977438 -0.13083731  1.47750997]\n",
      " [ 1.03953379  0.2906975   1.26203299  1.02989982 -0.55088428 -1.63290766\n",
      "  -0.87888201 -0.36296836 -0.48989795  0.8145556   1.32424384  1.38210133\n",
      "  -0.57602648  0.98430142 -0.39977438 -0.13083731  1.47750997]\n",
      " [-0.9338091  -0.65641145  1.26203299 -0.97096822 -0.55088428 -0.60622057\n",
      "  -1.24491172 -0.36296836 -0.48989795  0.8145556   1.32424384 -0.72353595\n",
      "  -0.57602648 -0.26669129 -0.39977438 -0.13083731 -0.67681438]\n",
      " [-0.9338091  -0.65641145 -0.79237231 -0.97096822 -0.55088428  1.44715362\n",
      "  -0.69586715  2.75506106 -0.48989795  1.60905373 -1.83356839 -0.72353595\n",
      "   3.11295745  2.23529413 -0.39977438 -0.13083731  1.47750997]]\n"
     ]
    }
   ],
   "source": [
    "from sklearn.preprocessing import StandardScaler\n",
    "\n",
    "sc_x = StandardScaler()\n",
    "X_train = sc_x.fit_transform(X_train)\n",
    "X_test = sc_x.transform(X_test)\n",
    "\n",
    "print (X_train[0:10, :])\n",
    "#print(X_train.shape)"
   ]
  },
  {
   "cell_type": "code",
   "execution_count": 132,
   "metadata": {},
   "outputs": [
    {
     "name": "stdout",
     "output_type": "stream",
     "text": [
      "(713, 17)\n",
      "(713,)\n",
      "(238, 17)\n",
      "(238,)\n"
     ]
    }
   ],
   "source": [
    "print(X_train.shape)\n",
    "print(Y_train.shape)\n",
    "print(X_test.shape)\n",
    "print(Y_test.shape)"
   ]
  },
  {
   "cell_type": "code",
   "execution_count": 106,
   "id": "65bc8d33",
   "metadata": {},
   "outputs": [
    {
     "ename": "AttributeError",
     "evalue": "'numpy.ndarray' object has no attribute 'column'",
     "output_type": "error",
     "traceback": [
      "\u001b[1;31m---------------------------------------------------------------------------\u001b[0m",
      "\u001b[1;31mAttributeError\u001b[0m                            Traceback (most recent call last)",
      "\u001b[1;32md:\\SEM 7\\PBL FINAL\\fianl\\Non Clinical model.ipynb Cell 134\u001b[0m line \u001b[0;36m1\n\u001b[1;32m----> <a href='vscode-notebook-cell:/d%3A/SEM%207/PBL%20FINAL/fianl/Non%20Clinical%20model.ipynb#Y350sZmlsZQ%3D%3D?line=0'>1</a>\u001b[0m column_headers \u001b[39m=\u001b[39m \u001b[39mlist\u001b[39m(X_train\u001b[39m.\u001b[39;49mcolumn\u001b[39m.\u001b[39mvalues)\n\u001b[0;32m      <a href='vscode-notebook-cell:/d%3A/SEM%207/PBL%20FINAL/fianl/Non%20Clinical%20model.ipynb#Y350sZmlsZQ%3D%3D?line=1'>2</a>\u001b[0m \u001b[39mprint\u001b[39m(\u001b[39m\"\u001b[39m\u001b[39mThe Column Header :\u001b[39m\u001b[39m\"\u001b[39m, column_headers)\n",
      "\u001b[1;31mAttributeError\u001b[0m: 'numpy.ndarray' object has no attribute 'column'"
     ]
    }
   ],
   "source": []
  },
  {
   "cell_type": "code",
   "execution_count": 133,
   "metadata": {},
   "outputs": [
    {
     "data": {
      "text/html": [
       "<style>#sk-container-id-2 {color: black;}#sk-container-id-2 pre{padding: 0;}#sk-container-id-2 div.sk-toggleable {background-color: white;}#sk-container-id-2 label.sk-toggleable__label {cursor: pointer;display: block;width: 100%;margin-bottom: 0;padding: 0.3em;box-sizing: border-box;text-align: center;}#sk-container-id-2 label.sk-toggleable__label-arrow:before {content: \"▸\";float: left;margin-right: 0.25em;color: #696969;}#sk-container-id-2 label.sk-toggleable__label-arrow:hover:before {color: black;}#sk-container-id-2 div.sk-estimator:hover label.sk-toggleable__label-arrow:before {color: black;}#sk-container-id-2 div.sk-toggleable__content {max-height: 0;max-width: 0;overflow: hidden;text-align: left;background-color: #f0f8ff;}#sk-container-id-2 div.sk-toggleable__content pre {margin: 0.2em;color: black;border-radius: 0.25em;background-color: #f0f8ff;}#sk-container-id-2 input.sk-toggleable__control:checked~div.sk-toggleable__content {max-height: 200px;max-width: 100%;overflow: auto;}#sk-container-id-2 input.sk-toggleable__control:checked~label.sk-toggleable__label-arrow:before {content: \"▾\";}#sk-container-id-2 div.sk-estimator input.sk-toggleable__control:checked~label.sk-toggleable__label {background-color: #d4ebff;}#sk-container-id-2 div.sk-label input.sk-toggleable__control:checked~label.sk-toggleable__label {background-color: #d4ebff;}#sk-container-id-2 input.sk-hidden--visually {border: 0;clip: rect(1px 1px 1px 1px);clip: rect(1px, 1px, 1px, 1px);height: 1px;margin: -1px;overflow: hidden;padding: 0;position: absolute;width: 1px;}#sk-container-id-2 div.sk-estimator {font-family: monospace;background-color: #f0f8ff;border: 1px dotted black;border-radius: 0.25em;box-sizing: border-box;margin-bottom: 0.5em;}#sk-container-id-2 div.sk-estimator:hover {background-color: #d4ebff;}#sk-container-id-2 div.sk-parallel-item::after {content: \"\";width: 100%;border-bottom: 1px solid gray;flex-grow: 1;}#sk-container-id-2 div.sk-label:hover label.sk-toggleable__label {background-color: #d4ebff;}#sk-container-id-2 div.sk-serial::before {content: \"\";position: absolute;border-left: 1px solid gray;box-sizing: border-box;top: 0;bottom: 0;left: 50%;z-index: 0;}#sk-container-id-2 div.sk-serial {display: flex;flex-direction: column;align-items: center;background-color: white;padding-right: 0.2em;padding-left: 0.2em;position: relative;}#sk-container-id-2 div.sk-item {position: relative;z-index: 1;}#sk-container-id-2 div.sk-parallel {display: flex;align-items: stretch;justify-content: center;background-color: white;position: relative;}#sk-container-id-2 div.sk-item::before, #sk-container-id-2 div.sk-parallel-item::before {content: \"\";position: absolute;border-left: 1px solid gray;box-sizing: border-box;top: 0;bottom: 0;left: 50%;z-index: -1;}#sk-container-id-2 div.sk-parallel-item {display: flex;flex-direction: column;z-index: 1;position: relative;background-color: white;}#sk-container-id-2 div.sk-parallel-item:first-child::after {align-self: flex-end;width: 50%;}#sk-container-id-2 div.sk-parallel-item:last-child::after {align-self: flex-start;width: 50%;}#sk-container-id-2 div.sk-parallel-item:only-child::after {width: 0;}#sk-container-id-2 div.sk-dashed-wrapped {border: 1px dashed gray;margin: 0 0.4em 0.5em 0.4em;box-sizing: border-box;padding-bottom: 0.4em;background-color: white;}#sk-container-id-2 div.sk-label label {font-family: monospace;font-weight: bold;display: inline-block;line-height: 1.2em;}#sk-container-id-2 div.sk-label-container {text-align: center;}#sk-container-id-2 div.sk-container {/* jupyter's `normalize.less` sets `[hidden] { display: none; }` but bootstrap.min.css set `[hidden] { display: none !important; }` so we also need the `!important` here to be able to override the default hidden behavior on the sphinx rendered scikit-learn.org. See: https://github.com/scikit-learn/scikit-learn/issues/21755 */display: inline-block !important;position: relative;}#sk-container-id-2 div.sk-text-repr-fallback {display: none;}</style><div id=\"sk-container-id-2\" class=\"sk-top-container\"><div class=\"sk-text-repr-fallback\"><pre>LogisticRegression(random_state=0)</pre><b>In a Jupyter environment, please rerun this cell to show the HTML representation or trust the notebook. <br />On GitHub, the HTML representation is unable to render, please try loading this page with nbviewer.org.</b></div><div class=\"sk-container\" hidden><div class=\"sk-item\"><div class=\"sk-estimator sk-toggleable\"><input class=\"sk-toggleable__control sk-hidden--visually\" id=\"sk-estimator-id-2\" type=\"checkbox\" checked><label for=\"sk-estimator-id-2\" class=\"sk-toggleable__label sk-toggleable__label-arrow\">LogisticRegression</label><div class=\"sk-toggleable__content\"><pre>LogisticRegression(random_state=0)</pre></div></div></div></div></div>"
      ],
      "text/plain": [
       "LogisticRegression(random_state=0)"
      ]
     },
     "execution_count": 133,
     "metadata": {},
     "output_type": "execute_result"
    }
   ],
   "source": [
    "from sklearn.linear_model import LogisticRegression\n",
    "\n",
    "classifier = LogisticRegression(random_state = 0)\n",
    "classifier.fit(X_train, Y_train)"
   ]
  },
  {
   "cell_type": "code",
   "execution_count": 134,
   "metadata": {},
   "outputs": [],
   "source": [
    "y_pred_lr = classifier.predict(X_test)"
   ]
  },
  {
   "cell_type": "code",
   "execution_count": 135,
   "metadata": {
    "scrolled": true
   },
   "outputs": [
    {
     "name": "stdout",
     "output_type": "stream",
     "text": [
      "[0 0 0 1 1 0 1 0 0 0 0 0 0 1 0 0 0 0 1 0 1 0 0 0 0 0 0 1 0 0 0 0 1 0 1 0 0\n",
      " 0 0 1 0 0 0 0 1 0 0 0 1 0 0 0 1 0 0 0 0 0 0 0 0 0 0 1 0 0 1 0 0 1 0 0 0 1\n",
      " 0 0 1 0 0 1 0 1 0 0 1 1 0 1 0 0 0 0 0 0 0 0 1 1 0 0 0 0 0 0 1 0 0 0 0 0 0\n",
      " 0 1 0 0 1 1 1 1 0 0 0 0 0 1 1 0 1 1 0 0 0 1 0 0 0 0 1 0 0 1 0 0 1 0 1 0 0\n",
      " 0 0 0 0 1 0 1 0 0 1 0 0 0 0 0 1 0 0 0 0 0 1 0 0 1 1 0 0 0 0 0 1 0 1 0 1 0\n",
      " 0 1 1 1 0 0 0 1 0 1 0 1 0 0 0 0 0 0 0 0 0 0 1 0 0 1 0 0 0 1 0 0 0 1 0 0 0\n",
      " 0 0 0 0 0 0 0 1 0 0 0 1 0 0 0 0]\n"
     ]
    }
   ],
   "source": [
    "print(y_pred_lr)"
   ]
  },
  {
   "cell_type": "code",
   "execution_count": 136,
   "metadata": {},
   "outputs": [
    {
     "name": "stdout",
     "output_type": "stream",
     "text": [
      "Accuracy: 0.8781512605042017\n",
      "Precision: 0.8225806451612904\n",
      "Recall: 0.7391304347826086\n",
      "F1-Score: 0.7786259541984734\n",
      "ROC AUC: 0.8370208386930794\n",
      "AUC-PR: 0.6836246420026637\n"
     ]
    }
   ],
   "source": [
    "rc_lr=roc_auc_score(Y_test,y_pred_lr)\n",
    "accuracy_lr = accuracy_score(Y_test, y_pred_lr)\n",
    "precision_lr = precision_score(Y_test, y_pred_lr)\n",
    "recall_lr = recall_score(Y_test, y_pred_lr)\n",
    "f1_lr = f1_score(Y_test, y_pred_lr)\n",
    "auc_pr_lr = average_precision_score(Y_test, y_pred_lr)\n",
    "\n",
    "\n",
    "print(\"Accuracy:\", accuracy_lr)\n",
    "print(\"Precision:\", precision_lr)\n",
    "print(\"Recall:\", recall_lr)\n",
    "print(\"F1-Score:\", f1_lr)\n",
    "print(\"ROC AUC:\", rc_lr)\n",
    "print(\"AUC-PR:\", auc_pr_lr)"
   ]
  },
  {
   "cell_type": "code",
   "execution_count": 137,
   "metadata": {},
   "outputs": [
    {
     "name": "stdout",
     "output_type": "stream",
     "text": [
      "Confusion Matrix : \n",
      " [[158  11]\n",
      " [ 18  51]]\n"
     ]
    }
   ],
   "source": [
    "from sklearn.metrics import confusion_matrix\n",
    "\n",
    "cm = confusion_matrix(Y_test, y_pred_lr)\n",
    "print (\"Confusion Matrix : \\n\", cm)"
   ]
  },
  {
   "cell_type": "code",
   "execution_count": 138,
   "metadata": {},
   "outputs": [
    {
     "name": "stdout",
     "output_type": "stream",
     "text": [
      "Accuracy :  0.8781512605042017\n"
     ]
    }
   ],
   "source": [
    "from sklearn.metrics import accuracy_score\n",
    "accu_lr=accuracy_score(Y_test, y_pred_lr)\n",
    "print (\"Accuracy : \", accu_lr)"
   ]
  },
  {
   "cell_type": "code",
   "execution_count": 139,
   "metadata": {},
   "outputs": [
    {
     "name": "stdout",
     "output_type": "stream",
     "text": [
      "Precision :  0.8225806451612904\n"
     ]
    }
   ],
   "source": [
    "from sklearn.metrics import precision_score\n",
    "pre_lr=precision_score(Y_test, y_pred_lr)\n",
    "print (\"Precision : \", pre_lr)"
   ]
  },
  {
   "cell_type": "code",
   "execution_count": 140,
   "metadata": {},
   "outputs": [],
   "source": [
    "s = pd.Series(y_pred_lr)"
   ]
  },
  {
   "cell_type": "markdown",
   "metadata": {},
   "source": [
    "# random forest"
   ]
  },
  {
   "cell_type": "code",
   "execution_count": 141,
   "metadata": {},
   "outputs": [],
   "source": [
    "from sklearn.ensemble import RandomForestClassifier\n",
    "import pandas as pd"
   ]
  },
  {
   "cell_type": "code",
   "execution_count": 142,
   "metadata": {},
   "outputs": [
    {
     "name": "stdout",
     "output_type": "stream",
     "text": [
      "Accuracy :  0.9663865546218487\n"
     ]
    }
   ],
   "source": [
    "clf = RandomForestClassifier(n_estimators = 100)  \n",
    "  \n",
    "# Training the model on the training dataset\n",
    "# fit function is used to train the model using the training sets as parameters\n",
    "clf.fit(X_train, Y_train)\n",
    "  \n",
    "# performing predictions on the test dataset\n",
    "y_pred_rfc = clf.predict(X_test)\n",
    "  \n",
    "# metrics are used to find accuracy or error\n",
    "from sklearn import metrics  \n",
    "accu_rfc=accuracy_score(Y_test, y_pred_rfc)\n",
    "print (\"Accuracy : \", accu_rfc)"
   ]
  },
  {
   "cell_type": "code",
   "execution_count": 143,
   "metadata": {},
   "outputs": [
    {
     "name": "stdout",
     "output_type": "stream",
     "text": [
      "[0 0 0 1 1 0 1 0 0 0 0 0 0 1 0 1 1 0 1 0 1 0 0 0 0 0 0 1 0 0 0 0 0 0 1 0 0\n",
      " 0 1 1 0 0 0 0 0 0 0 0 1 0 0 0 0 0 0 0 0 0 0 0 0 0 0 1 0 0 1 1 0 1 0 0 0 1\n",
      " 0 1 1 0 0 0 1 1 0 0 1 1 0 1 0 0 0 0 0 0 0 1 1 1 0 1 0 0 0 0 1 0 0 0 0 0 0\n",
      " 0 1 0 0 1 1 1 1 0 0 0 0 0 1 1 0 1 1 0 0 1 1 0 0 0 0 1 0 0 1 0 0 1 0 0 0 0\n",
      " 0 0 0 0 1 0 1 0 0 1 1 0 0 0 0 0 0 1 0 0 0 1 0 0 1 1 1 0 0 0 0 1 0 1 0 1 0\n",
      " 0 1 1 1 0 0 1 1 0 1 0 1 0 0 1 0 0 0 0 0 0 0 0 0 1 1 0 0 0 1 0 0 0 1 0 0 0\n",
      " 0 0 0 0 0 0 1 1 0 1 0 0 0 0 0 0]\n"
     ]
    }
   ],
   "source": [
    "print(y_pred_rfc)"
   ]
  },
  {
   "cell_type": "code",
   "execution_count": 144,
   "metadata": {},
   "outputs": [
    {
     "name": "stdout",
     "output_type": "stream",
     "text": [
      "Accuracy: 0.9663865546218487\n",
      "Precision: 0.9295774647887324\n",
      "Recall: 0.9565217391304348\n",
      "F1-Score: 0.9428571428571428\n",
      "ROC AUC: 0.9634679701569333\n",
      "AUC-PR: 0.9017660952929855\n"
     ]
    }
   ],
   "source": [
    "#Runnung he metrics\n",
    "rc_rfc=roc_auc_score(Y_test,y_pred_rfc)\n",
    "accuracy_rfc = accuracy_score(Y_test, y_pred_rfc)\n",
    "precision_rfc = precision_score(Y_test, y_pred_rfc)\n",
    "recall_rfc = recall_score(Y_test, y_pred_rfc)\n",
    "f1_rfc = f1_score(Y_test, y_pred_rfc)\n",
    "auc_pr_rfc = average_precision_score(Y_test, y_pred_rfc)\n",
    "\n",
    "#printing the Result\n",
    "print(\"Accuracy:\", accuracy_rfc)\n",
    "print(\"Precision:\", precision_rfc)\n",
    "print(\"Recall:\", recall_rfc)\n",
    "print(\"F1-Score:\", f1_rfc)\n",
    "print(\"ROC AUC:\", rc_rfc)\n",
    "print(\"AUC-PR:\", auc_pr_rfc)"
   ]
  },
  {
   "cell_type": "code",
   "execution_count": 145,
   "metadata": {},
   "outputs": [
    {
     "name": "stdout",
     "output_type": "stream",
     "text": [
      "Confusion Matrix : \n",
      " [[164   5]\n",
      " [  3  66]]\n"
     ]
    }
   ],
   "source": [
    "from sklearn.metrics import confusion_matrix\n",
    "\n",
    "cm = confusion_matrix(Y_test, y_pred_rfc)\n",
    "print (\"Confusion Matrix : \\n\", cm)"
   ]
  },
  {
   "cell_type": "code",
   "execution_count": 146,
   "metadata": {},
   "outputs": [
    {
     "name": "stdout",
     "output_type": "stream",
     "text": [
      "Precision :  0.9295774647887324\n"
     ]
    }
   ],
   "source": [
    "from sklearn.metrics import precision_score\n",
    "\n",
    "pre_rfc=precision_score(Y_test, y_pred_rfc)\n",
    "print (\"Precision : \", pre_rfc)"
   ]
  },
  {
   "cell_type": "code",
   "execution_count": 147,
   "metadata": {},
   "outputs": [],
   "source": [
    "s = pd.Series(y_pred_rfc)"
   ]
  },
  {
   "cell_type": "markdown",
   "metadata": {},
   "source": [
    "# SVM"
   ]
  },
  {
   "cell_type": "code",
   "execution_count": 148,
   "metadata": {},
   "outputs": [
    {
     "data": {
      "text/html": [
       "<style>#sk-container-id-3 {color: black;}#sk-container-id-3 pre{padding: 0;}#sk-container-id-3 div.sk-toggleable {background-color: white;}#sk-container-id-3 label.sk-toggleable__label {cursor: pointer;display: block;width: 100%;margin-bottom: 0;padding: 0.3em;box-sizing: border-box;text-align: center;}#sk-container-id-3 label.sk-toggleable__label-arrow:before {content: \"▸\";float: left;margin-right: 0.25em;color: #696969;}#sk-container-id-3 label.sk-toggleable__label-arrow:hover:before {color: black;}#sk-container-id-3 div.sk-estimator:hover label.sk-toggleable__label-arrow:before {color: black;}#sk-container-id-3 div.sk-toggleable__content {max-height: 0;max-width: 0;overflow: hidden;text-align: left;background-color: #f0f8ff;}#sk-container-id-3 div.sk-toggleable__content pre {margin: 0.2em;color: black;border-radius: 0.25em;background-color: #f0f8ff;}#sk-container-id-3 input.sk-toggleable__control:checked~div.sk-toggleable__content {max-height: 200px;max-width: 100%;overflow: auto;}#sk-container-id-3 input.sk-toggleable__control:checked~label.sk-toggleable__label-arrow:before {content: \"▾\";}#sk-container-id-3 div.sk-estimator input.sk-toggleable__control:checked~label.sk-toggleable__label {background-color: #d4ebff;}#sk-container-id-3 div.sk-label input.sk-toggleable__control:checked~label.sk-toggleable__label {background-color: #d4ebff;}#sk-container-id-3 input.sk-hidden--visually {border: 0;clip: rect(1px 1px 1px 1px);clip: rect(1px, 1px, 1px, 1px);height: 1px;margin: -1px;overflow: hidden;padding: 0;position: absolute;width: 1px;}#sk-container-id-3 div.sk-estimator {font-family: monospace;background-color: #f0f8ff;border: 1px dotted black;border-radius: 0.25em;box-sizing: border-box;margin-bottom: 0.5em;}#sk-container-id-3 div.sk-estimator:hover {background-color: #d4ebff;}#sk-container-id-3 div.sk-parallel-item::after {content: \"\";width: 100%;border-bottom: 1px solid gray;flex-grow: 1;}#sk-container-id-3 div.sk-label:hover label.sk-toggleable__label {background-color: #d4ebff;}#sk-container-id-3 div.sk-serial::before {content: \"\";position: absolute;border-left: 1px solid gray;box-sizing: border-box;top: 0;bottom: 0;left: 50%;z-index: 0;}#sk-container-id-3 div.sk-serial {display: flex;flex-direction: column;align-items: center;background-color: white;padding-right: 0.2em;padding-left: 0.2em;position: relative;}#sk-container-id-3 div.sk-item {position: relative;z-index: 1;}#sk-container-id-3 div.sk-parallel {display: flex;align-items: stretch;justify-content: center;background-color: white;position: relative;}#sk-container-id-3 div.sk-item::before, #sk-container-id-3 div.sk-parallel-item::before {content: \"\";position: absolute;border-left: 1px solid gray;box-sizing: border-box;top: 0;bottom: 0;left: 50%;z-index: -1;}#sk-container-id-3 div.sk-parallel-item {display: flex;flex-direction: column;z-index: 1;position: relative;background-color: white;}#sk-container-id-3 div.sk-parallel-item:first-child::after {align-self: flex-end;width: 50%;}#sk-container-id-3 div.sk-parallel-item:last-child::after {align-self: flex-start;width: 50%;}#sk-container-id-3 div.sk-parallel-item:only-child::after {width: 0;}#sk-container-id-3 div.sk-dashed-wrapped {border: 1px dashed gray;margin: 0 0.4em 0.5em 0.4em;box-sizing: border-box;padding-bottom: 0.4em;background-color: white;}#sk-container-id-3 div.sk-label label {font-family: monospace;font-weight: bold;display: inline-block;line-height: 1.2em;}#sk-container-id-3 div.sk-label-container {text-align: center;}#sk-container-id-3 div.sk-container {/* jupyter's `normalize.less` sets `[hidden] { display: none; }` but bootstrap.min.css set `[hidden] { display: none !important; }` so we also need the `!important` here to be able to override the default hidden behavior on the sphinx rendered scikit-learn.org. See: https://github.com/scikit-learn/scikit-learn/issues/21755 */display: inline-block !important;position: relative;}#sk-container-id-3 div.sk-text-repr-fallback {display: none;}</style><div id=\"sk-container-id-3\" class=\"sk-top-container\"><div class=\"sk-text-repr-fallback\"><pre>SVC(degree=5, kernel=&#x27;poly&#x27;, random_state=42)</pre><b>In a Jupyter environment, please rerun this cell to show the HTML representation or trust the notebook. <br />On GitHub, the HTML representation is unable to render, please try loading this page with nbviewer.org.</b></div><div class=\"sk-container\" hidden><div class=\"sk-item\"><div class=\"sk-estimator sk-toggleable\"><input class=\"sk-toggleable__control sk-hidden--visually\" id=\"sk-estimator-id-3\" type=\"checkbox\" checked><label for=\"sk-estimator-id-3\" class=\"sk-toggleable__label sk-toggleable__label-arrow\">SVC</label><div class=\"sk-toggleable__content\"><pre>SVC(degree=5, kernel=&#x27;poly&#x27;, random_state=42)</pre></div></div></div></div></div>"
      ],
      "text/plain": [
       "SVC(degree=5, kernel='poly', random_state=42)"
      ]
     },
     "execution_count": 148,
     "metadata": {},
     "output_type": "execute_result"
    }
   ],
   "source": [
    "import numpy as np\n",
    "import matplotlib.pyplot as plt\n",
    "from sklearn.datasets import load_iris\n",
    "from sklearn.svm import SVC\n",
    "from sklearn.model_selection import train_test_split\n",
    " \n",
    "# Create a non-linear kernel SVM classifier\n",
    "svm = SVC(kernel='poly',degree=5, random_state=42)\n",
    "svm.fit(X_train, Y_train)"
   ]
  },
  {
   "cell_type": "code",
   "execution_count": 149,
   "metadata": {},
   "outputs": [],
   "source": [
    "y_pred_SVM = svm.predict(X_test)"
   ]
  },
  {
   "cell_type": "code",
   "execution_count": 150,
   "metadata": {},
   "outputs": [
    {
     "name": "stdout",
     "output_type": "stream",
     "text": [
      "[0 0 0 1 1 0 1 0 0 0 0 0 0 0 0 1 1 0 1 0 1 0 0 0 0 0 0 1 0 0 0 0 0 0 0 0 0\n",
      " 0 1 1 0 0 0 0 0 0 0 0 1 0 0 0 0 0 0 0 0 0 0 0 0 0 0 1 0 0 1 0 0 1 0 0 0 1\n",
      " 0 1 1 0 0 0 0 1 0 0 1 0 0 1 0 0 0 0 0 0 0 0 1 0 0 0 0 0 0 0 1 0 0 0 0 0 0\n",
      " 0 1 0 0 1 1 1 1 0 0 0 0 0 1 1 0 1 1 0 0 0 1 0 0 0 0 1 0 0 1 0 0 1 0 0 0 0\n",
      " 0 0 0 0 1 0 0 0 0 1 0 0 0 0 0 0 0 0 0 0 0 0 0 0 1 1 1 0 0 0 0 0 0 1 0 0 0\n",
      " 0 1 1 0 0 0 1 1 0 0 0 1 0 0 0 0 0 0 0 0 0 0 0 0 1 1 0 0 0 1 0 0 0 1 0 0 0\n",
      " 0 0 0 0 0 0 1 1 0 0 0 0 0 0 0 0]\n"
     ]
    }
   ],
   "source": [
    "print(y_pred_SVM)"
   ]
  },
  {
   "cell_type": "code",
   "execution_count": 151,
   "metadata": {},
   "outputs": [
    {
     "name": "stdout",
     "output_type": "stream",
     "text": [
      "Accuracy: 0.8949579831932774\n",
      "Precision: 0.9230769230769231\n",
      "Recall: 0.6956521739130435\n",
      "F1-Score: 0.7933884297520661\n",
      "ROC AUC: 0.8359917674298946\n",
      "AUC-PR: 0.7303757623450718\n"
     ]
    }
   ],
   "source": [
    "#Runnung he metrics\n",
    "rc_svm=roc_auc_score(Y_test,y_pred_SVM)\n",
    "accuracy_svm = accuracy_score(Y_test, y_pred_SVM)\n",
    "precision_svm = precision_score(Y_test, y_pred_SVM)\n",
    "recall_svm = recall_score(Y_test, y_pred_SVM)\n",
    "f1_svm = f1_score(Y_test, y_pred_SVM)\n",
    "auc_pr_svm = average_precision_score(Y_test, y_pred_SVM)\n",
    "\n",
    "#printing the Result\n",
    "print(\"Accuracy:\", accuracy_svm)\n",
    "print(\"Precision:\", precision_svm)\n",
    "print(\"Recall:\", recall_svm)\n",
    "print(\"F1-Score:\", f1_svm)\n",
    "print(\"ROC AUC:\", rc_svm)\n",
    "print(\"AUC-PR:\", auc_pr_svm)"
   ]
  },
  {
   "cell_type": "code",
   "execution_count": 152,
   "metadata": {},
   "outputs": [
    {
     "name": "stdout",
     "output_type": "stream",
     "text": [
      "Confusion Matrix : \n",
      " [[165   4]\n",
      " [ 21  48]]\n"
     ]
    }
   ],
   "source": [
    "from sklearn.metrics import confusion_matrix\n",
    "\n",
    "cm = confusion_matrix(Y_test, y_pred_SVM)\n",
    "print (\"Confusion Matrix : \\n\", cm)"
   ]
  },
  {
   "cell_type": "code",
   "execution_count": 153,
   "metadata": {},
   "outputs": [
    {
     "name": "stdout",
     "output_type": "stream",
     "text": [
      "Precision :  0.9230769230769231\n"
     ]
    }
   ],
   "source": [
    "from sklearn.metrics import precision_score\n",
    "pre_svm=precision_score(Y_test, y_pred_SVM)\n",
    "print(\"Precision : \", pre_svm)"
   ]
  },
  {
   "cell_type": "code",
   "execution_count": 154,
   "metadata": {},
   "outputs": [
    {
     "name": "stdout",
     "output_type": "stream",
     "text": [
      "Accuracy :  0.8949579831932774\n"
     ]
    }
   ],
   "source": [
    "from sklearn.metrics import accuracy_score\n",
    "accu_svm=accuracy_score(Y_test, y_pred_SVM)\n",
    "print (\"Accuracy : \", accu_svm)"
   ]
  },
  {
   "cell_type": "markdown",
   "metadata": {},
   "source": [
    "# Gradient Boost"
   ]
  },
  {
   "cell_type": "code",
   "execution_count": 155,
   "metadata": {},
   "outputs": [],
   "source": [
    "from sklearn.ensemble import GradientBoostingClassifier\n",
    "clf_gbc=GradientBoostingClassifier(n_estimators=50,learning_rate=0.2)\n",
    "clf_gbc.fit(X_train, Y_train)\n",
    "y_pred_gbc=clf_gbc.predict(X_test)"
   ]
  },
  {
   "cell_type": "code",
   "execution_count": 156,
   "metadata": {},
   "outputs": [
    {
     "name": "stdout",
     "output_type": "stream",
     "text": [
      "Accuracy: 0.9411764705882353\n",
      "Precision: 0.9104477611940298\n",
      "Recall: 0.8840579710144928\n",
      "F1-Score: 0.8970588235294118\n",
      "ROC AUC: 0.9242775062173055\n",
      "AUC-PR: 0.8385020458540328\n"
     ]
    }
   ],
   "source": [
    "#Runnung he metrics\n",
    "rc_gbc=roc_auc_score(Y_test,y_pred_gbc)\n",
    "accuracy_gbc = accuracy_score(Y_test, y_pred_gbc)\n",
    "precision_gbc = precision_score(Y_test, y_pred_gbc)\n",
    "recall_gbc = recall_score(Y_test, y_pred_gbc)\n",
    "f1_gbc = f1_score(Y_test, y_pred_gbc)\n",
    "auc_pr_gbc = average_precision_score(Y_test, y_pred_gbc)\n",
    "\n",
    "#printing the Result\n",
    "print(\"Accuracy:\", accuracy_gbc)\n",
    "print(\"Precision:\", precision_gbc)\n",
    "print(\"Recall:\", recall_gbc)\n",
    "print(\"F1-Score:\", f1_gbc)\n",
    "print(\"ROC AUC:\", rc_gbc)\n",
    "print(\"AUC-PR:\", auc_pr_gbc)"
   ]
  },
  {
   "cell_type": "code",
   "execution_count": 157,
   "metadata": {},
   "outputs": [
    {
     "name": "stdout",
     "output_type": "stream",
     "text": [
      "Confusion Matrix:\n",
      "[[163   6]\n",
      " [  8  61]]\n"
     ]
    },
    {
     "data": {
      "image/png": "[encoded data removed]",
      "text/plain": [
       "<Figure size 800x600 with 2 Axes>"
      ]
     },
     "metadata": {},
     "output_type": "display_data"
    }
   ],
   "source": [
    "conf_mat_gbc = confusion_matrix(Y_test,y_pred_gbc)\n",
    "\n",
    "print(\"Confusion Matrix:\")\n",
    "print(conf_mat_gbc)\n",
    "\n",
    "plt.figure(figsize=(8, 6))\n",
    "sns.heatmap(conf_mat_gbc, annot=True, fmt='d', cmap='Blues', annot_kws={\"size\": 16})\n",
    "plt.xlabel('Predicted Labels')\n",
    "plt.ylabel('True Labels')\n",
    "plt.title('Confusion Matrix')\n",
    "plt.show()"
   ]
  },
  {
   "cell_type": "markdown",
   "metadata": {},
   "source": [
    "# DT"
   ]
  },
  {
   "cell_type": "code",
   "execution_count": 158,
   "metadata": {},
   "outputs": [],
   "source": [
    "from sklearn.tree import DecisionTreeClassifier\n",
    "clf_dt = DecisionTreeClassifier(random_state=5)\n",
    "clf_dt.fit(X_train, Y_train)\n",
    "y_pred_dt = clf_dt.predict(X_test)"
   ]
  },
  {
   "cell_type": "code",
   "execution_count": 159,
   "metadata": {},
   "outputs": [
    {
     "name": "stdout",
     "output_type": "stream",
     "text": [
      "Accuracy: 0.9705882352941176\n",
      "Precision: 0.9696969696969697\n",
      "Recall: 0.927536231884058\n",
      "F1-Score: 0.9481481481481481\n",
      "ROC AUC: 0.9578509561787154\n",
      "AUC-PR: 0.9204374767034614\n"
     ]
    }
   ],
   "source": [
    "#Runnung he metrics\n",
    "rc_dt=roc_auc_score(Y_test,y_pred_dt)\n",
    "accuracy_dt = accuracy_score(Y_test, y_pred_dt)\n",
    "precision_dt = precision_score(Y_test, y_pred_dt)\n",
    "recall_dt = recall_score(Y_test, y_pred_dt)\n",
    "f1_dt = f1_score(Y_test, y_pred_dt)\n",
    "auc_pr_dt = average_precision_score(Y_test, y_pred_dt)\n",
    "\n",
    "#printing the Result\n",
    "print(\"Accuracy:\", accuracy_dt)\n",
    "print(\"Precision:\", precision_dt)\n",
    "print(\"Recall:\", recall_dt)\n",
    "print(\"F1-Score:\", f1_dt)\n",
    "print(\"ROC AUC:\", rc_dt)\n",
    "print(\"AUC-PR:\", auc_pr_dt)"
   ]
  },
  {
   "cell_type": "markdown",
   "metadata": {},
   "source": [
    "# RESULT METRICS"
   ]
  },
  {
   "cell_type": "code",
   "execution_count": 160,
   "metadata": {},
   "outputs": [],
   "source": [
    "accu=[]\n",
    "prec=[]\n",
    "reca=[]\n",
    "f1Sc=[]\n",
    "ROCS=[]\n",
    "PRSC=[]"
   ]
  },
  {
   "cell_type": "code",
   "execution_count": 161,
   "metadata": {},
   "outputs": [
    {
     "name": "stdout",
     "output_type": "stream",
     "text": [
      "[0.8781512605042017, 0.8949579831932774, 0.9663865546218487, 0.9411764705882353, 0.9705882352941176]\n",
      "[0.8225806451612904, 0.9230769230769231, 0.9295774647887324, 0.9104477611940298, 0.9696969696969697]\n",
      "[0.7391304347826086, 0.6956521739130435, 0.9565217391304348, 0.8840579710144928, 0.927536231884058]\n",
      "[0.7786259541984734, 0.7933884297520661, 0.9428571428571428, 0.8970588235294118, 0.9481481481481481]\n",
      "[0.8370208386930794, 0.8359917674298946, 0.9634679701569333, 0.9242775062173055, 0.9578509561787154]\n",
      "[0.6836246420026637, 0.7303757623450718, 0.9017660952929855, 0.8385020458540328, 0.9204374767034614]\n"
     ]
    }
   ],
   "source": [
    "accu.append(accuracy_lr)\n",
    "prec.append(precision_lr)\n",
    "reca.append(recall_lr)\n",
    "f1Sc.append(f1_lr)\n",
    "ROCS.append(rc_lr)\n",
    "PRSC.append(auc_pr_lr)\n",
    "\n",
    "\n",
    "accu.append(accuracy_svm)\n",
    "prec.append(precision_svm)\n",
    "reca.append(recall_svm)\n",
    "f1Sc.append(f1_svm)\n",
    "ROCS.append(rc_svm)\n",
    "PRSC.append(auc_pr_svm)\n",
    "\n",
    "\n",
    "accu.append(accuracy_rfc)\n",
    "prec.append(precision_rfc)\n",
    "reca.append(recall_rfc)\n",
    "f1Sc.append(f1_rfc)\n",
    "ROCS.append(rc_rfc)\n",
    "PRSC.append(auc_pr_rfc)\n",
    "\n",
    "\n",
    "accu.append(accuracy_gbc)\n",
    "prec.append(precision_gbc)\n",
    "reca.append(recall_gbc)\n",
    "f1Sc.append(f1_gbc)\n",
    "ROCS.append(rc_gbc)\n",
    "PRSC.append(auc_pr_gbc)\n",
    "\n",
    "\n",
    "#Adding to the List\n",
    "accu.append(accuracy_dt)\n",
    "prec.append(precision_dt)\n",
    "reca.append(recall_dt)\n",
    "f1Sc.append(f1_dt)\n",
    "ROCS.append(rc_dt)\n",
    "PRSC.append(auc_pr_dt)\n",
    "\n",
    "#Printing the List\n",
    "print(accu)\n",
    "print(prec)\n",
    "print(reca)\n",
    "print(f1Sc)\n",
    "print(ROCS)\n",
    "print(PRSC)"
   ]
  },
  {
   "cell_type": "code",
   "execution_count": 162,
   "metadata": {},
   "outputs": [
    {
     "data": {
      "image/png": "[encoded data removed]",
      "text/plain": [
       "<Figure size 900x400 with 1 Axes>"
      ]
     },
     "metadata": {},
     "output_type": "display_data"
    }
   ],
   "source": [
    "#Accu\n",
    "ax=plt.figure(figsize=(9,4))\n",
    "plt.bar(['Logistic Regression','SVM','Random Forest','Gradient Boosting','DT'],accu,label='Accuracy')\n",
    "plt.ylabel('Accuracy Score')\n",
    "plt.xlabel('Algortihms')\n",
    "plt.show()"
   ]
  },
  {
   "cell_type": "code",
   "execution_count": 163,
   "metadata": {},
   "outputs": [
    {
     "data": {
      "image/png": "[encoded data removed]",
      "text/plain": [
       "<Figure size 900x400 with 1 Axes>"
      ]
     },
     "metadata": {},
     "output_type": "display_data"
    }
   ],
   "source": [
    "#Precision\n",
    "ax=plt.figure(figsize=(9,4))\n",
    "plt.bar(['Logistic Regression','SVM','Random Forest','Gradient Boosting','DT'],prec,label='Precision')\n",
    "plt.ylabel('Precision Score')\n",
    "plt.xlabel('Algortihms')\n",
    "plt.show()"
   ]
  },
  {
   "cell_type": "code",
   "execution_count": 164,
   "metadata": {},
   "outputs": [
    {
     "data": {
      "image/png": "[encoded data removed]",
      "text/plain": [
       "<Figure size 900x400 with 1 Axes>"
      ]
     },
     "metadata": {},
     "output_type": "display_data"
    }
   ],
   "source": [
    "#Recall\n",
    "ax=plt.figure(figsize=(9,4))\n",
    "plt.bar(['Logistic Regression','SVM','Random Forest','Gradient Boosting','DT'],reca,label='Recall')\n",
    "plt.ylabel('Recall')\n",
    "plt.xlabel('Algortihms')\n",
    "plt.show()"
   ]
  },
  {
   "cell_type": "code",
   "execution_count": 165,
   "metadata": {},
   "outputs": [
    {
     "data": {
      "image/png": "[encoded data removed]",
      "text/plain": [
       "<Figure size 900x400 with 1 Axes>"
      ]
     },
     "metadata": {},
     "output_type": "display_data"
    }
   ],
   "source": [
    "#F1-Score\n",
    "ax=plt.figure(figsize=(9,4))\n",
    "plt.bar(['Logistic Regression','SVM','Random Forest','Gradient Boosting','DT'],f1Sc,label='F1-Score')\n",
    "plt.ylabel('F1-Score')\n",
    "plt.xlabel('Algortihms')\n",
    "plt.show()"
   ]
  },
  {
   "cell_type": "code",
   "execution_count": 166,
   "metadata": {},
   "outputs": [
    {
     "data": {
      "image/png": "[encoded data removed]",
      "text/plain": [
       "<Figure size 900x400 with 1 Axes>"
      ]
     },
     "metadata": {},
     "output_type": "display_data"
    }
   ],
   "source": [
    "#ROC\n",
    "ax=plt.figure(figsize=(9,4))\n",
    "plt.bar(['Logistic Regression','SVM','Random Forest','Gradient Boosting','DT'],ROCS,label='ROC')\n",
    "plt.ylabel('ROC Score')\n",
    "plt.xlabel('Algortihms')\n",
    "plt.show()"
   ]
  },
  {
   "cell_type": "code",
   "execution_count": 167,
   "metadata": {},
   "outputs": [
    {
     "data": {
      "image/png": "[encoded data removed]",
      "text/plain": [
       "<Figure size 900x400 with 1 Axes>"
      ]
     },
     "metadata": {},
     "output_type": "display_data"
    }
   ],
   "source": [
    "#PR\n",
    "ax=plt.figure(figsize=(9,4))\n",
    "plt.bar(['Logistic Regression','SVM','Random Forest','Gradient Boosting','DT'],PRSC,label='PR')\n",
    "plt.ylabel('PR Score')\n",
    "plt.xlabel('Algortihms')\n",
    "plt.show()"
   ]
  },
  {
   "cell_type": "code",
   "execution_count": 168,
   "metadata": {},
   "outputs": [
    {
     "data": {
      "text/html": [
       "<div>\n",
       "<style scoped>\n",
       "    .dataframe tbody tr th:only-of-type {\n",
       "        vertical-align: middle;\n",
       "    }\n",
       "\n",
       "    .dataframe tbody tr th {\n",
       "        vertical-align: top;\n",
       "    }\n",
       "\n",
       "    .dataframe thead th {\n",
       "        text-align: right;\n",
       "    }\n",
       "</style>\n",
       "<table border=\"1\" class=\"dataframe\">\n",
       "  <thead>\n",
       "    <tr style=\"text-align: right;\">\n",
       "      <th></th>\n",
       "      <th>Logistic Regression</th>\n",
       "      <th>SVM</th>\n",
       "      <th>Random Forest</th>\n",
       "      <th>Gradient Boosting</th>\n",
       "      <th>DT</th>\n",
       "    </tr>\n",
       "  </thead>\n",
       "  <tbody>\n",
       "    <tr>\n",
       "      <th>accuracy</th>\n",
       "      <td>0.878151</td>\n",
       "      <td>0.894958</td>\n",
       "      <td>0.966387</td>\n",
       "      <td>0.941176</td>\n",
       "      <td>0.970588</td>\n",
       "    </tr>\n",
       "    <tr>\n",
       "      <th>precision</th>\n",
       "      <td>0.822581</td>\n",
       "      <td>0.923077</td>\n",
       "      <td>0.929577</td>\n",
       "      <td>0.910448</td>\n",
       "      <td>0.969697</td>\n",
       "    </tr>\n",
       "    <tr>\n",
       "      <th>recall</th>\n",
       "      <td>0.739130</td>\n",
       "      <td>0.695652</td>\n",
       "      <td>0.956522</td>\n",
       "      <td>0.884058</td>\n",
       "      <td>0.927536</td>\n",
       "    </tr>\n",
       "    <tr>\n",
       "      <th>f1Score</th>\n",
       "      <td>0.778626</td>\n",
       "      <td>0.793388</td>\n",
       "      <td>0.942857</td>\n",
       "      <td>0.897059</td>\n",
       "      <td>0.948148</td>\n",
       "    </tr>\n",
       "    <tr>\n",
       "      <th>ROC score</th>\n",
       "      <td>0.837021</td>\n",
       "      <td>0.835992</td>\n",
       "      <td>0.963468</td>\n",
       "      <td>0.924278</td>\n",
       "      <td>0.957851</td>\n",
       "    </tr>\n",
       "    <tr>\n",
       "      <th>PR Score</th>\n",
       "      <td>0.683625</td>\n",
       "      <td>0.730376</td>\n",
       "      <td>0.901766</td>\n",
       "      <td>0.838502</td>\n",
       "      <td>0.920437</td>\n",
       "    </tr>\n",
       "  </tbody>\n",
       "</table>\n",
       "</div>"
      ],
      "text/plain": [
       "           Logistic Regression       SVM  Random Forest  Gradient Boosting  \\\n",
       "accuracy              0.878151  0.894958       0.966387           0.941176   \n",
       "precision             0.822581  0.923077       0.929577           0.910448   \n",
       "recall                0.739130  0.695652       0.956522           0.884058   \n",
       "f1Score               0.778626  0.793388       0.942857           0.897059   \n",
       "ROC score             0.837021  0.835992       0.963468           0.924278   \n",
       "PR Score              0.683625  0.730376       0.901766           0.838502   \n",
       "\n",
       "                 DT  \n",
       "accuracy   0.970588  \n",
       "precision  0.969697  \n",
       "recall     0.927536  \n",
       "f1Score    0.948148  \n",
       "ROC score  0.957851  \n",
       "PR Score   0.920437  "
      ]
     },
     "execution_count": 168,
     "metadata": {},
     "output_type": "execute_result"
    }
   ],
   "source": [
    "import pandas as pd\n",
    "matrix = np.array([accu,prec,reca,f1Sc,ROCS,PRSC])\n",
    "\n",
    "columns = ['Logistic Regression','SVM','Random Forest','Gradient Boosting','DT']\n",
    "index = ['accuracy','precision','recall','f1Score','ROC score','PR Score']\n",
    "\n",
    "df = pd.DataFrame(data=matrix, columns=columns, index=index)\n",
    "\n",
    "# Print the matrix\n",
    "df.head(10)"
   ]
  },
  {
   "cell_type": "code",
   "execution_count": 169,
   "metadata": {},
   "outputs": [
    {
     "data": {
      "text/html": [
       "<div>\n",
       "<style scoped>\n",
       "    .dataframe tbody tr th:only-of-type {\n",
       "        vertical-align: middle;\n",
       "    }\n",
       "\n",
       "    .dataframe tbody tr th {\n",
       "        vertical-align: top;\n",
       "    }\n",
       "\n",
       "    .dataframe thead th {\n",
       "        text-align: right;\n",
       "    }\n",
       "</style>\n",
       "<table border=\"1\" class=\"dataframe\">\n",
       "  <thead>\n",
       "    <tr style=\"text-align: right;\">\n",
       "      <th></th>\n",
       "      <th>Logistic Regression</th>\n",
       "      <th>SVM</th>\n",
       "      <th>Random Forest</th>\n",
       "      <th>Gradient Boosting</th>\n",
       "      <th>DT</th>\n",
       "    </tr>\n",
       "  </thead>\n",
       "  <tbody>\n",
       "    <tr>\n",
       "      <th>accuracy</th>\n",
       "      <td>0.878</td>\n",
       "      <td>0.895</td>\n",
       "      <td>0.966</td>\n",
       "      <td>0.941</td>\n",
       "      <td>0.971</td>\n",
       "    </tr>\n",
       "    <tr>\n",
       "      <th>precision</th>\n",
       "      <td>0.823</td>\n",
       "      <td>0.923</td>\n",
       "      <td>0.930</td>\n",
       "      <td>0.910</td>\n",
       "      <td>0.970</td>\n",
       "    </tr>\n",
       "    <tr>\n",
       "      <th>recall</th>\n",
       "      <td>0.739</td>\n",
       "      <td>0.696</td>\n",
       "      <td>0.957</td>\n",
       "      <td>0.884</td>\n",
       "      <td>0.928</td>\n",
       "    </tr>\n",
       "    <tr>\n",
       "      <th>f1Score</th>\n",
       "      <td>0.779</td>\n",
       "      <td>0.793</td>\n",
       "      <td>0.943</td>\n",
       "      <td>0.897</td>\n",
       "      <td>0.948</td>\n",
       "    </tr>\n",
       "    <tr>\n",
       "      <th>ROC score</th>\n",
       "      <td>0.837</td>\n",
       "      <td>0.836</td>\n",
       "      <td>0.963</td>\n",
       "      <td>0.924</td>\n",
       "      <td>0.958</td>\n",
       "    </tr>\n",
       "  </tbody>\n",
       "</table>\n",
       "</div>"
      ],
      "text/plain": [
       "           Logistic Regression    SVM  Random Forest  Gradient Boosting     DT\n",
       "accuracy                 0.878  0.895          0.966              0.941  0.971\n",
       "precision                0.823  0.923          0.930              0.910  0.970\n",
       "recall                   0.739  0.696          0.957              0.884  0.928\n",
       "f1Score                  0.779  0.793          0.943              0.897  0.948\n",
       "ROC score                0.837  0.836          0.963              0.924  0.958"
      ]
     },
     "execution_count": 169,
     "metadata": {},
     "output_type": "execute_result"
    }
   ],
   "source": [
    "rounded_df = np.round(df, decimals=3)\n",
    "rounded_df.head()"
   ]
  }
 ],
 "metadata": {
  "kernelspec": {
   "display_name": "Python 3",
   "language": "python",
   "name": "python3"
  },
  "language_info": {
   "codemirror_mode": {
    "name": "ipython",
    "version": 3
   },
   "file_extension": ".py",
   "mimetype": "text/x-python",
   "name": "python",
   "nbconvert_exporter": "python",
   "pygments_lexer": "ipython3",
   "version": "3.10.4"
  }
 },
 "nbformat": 4,
 "nbformat_minor": 5
}
